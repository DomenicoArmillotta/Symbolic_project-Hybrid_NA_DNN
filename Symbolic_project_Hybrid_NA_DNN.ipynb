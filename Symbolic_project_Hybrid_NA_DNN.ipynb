{
  "nbformat": 4,
  "nbformat_minor": 0,
  "metadata": {
    "colab": {
      "provenance": [],
      "collapsed_sections": [
        "0o5rh8eUzl39"
      ],
      "include_colab_link": true
    },
    "kernelspec": {
      "name": "python3",
      "display_name": "Python 3"
    },
    "language_info": {
      "name": "python"
    }
  },
  "cells": [
    {
      "cell_type": "markdown",
      "metadata": {
        "id": "view-in-github",
        "colab_type": "text"
      },
      "source": [
        "<a href=\"https://colab.research.google.com/github/DomenicoArmillotta/Symbolic_project-Hybrid_NA_DNN/blob/main/Symbolic_project_Hybrid_NA_DNN.ipynb\" target=\"_parent\"><img src=\"https://colab.research.google.com/assets/colab-badge.svg\" alt=\"Open In Colab\"/></a>"
      ]
    },
    {
      "cell_type": "code",
      "source": [
        "#library\n",
        "import torch\n",
        "import torch.nn as nn\n",
        "import torch.optim as optim\n",
        "import matplotlib.pyplot as plt\n",
        "import numpy as np\n"
      ],
      "metadata": {
        "id": "7NFJwwbVqUEA"
      },
      "execution_count": null,
      "outputs": []
    },
    {
      "cell_type": "code",
      "source": [
        "#input\n",
        "# Dati di input\n",
        "data = np.array([[0, 2.5584],\n",
        "                 [0.5000, 2.6882],\n",
        "                 [1.0000, 2.9627],\n",
        "                 [1.5000, 3.2608],\n",
        "                 [2.0000, 3.6235],\n",
        "                 [2.5000, 3.9376],\n",
        "                 [3.0000, 4.0383],\n",
        "                 [3.5000, 4.1570],\n",
        "                 [4.0000, 4.8498],\n",
        "                 [4.5000, 4.6561],\n",
        "                 [5.0000, 4.5119],\n",
        "                 [5.5000, 4.8346],\n",
        "                 [6.0000, 5.6039],\n",
        "                 [6.5000, 5.5890],\n",
        "                 [7.0000, 6.1914],\n",
        "                 [7.5000, 5.8966],\n",
        "                 [8.0000, 6.3866],\n",
        "                 [8.5000, 6.6909],\n",
        "                 [9.0000, 6.5224],\n",
        "                 [9.5000, 7.1803],\n",
        "                 [10.0000, 7.2537]])\n",
        "\n",
        "x = data[:, 0]\n",
        "y = data[:, 1]\n",
        "l = len(x)\n"
      ],
      "metadata": {
        "id": "gJr4jAZ3qYOZ"
      },
      "execution_count": null,
      "outputs": []
    },
    {
      "cell_type": "markdown",
      "source": [
        "#Standard Linear Regression"
      ],
      "metadata": {
        "id": "SPGWXkxIqETb"
      }
    },
    {
      "cell_type": "code",
      "source": [
        "# Preparazione dei dati\n",
        "x_train = torch.tensor(data[:, 0], dtype=torch.float32).unsqueeze(1)\n",
        "y_train = torch.tensor(data[:, 1], dtype=torch.float32).unsqueeze(1)"
      ],
      "metadata": {
        "id": "QnTfRdhb6Yeg"
      },
      "execution_count": null,
      "outputs": []
    },
    {
      "cell_type": "code",
      "source": [
        "\n",
        "# Definizione della rete neurale\n",
        "class NeuralNet(nn.Module):\n",
        "    def __init__(self):\n",
        "        super(NeuralNet, self).__init__()\n",
        "        self.hidden = nn.Linear(1, 64)  # Hidden layer con 10 neuroni\n",
        "        self.relu = nn.ReLU()\n",
        "        self.output = nn.Linear(64, 1)  # Output layer con 1 neurone\n",
        "\n",
        "    def forward(self, x):\n",
        "        x = self.hidden(x)\n",
        "        x = self.relu(x)\n",
        "        x = self.output(x)\n",
        "        return x\n",
        "\n",
        "# Creazione della rete neurale\n",
        "net = NeuralNet()\n",
        "\n"
      ],
      "metadata": {
        "id": "mE7-nfcw6SoT"
      },
      "execution_count": null,
      "outputs": []
    },
    {
      "cell_type": "code",
      "source": [
        "# Definizione di funzione di perdita e ottimizzatore\n",
        "criterion = nn.MSELoss()\n",
        "optimizer = optim.SGD(net.parameters(), lr=0.01)\n",
        "\n",
        "# Addestramento della rete neurale\n",
        "num_epochs = 1000\n",
        "for epoch in range(num_epochs):\n",
        "    optimizer.zero_grad()  # Azzeramento dei gradienti\n",
        "    outputs = net(x_train)  # Calcolo delle predizioni\n",
        "    loss = criterion(outputs, y_train)  # Calcolo della perdita\n",
        "    loss.backward()  # Calcolo dei gradienti\n",
        "    optimizer.step()  # Aggiornamento dei pesi\n",
        "\n",
        "    if (epoch+1) % 100 == 0:\n",
        "        print(f'Epoch {epoch+1}/{num_epochs}, Loss: {loss.item():.4f}')"
      ],
      "metadata": {
        "colab": {
          "base_uri": "https://localhost:8080/"
        },
        "id": "DtAc8XBt6eoB",
        "outputId": "6a1bd5f9-86c4-42ec-b36c-fa2e14dac057"
      },
      "execution_count": null,
      "outputs": [
        {
          "output_type": "stream",
          "name": "stdout",
          "text": [
            "Epoch 100/1000, Loss: 0.0823\n",
            "Epoch 200/1000, Loss: 0.0617\n",
            "Epoch 300/1000, Loss: 0.0488\n",
            "Epoch 400/1000, Loss: 0.0456\n",
            "Epoch 500/1000, Loss: 0.0441\n",
            "Epoch 600/1000, Loss: 0.0429\n",
            "Epoch 700/1000, Loss: 0.0415\n",
            "Epoch 800/1000, Loss: 0.0394\n",
            "Epoch 900/1000, Loss: 0.0381\n",
            "Epoch 1000/1000, Loss: 0.0374\n"
          ]
        }
      ]
    },
    {
      "cell_type": "code",
      "source": [
        "# Valutazione della rete neurale\n",
        "net.eval()\n",
        "with torch.no_grad():\n",
        "    predicted = net(x_train)\n",
        "\n",
        "# Stampa dei risultati\n",
        "print(f'Predicted:\\n{predicted.squeeze().numpy()}')\n",
        "print(f'Ground Truth:\\n{y_train.squeeze().numpy()}')"
      ],
      "metadata": {
        "colab": {
          "base_uri": "https://localhost:8080/"
        },
        "id": "DebBCcKh6m0e",
        "outputId": "097c991a-069e-4eef-9a67-0986a6d60459"
      },
      "execution_count": null,
      "outputs": [
        {
          "output_type": "stream",
          "name": "stdout",
          "text": [
            "Predicted:\n",
            "[2.4926713 2.7431562 3.0703638 3.4035878 3.5879216 3.7997139 4.0115056\n",
            " 4.223298  4.43509   4.646882  4.858674  5.077204  5.3283415 5.5794783\n",
            " 5.830615  6.081752  6.332888  6.584025  6.8351617 7.0862985 7.3374352]\n",
            "Ground Truth:\n",
            "[2.5584 2.6882 2.9627 3.2608 3.6235 3.9376 4.0383 4.157  4.8498 4.6561\n",
            " 4.5119 4.8346 5.6039 5.589  6.1914 5.8966 6.3866 6.6909 6.5224 7.1803\n",
            " 7.2537]\n"
          ]
        }
      ]
    },
    {
      "cell_type": "code",
      "source": [
        "import matplotlib.pyplot as plt\n",
        "\n",
        "# Tracciamento del plot\n",
        "plt.scatter(data[:, 0], data[:, 1], color='red', label='Dati di input')\n",
        "plt.plot(x_train.numpy(), predicted.numpy(), color='blue', label='Retta calcolata')\n",
        "plt.xlabel('Input')\n",
        "plt.ylabel('Output')\n",
        "plt.title('Regressione')\n",
        "plt.legend()\n",
        "plt.show()\n"
      ],
      "metadata": {
        "colab": {
          "base_uri": "https://localhost:8080/",
          "height": 472
        },
        "id": "HmF62UkZ6nKI",
        "outputId": "0cc9d0ee-5d23-4fbc-ae35-7274250fd9de"
      },
      "execution_count": null,
      "outputs": [
        {
          "output_type": "display_data",
          "data": {
            "text/plain": [
              "<Figure size 640x480 with 1 Axes>"
            ],
            "image/png": "[encoded data removed]"
          },
          "metadata": {}
        }
      ]
    },
    {
      "cell_type": "markdown",
      "source": [
        "#NA LINEAR REGRESSION"
      ],
      "metadata": {
        "id": "284fae55qPiO"
      }
    },
    {
      "cell_type": "markdown",
      "source": [
        "Note :\n",
        "\n",
        "Cosa serve **unsqueeze** :\n",
        "\n",
        "Questa operazione è necessaria nel contesto del custom layer per garantire che le dimensioni dei tensori siano compatibili durante la moltiplicazione tra i pesi e i valori di input. I pesi hanno una forma di (1, input_size), mentre il tensore x[:, 0] ha una forma di (batch_size, 1). Pertanto, la forma dei due tensori sarà compatibile per la moltiplicazione elemento per elemento."
      ],
      "metadata": {
        "id": "m0PSrvd7zOxY"
      }
    },
    {
      "cell_type": "code",
      "source": [
        "#custom layer\n",
        "#batch size = 1\n",
        "#input size = 10 se il mio hidden layer ha 10 neuroni\n",
        "class CustomNASingleNeuronLayer(nn.Module):\n",
        "    def __init__(self, input_size):\n",
        "        super(CustomNASingleNeuronLayer, self).__init__()\n",
        "        self.weight1 = nn.Parameter(torch.randn(1, input_size))\n",
        "        self.weight2 = nn.Parameter(torch.randn(1, input_size))\n",
        "        self.weight3 = nn.Parameter(torch.randn(1, input_size))\n",
        "        self.bias = nn.Parameter(torch.randn(1))\n",
        "\n",
        "    def forward(self, x):\n",
        "        output = x[:, 0].unsqueeze(1) * self.weight1 + x[:, 1].unsqueeze(1) * self.weight2 + x[:, 2].unsqueeze(1) * self.weight3 + self.bias\n",
        "        return output"
      ],
      "metadata": {
        "id": "TgZUPUTSqTEm"
      },
      "execution_count": null,
      "outputs": []
    },
    {
      "cell_type": "code",
      "source": [
        "#definizione della dnn con il layer custom\n",
        "class NeuralNet(nn.Module):\n",
        "    def __init__(self):\n",
        "        super(NeuralNet, self).__init__()\n",
        "        self.hidden = nn.Linear(1, 10)  # Hidden layer con 10 neuroni\n",
        "        self.relu = nn.ReLU()\n",
        "        self.custom_layer = CustomNASingleNeuronLayer(10)  # Custom layer come output layer\n",
        "\n",
        "    def forward(self, x):\n",
        "        x = self.hidden(x)\n",
        "        x = self.relu(x)\n",
        "        x = self.custom_layer(x)  # Passaggio attraverso il custom layer\n",
        "        return x\n",
        "\n",
        "# Creazione della rete neurale\n",
        "net = NeuralNet()\n"
      ],
      "metadata": {
        "id": "lTvfPV8U_xL8"
      },
      "execution_count": 48,
      "outputs": []
    },
    {
      "cell_type": "markdown",
      "source": [
        "## Visualization of custom layer"
      ],
      "metadata": {
        "id": "0o5rh8eUzl39"
      }
    },
    {
      "cell_type": "code",
      "source": [
        "pip install torchviz\n"
      ],
      "metadata": {
        "colab": {
          "base_uri": "https://localhost:8080/"
        },
        "id": "Qb44HAgczco3",
        "outputId": "04d85c57-c400-4d71-b9bc-efcc420a9ca0"
      },
      "execution_count": null,
      "outputs": [
        {
          "output_type": "stream",
          "name": "stdout",
          "text": [
            "Looking in indexes: https://pypi.org/simple, https://us-python.pkg.dev/colab-wheels/public/simple/\n",
            "Collecting torchviz\n",
            "  Downloading torchviz-0.0.2.tar.gz (4.9 kB)\n",
            "  Preparing metadata (setup.py) ... \u001b[?25l\u001b[?25hdone\n",
            "Requirement already satisfied: torch in /usr/local/lib/python3.10/dist-packages (from torchviz) (2.0.1+cu118)\n",
            "Requirement already satisfied: graphviz in /usr/local/lib/python3.10/dist-packages (from torchviz) (0.20.1)\n",
            "Requirement already satisfied: filelock in /usr/local/lib/python3.10/dist-packages (from torch->torchviz) (3.12.0)\n",
            "Requirement already satisfied: typing-extensions in /usr/local/lib/python3.10/dist-packages (from torch->torchviz) (4.5.0)\n",
            "Requirement already satisfied: sympy in /usr/local/lib/python3.10/dist-packages (from torch->torchviz) (1.11.1)\n",
            "Requirement already satisfied: networkx in /usr/local/lib/python3.10/dist-packages (from torch->torchviz) (3.1)\n",
            "Requirement already satisfied: jinja2 in /usr/local/lib/python3.10/dist-packages (from torch->torchviz) (3.1.2)\n",
            "Requirement already satisfied: triton==2.0.0 in /usr/local/lib/python3.10/dist-packages (from torch->torchviz) (2.0.0)\n",
            "Requirement already satisfied: cmake in /usr/local/lib/python3.10/dist-packages (from triton==2.0.0->torch->torchviz) (3.25.2)\n",
            "Requirement already satisfied: lit in /usr/local/lib/python3.10/dist-packages (from triton==2.0.0->torch->torchviz) (16.0.5)\n",
            "Requirement already satisfied: MarkupSafe>=2.0 in /usr/local/lib/python3.10/dist-packages (from jinja2->torch->torchviz) (2.1.2)\n",
            "Requirement already satisfied: mpmath>=0.19 in /usr/local/lib/python3.10/dist-packages (from sympy->torch->torchviz) (1.3.0)\n",
            "Building wheels for collected packages: torchviz\n",
            "  Building wheel for torchviz (setup.py) ... \u001b[?25l\u001b[?25hdone\n",
            "  Created wheel for torchviz: filename=torchviz-0.0.2-py3-none-any.whl size=4131 sha256=dd030ae5c16b6cf328536a8d930697d168e15a9090f910660825a6b7c30e77bd\n",
            "  Stored in directory: /root/.cache/pip/wheels/4c/97/88/a02973217949e0db0c9f4346d154085f4725f99c4f15a87094\n",
            "Successfully built torchviz\n",
            "Installing collected packages: torchviz\n",
            "Successfully installed torchviz-0.0.2\n"
          ]
        }
      ]
    },
    {
      "cell_type": "code",
      "source": [
        "import torch\n",
        "from torchviz import make_dot\n",
        "from google.colab import drive\n",
        "from matplotlib import pyplot as plt\n"
      ],
      "metadata": {
        "id": "y4Fqzdhbzvf4"
      },
      "execution_count": null,
      "outputs": []
    },
    {
      "cell_type": "code",
      "source": [
        "drive.mount('/content/drive')"
      ],
      "metadata": {
        "id": "j5W5Wh3kz7Li",
        "colab": {
          "base_uri": "https://localhost:8080/"
        },
        "outputId": "c40f1265-20d9-40c3-a15d-7a748032bf07"
      },
      "execution_count": null,
      "outputs": [
        {
          "output_type": "stream",
          "name": "stdout",
          "text": [
            "Mounted at /content/drive\n"
          ]
        }
      ]
    },
    {
      "cell_type": "code",
      "source": [
        "import torch\n",
        "from torchviz import make_dot\n",
        "\n",
        "# Definisci un esempio di input\n",
        "input_size = 10\n",
        "x = torch.randn(1, input_size)\n",
        "\n",
        "# Crea il layer personalizzato\n",
        "layer = CustomNASingleNeuronLayer(input_size)\n",
        "\n",
        "# Calcola l'output del layer\n",
        "output = layer(x)\n",
        "\n",
        "# Crea il grafo e visualizzalo\n",
        "dot = make_dot(output, params=dict(layer.named_parameters()))\n",
        "dot.render('/content/drive/MyDrive/symbolic_custom_layer/custom_layer_graph.png')  # Salva il grafo come immagine\n"
      ],
      "metadata": {
        "id": "E1BCIdxfzg4r",
        "colab": {
          "base_uri": "https://localhost:8080/",
          "height": 36
        },
        "outputId": "730caf44-7f54-47b7-a9de-312237ff5f14"
      },
      "execution_count": null,
      "outputs": [
        {
          "output_type": "execute_result",
          "data": {
            "text/plain": [
              "'/content/drive/MyDrive/symbolic_custom_layer/custom_layer_graph.png.pdf'"
            ],
            "application/vnd.google.colaboratory.intrinsic+json": {
              "type": "string"
            }
          },
          "metadata": {},
          "execution_count": 34
        }
      ]
    },
    {
      "cell_type": "code",
      "source": [],
      "metadata": {
        "id": "jjxCxj49_u5s"
      },
      "execution_count": null,
      "outputs": []
    }
  ]
}