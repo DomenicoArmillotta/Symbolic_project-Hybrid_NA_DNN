{
  "nbformat": 4,
  "nbformat_minor": 0,
  "metadata": {
    "colab": {
      "provenance": [],
      "collapsed_sections": [
        "SPGWXkxIqETb",
        "284fae55qPiO",
        "vYdV8nqOQrlE",
        "rYjaFOcRsfet"
      ],
      "include_colab_link": true
    },
    "kernelspec": {
      "name": "python3",
      "display_name": "Python 3"
    },
    "language_info": {
      "name": "python"
    }
  },
  "cells": [
    {
      "cell_type": "markdown",
      "metadata": {
        "id": "view-in-github",
        "colab_type": "text"
      },
      "source": [
        "<a href=\"https://colab.research.google.com/github/DomenicoArmillotta/Symbolic_project-Hybrid_NA_DNN/blob/main/Symbolic_project_Hybrid_NA_DNN.ipynb\" target=\"_parent\"><img src=\"https://colab.research.google.com/assets/colab-badge.svg\" alt=\"Open In Colab\"/></a>"
      ]
    },
    {
      "cell_type": "code",
      "source": [
        "#library\n",
        "import torch\n",
        "import torch.nn as nn\n",
        "import torch.optim as optim\n",
        "import matplotlib.pyplot as plt\n",
        "import torch.nn.utils as nn_utils\n",
        "import numpy as np\n",
        "!pip install torchviz\n",
        "!pip install pydot graphviz\n",
        "import pydot\n",
        "from IPython.display import Image\n",
        "import torch\n",
        "from torchviz import make_dot\n",
        "import tempfile\n",
        "import pydotplus\n",
        "import graphviz\n",
        "from IPython.display import Image"
      ],
      "metadata": {
        "id": "7NFJwwbVqUEA",
        "colab": {
          "base_uri": "https://localhost:8080/"
        },
        "outputId": "4e4f8e66-1481-497b-a916-d70c246e5ec5"
      },
      "execution_count": null,
      "outputs": [
        {
          "output_type": "stream",
          "name": "stdout",
          "text": [
            "Looking in indexes: https://pypi.org/simple, https://us-python.pkg.dev/colab-wheels/public/simple/\n",
            "Collecting torchviz\n",
            "  Downloading torchviz-0.0.2.tar.gz (4.9 kB)\n",
            "  Preparing metadata (setup.py) ... \u001b[?25l\u001b[?25hdone\n",
            "Requirement already satisfied: torch in /usr/local/lib/python3.10/dist-packages (from torchviz) (2.0.1+cu118)\n",
            "Requirement already satisfied: graphviz in /usr/local/lib/python3.10/dist-packages (from torchviz) (0.20.1)\n",
            "Requirement already satisfied: filelock in /usr/local/lib/python3.10/dist-packages (from torch->torchviz) (3.12.0)\n",
            "Requirement already satisfied: typing-extensions in /usr/local/lib/python3.10/dist-packages (from torch->torchviz) (4.5.0)\n",
            "Requirement already satisfied: sympy in /usr/local/lib/python3.10/dist-packages (from torch->torchviz) (1.11.1)\n",
            "Requirement already satisfied: networkx in /usr/local/lib/python3.10/dist-packages (from torch->torchviz) (3.1)\n",
            "Requirement already satisfied: jinja2 in /usr/local/lib/python3.10/dist-packages (from torch->torchviz) (3.1.2)\n",
            "Requirement already satisfied: triton==2.0.0 in /usr/local/lib/python3.10/dist-packages (from torch->torchviz) (2.0.0)\n",
            "Requirement already satisfied: cmake in /usr/local/lib/python3.10/dist-packages (from triton==2.0.0->torch->torchviz) (3.25.2)\n",
            "Requirement already satisfied: lit in /usr/local/lib/python3.10/dist-packages (from triton==2.0.0->torch->torchviz) (16.0.5)\n",
            "Requirement already satisfied: MarkupSafe>=2.0 in /usr/local/lib/python3.10/dist-packages (from jinja2->torch->torchviz) (2.1.2)\n",
            "Requirement already satisfied: mpmath>=0.19 in /usr/local/lib/python3.10/dist-packages (from sympy->torch->torchviz) (1.3.0)\n",
            "Building wheels for collected packages: torchviz\n",
            "  Building wheel for torchviz (setup.py) ... \u001b[?25l\u001b[?25hdone\n",
            "  Created wheel for torchviz: filename=torchviz-0.0.2-py3-none-any.whl size=4131 sha256=ba10772e67f11cea4c265f14d2e32d6c663177b60078c5919a9c7cc7e55165d8\n",
            "  Stored in directory: /root/.cache/pip/wheels/4c/97/88/a02973217949e0db0c9f4346d154085f4725f99c4f15a87094\n",
            "Successfully built torchviz\n",
            "Installing collected packages: torchviz\n",
            "Successfully installed torchviz-0.0.2\n",
            "Looking in indexes: https://pypi.org/simple, https://us-python.pkg.dev/colab-wheels/public/simple/\n",
            "Requirement already satisfied: pydot in /usr/local/lib/python3.10/dist-packages (1.4.2)\n",
            "Requirement already satisfied: graphviz in /usr/local/lib/python3.10/dist-packages (0.20.1)\n",
            "Requirement already satisfied: pyparsing>=2.1.4 in /usr/local/lib/python3.10/dist-packages (from pydot) (3.0.9)\n"
          ]
        }
      ]
    },
    {
      "cell_type": "code",
      "source": [
        "#input\n",
        "# Dati di input standard\n",
        "data = np.array([[0, 2.5584],\n",
        "                 [0.5000, 2.6882],\n",
        "                 [1.0000, 2.9627],\n",
        "                 [1.5000, 3.2608],\n",
        "                 [2.0000, 3.6235],\n",
        "                 [2.5000, 3.9376],\n",
        "                 [3.0000, 4.0383],\n",
        "                 [3.5000, 4.1570],\n",
        "                 [4.0000, 4.8498],\n",
        "                 [4.5000, 4.6561],\n",
        "                 [5.0000, 4.5119],\n",
        "                 [5.5000, 4.8346],\n",
        "                 [6.0000, 5.6039],\n",
        "                 [6.5000, 5.5890],\n",
        "                 [7.0000, 6.1914],\n",
        "                 [7.5000, 5.8966],\n",
        "                 [8.0000, 6.3866],\n",
        "                 [8.5000, 6.6909],\n",
        "                 [9.0000, 6.5224],\n",
        "                 [9.5000, 7.1803],\n",
        "                 [10.0000, 7.2537]])\n",
        "\n",
        "# Dati di input per na  \n",
        "#terza colonna è il target del primo infinitesimo\n",
        "data_na = np.array([[0, 2.5584 , 0.2322],\n",
        "                 [0.5000, 2.6882 , 0.7121],\n",
        "                 [1.0000, 2.9627 , 0.9321],\n",
        "                 [1.5000, 3.2608 , 1.0534],\n",
        "                 [2.0000, 3.6235 , 1.3290],\n",
        "                 [2.5000, 3.9376 , 1.5928],\n",
        "                 [3.0000, 4.0383 , 1.8765],\n",
        "                 [3.5000, 4.1570 , 1.9888],\n",
        "                 [4.0000, 4.8498 , 2.4822],\n",
        "                 [4.5000, 4.6561 , 2.9987],\n",
        "                 [5.0000, 4.5119 , 3.4312],\n",
        "                 [5.5000, 4.8346 , 3.7816],\n",
        "                 [6.0000, 5.6039 , 3.9817],\n",
        "                 [6.5000, 5.5890 , 4.3171],\n",
        "                 [7.0000, 6.1914 , 4.6765],\n",
        "                 [7.5000, 5.8966 , 5.0811],\n",
        "                 [8.0000, 6.3866 , 5.4567],\n",
        "                 [8.5000, 6.6909 , 6.0122],\n",
        "                 [9.0000, 6.5224 , 6.4543],\n",
        "                 [9.5000, 7.1803 , 6.9876],\n",
        "                 [10.0000, 7.2537 , 7.3242]])\n",
        "\n",
        "\n",
        "# Dati di input per na  \n",
        "#terza colonna è il target del primo infinitesimo\n",
        "data_na2 = np.array([[0, 2.5584 , 0.2322 , 0.3333],\n",
        "                 [0.5000, 2.6882 , 0.7121 , 1.5200],\n",
        "                 [1.0000, 2.9627 , 0.9321 , 2.0032],\n",
        "                 [1.5000, 3.2608 , 1.0534 , 2.8029],\n",
        "                 [2.0000, 3.6235 , 1.3290 , 3.4301],\n",
        "                 [2.5000, 3.9376 , 1.5928 , 3.6232],\n",
        "                 [3.0000, 4.0383 , 1.8765 , 4.0382],\n",
        "                 [3.5000, 4.1570 , 1.9888 , 4.3243],\n",
        "                 [4.0000, 4.8498 , 2.4822 , 5.5000],\n",
        "                 [4.5000, 4.6561 , 2.9987 , 6.0121],\n",
        "                 [5.0000, 4.5119 , 3.4312 , 6.3242],\n",
        "                 [5.5000, 4.8346 , 3.7816 , 6.6789],\n",
        "                 [6.0000, 5.6039 , 3.9817 , 6.9039],\n",
        "                 [6.5000, 5.5890 , 4.3171 , 7.1231],\n",
        "                 [7.0000, 6.1914 , 4.6765 , 7.3241],\n",
        "                 [7.5000, 5.8966 , 5.0811 , 7.6271],\n",
        "                 [8.0000, 6.3866 , 5.4567 , 8.0962],\n",
        "                 [8.5000, 6.6909 , 6.0122 , 8.2018],\n",
        "                 [9.0000, 6.5224 , 6.4543 , 8.5124],\n",
        "                 [9.5000, 7.1803 , 6.9876 , 8.9987],\n",
        "                 [10.0000, 7.2537 , 7.3242 , 9.9878]])\n",
        "\n",
        "x = data[:, 0]\n",
        "y = data[:, 1]\n",
        "# y2 = data[:,2]\n",
        "l = len(x)\n"
      ],
      "metadata": {
        "id": "gJr4jAZ3qYOZ"
      },
      "execution_count": null,
      "outputs": []
    },
    {
      "cell_type": "markdown",
      "source": [
        "#Standard Linear Regression"
      ],
      "metadata": {
        "id": "SPGWXkxIqETb"
      }
    },
    {
      "cell_type": "code",
      "source": [
        "# Preparazione dei dati\n",
        "x_train = torch.tensor(data[:, 0], dtype=torch.float32).unsqueeze(1)\n",
        "y_train = torch.tensor(data[:, 1], dtype=torch.float32).unsqueeze(1)"
      ],
      "metadata": {
        "id": "QnTfRdhb6Yeg"
      },
      "execution_count": null,
      "outputs": []
    },
    {
      "cell_type": "code",
      "source": [
        "\n",
        "# Definizione della rete neurale\n",
        "class NeuralNet(nn.Module):\n",
        "    def __init__(self):\n",
        "        super(NeuralNet, self).__init__()\n",
        "        self.hidden = nn.Linear(1, 10)  # Hidden layer con 10 neuroni\n",
        "        self.relu = nn.ReLU()\n",
        "        self.output = nn.Linear(10, 1)  # Output layer con 1 neurone\n",
        "\n",
        "    def forward(self, x):\n",
        "        x = self.hidden(x)\n",
        "        x = self.relu(x)\n",
        "        x = self.output(x)\n",
        "        return x\n",
        "\n",
        "# Creazione della rete neurale\n",
        "net = NeuralNet()\n"
      ],
      "metadata": {
        "id": "mE7-nfcw6SoT"
      },
      "execution_count": null,
      "outputs": []
    },
    {
      "cell_type": "code",
      "source": [
        "# Definizione di funzione di perdita e ottimizzatore\n",
        "criterion = nn.MSELoss()\n",
        "optimizer = optim.SGD(net.parameters(), lr=0.01)\n",
        "\n",
        "# Addestramento della rete neurale\n",
        "num_epochs = 1000\n",
        "for epoch in range(num_epochs):\n",
        "    optimizer.zero_grad()  # Azzeramento dei gradienti\n",
        "    outputs = net(x_train)  # Calcolo delle predizioni\n",
        "    loss = criterion(outputs, y_train)  # Calcolo della perdita\n",
        "    loss.backward()  # Calcolo dei gradienti\n",
        "    optimizer.step()  # Aggiornamento dei pesi\n",
        "\n",
        "    if (epoch+1) % 100 == 0:\n",
        "        print(f'Epoch {epoch+1}/{num_epochs}, Loss: {loss.item():.4f}')"
      ],
      "metadata": {
        "colab": {
          "base_uri": "https://localhost:8080/"
        },
        "id": "DtAc8XBt6eoB",
        "outputId": "44c6220a-4905-480f-9ecf-4b9af5766700"
      },
      "execution_count": null,
      "outputs": [
        {
          "output_type": "stream",
          "name": "stdout",
          "text": [
            "Epoch 100/1000, Loss: 0.0978\n",
            "Epoch 200/1000, Loss: 0.0416\n",
            "Epoch 300/1000, Loss: 0.0403\n",
            "Epoch 400/1000, Loss: 0.0399\n",
            "Epoch 500/1000, Loss: 0.0395\n",
            "Epoch 600/1000, Loss: 0.0392\n",
            "Epoch 700/1000, Loss: 0.0390\n",
            "Epoch 800/1000, Loss: 0.0389\n",
            "Epoch 900/1000, Loss: 0.0387\n",
            "Epoch 1000/1000, Loss: 0.0386\n"
          ]
        }
      ]
    },
    {
      "cell_type": "code",
      "source": [
        "# Valutazione della rete neurale\n",
        "net.eval()\n",
        "with torch.no_grad():\n",
        "    predicted = net(x_train)\n",
        "\n",
        "# Stampa dei risultati\n",
        "print(f'Predicted:\\n{predicted.squeeze().numpy()}')\n",
        "print(f'Ground Truth:\\n{y_train.squeeze().numpy()}')"
      ],
      "metadata": {
        "colab": {
          "base_uri": "https://localhost:8080/"
        },
        "id": "DebBCcKh6m0e",
        "outputId": "cc3e8650-eed0-45df-eac3-b3b62ed53bc3"
      },
      "execution_count": null,
      "outputs": [
        {
          "output_type": "stream",
          "name": "stdout",
          "text": [
            "Predicted:\n",
            "[2.5509129 2.797182  3.042615  3.2878647 3.522109  3.755981  3.9898534\n",
            " 4.223726  4.457598  4.6914706 4.9253426 5.1592155 5.393087  5.62696\n",
            " 5.860832  6.0947037 6.3285766 6.562449  6.7964106 7.036259  7.2761073]\n",
            "Ground Truth:\n",
            "[2.5584 2.6882 2.9627 3.2608 3.6235 3.9376 4.0383 4.157  4.8498 4.6561\n",
            " 4.5119 4.8346 5.6039 5.589  6.1914 5.8966 6.3866 6.6909 6.5224 7.1803\n",
            " 7.2537]\n"
          ]
        }
      ]
    },
    {
      "cell_type": "code",
      "source": [
        "import matplotlib.pyplot as plt\n",
        "\n",
        "# Tracciamento del plot\n",
        "plt.scatter(data[:, 0], data[:, 1], color='red', label='Dati di input')\n",
        "plt.plot(x_train.numpy(), predicted.numpy(), color='blue', label='Retta calcolata')\n",
        "plt.xlabel('Input')\n",
        "plt.ylabel('Output')\n",
        "plt.title('Regressione')\n",
        "plt.legend()\n",
        "plt.show()\n"
      ],
      "metadata": {
        "colab": {
          "base_uri": "https://localhost:8080/",
          "height": 472
        },
        "id": "HmF62UkZ6nKI",
        "outputId": "ec033a8b-1a45-4abf-f34e-76a74c6323a7"
      },
      "execution_count": null,
      "outputs": [
        {
          "output_type": "display_data",
          "data": {
            "text/plain": [
              "<Figure size 640x480 with 1 Axes>"
            ],
            "image/png": "[encoded data removed]"
          },
          "metadata": {}
        }
      ]
    },
    {
      "cell_type": "code",
      "source": [
        "# Salva l'immagine del grafico della rete neurale con i pesi\n",
        "dummy_input = torch.randn(1, 1)\n",
        "output = net(dummy_input)\n",
        "dot = make_dot(output, params=dict(net.named_parameters()))\n",
        "dot.format = 'png'\n",
        "dot.render('/content/drive/MyDrive/symbolic_custom_layer/network_graph')\n"
      ],
      "metadata": {
        "colab": {
          "base_uri": "https://localhost:8080/",
          "height": 36
        },
        "id": "rpcWoa-qHf2Y",
        "outputId": "71f24023-b067-4b03-a1f2-25902862290b"
      },
      "execution_count": null,
      "outputs": [
        {
          "output_type": "execute_result",
          "data": {
            "text/plain": [
              "'/content/drive/MyDrive/symbolic_custom_layer/network_graph.png'"
            ],
            "application/vnd.google.colaboratory.intrinsic+json": {
              "type": "string"
            }
          },
          "metadata": {},
          "execution_count": 17
        }
      ]
    },
    {
      "cell_type": "code",
      "source": [],
      "metadata": {
        "colab": {
          "base_uri": "https://localhost:8080/",
          "height": 380
        },
        "id": "xetgk__SHd6I",
        "outputId": "fd6597e6-8ea0-4ee3-9d2c-7c1a5f8b2966"
      },
      "execution_count": null,
      "outputs": [
        {
          "output_type": "error",
          "ename": "TypeError",
          "evalue": "ignored",
          "traceback": [
            "\u001b[0;31m---------------------------------------------------------------------------\u001b[0m",
            "\u001b[0;31mTypeError\u001b[0m                                 Traceback (most recent call last)",
            "\u001b[0;32m<ipython-input-14-e939f47ab00a>\u001b[0m in \u001b[0;36m<cell line: 1>\u001b[0;34m()\u001b[0m\n\u001b[0;32m----> 1\u001b[0;31m \u001b[0moutput\u001b[0m \u001b[0;34m=\u001b[0m \u001b[0mnet\u001b[0m\u001b[0;34m(\u001b[0m\u001b[0mdata\u001b[0m\u001b[0;34m)\u001b[0m\u001b[0;34m\u001b[0m\u001b[0;34m\u001b[0m\u001b[0m\n\u001b[0m\u001b[1;32m      2\u001b[0m \u001b[0;34m\u001b[0m\u001b[0m\n\u001b[1;32m      3\u001b[0m \u001b[0mdot\u001b[0m \u001b[0;34m=\u001b[0m \u001b[0mmake_dot\u001b[0m\u001b[0;34m(\u001b[0m\u001b[0moutput\u001b[0m\u001b[0;34m,\u001b[0m \u001b[0mparams\u001b[0m\u001b[0;34m=\u001b[0m\u001b[0mdict\u001b[0m\u001b[0;34m(\u001b[0m\u001b[0mnet\u001b[0m\u001b[0;34m.\u001b[0m\u001b[0mnamed_parameters\u001b[0m\u001b[0;34m(\u001b[0m\u001b[0;34m)\u001b[0m\u001b[0;34m)\u001b[0m\u001b[0;34m)\u001b[0m\u001b[0;34m\u001b[0m\u001b[0;34m\u001b[0m\u001b[0m\n\u001b[1;32m      4\u001b[0m \u001b[0mdot\u001b[0m\u001b[0;34m.\u001b[0m\u001b[0mrender\u001b[0m\u001b[0;34m(\u001b[0m\u001b[0;34m'/content/drive/MyDrive/symbolic_custom_layer/rete.png'\u001b[0m\u001b[0;34m)\u001b[0m  \u001b[0;31m# Salva il grafo come immagine\u001b[0m\u001b[0;34m\u001b[0m\u001b[0;34m\u001b[0m\u001b[0m\n\u001b[1;32m      5\u001b[0m \u001b[0;34m\u001b[0m\u001b[0m\n",
            "\u001b[0;32m/usr/local/lib/python3.10/dist-packages/torch/nn/modules/module.py\u001b[0m in \u001b[0;36m_call_impl\u001b[0;34m(self, *args, **kwargs)\u001b[0m\n\u001b[1;32m   1499\u001b[0m                 \u001b[0;32mor\u001b[0m \u001b[0m_global_backward_pre_hooks\u001b[0m \u001b[0;32mor\u001b[0m \u001b[0m_global_backward_hooks\u001b[0m\u001b[0;34m\u001b[0m\u001b[0;34m\u001b[0m\u001b[0m\n\u001b[1;32m   1500\u001b[0m                 or _global_forward_hooks or _global_forward_pre_hooks):\n\u001b[0;32m-> 1501\u001b[0;31m             \u001b[0;32mreturn\u001b[0m \u001b[0mforward_call\u001b[0m\u001b[0;34m(\u001b[0m\u001b[0;34m*\u001b[0m\u001b[0margs\u001b[0m\u001b[0;34m,\u001b[0m \u001b[0;34m**\u001b[0m\u001b[0mkwargs\u001b[0m\u001b[0;34m)\u001b[0m\u001b[0;34m\u001b[0m\u001b[0;34m\u001b[0m\u001b[0m\n\u001b[0m\u001b[1;32m   1502\u001b[0m         \u001b[0;31m# Do not call functions when jit is used\u001b[0m\u001b[0;34m\u001b[0m\u001b[0;34m\u001b[0m\u001b[0m\n\u001b[1;32m   1503\u001b[0m         \u001b[0mfull_backward_hooks\u001b[0m\u001b[0;34m,\u001b[0m \u001b[0mnon_full_backward_hooks\u001b[0m \u001b[0;34m=\u001b[0m \u001b[0;34m[\u001b[0m\u001b[0;34m]\u001b[0m\u001b[0;34m,\u001b[0m \u001b[0;34m[\u001b[0m\u001b[0;34m]\u001b[0m\u001b[0;34m\u001b[0m\u001b[0;34m\u001b[0m\u001b[0m\n",
            "\u001b[0;32m<ipython-input-10-5d9ad2ffd244>\u001b[0m in \u001b[0;36mforward\u001b[0;34m(self, x)\u001b[0m\n\u001b[1;32m      8\u001b[0m \u001b[0;34m\u001b[0m\u001b[0m\n\u001b[1;32m      9\u001b[0m     \u001b[0;32mdef\u001b[0m \u001b[0mforward\u001b[0m\u001b[0;34m(\u001b[0m\u001b[0mself\u001b[0m\u001b[0;34m,\u001b[0m \u001b[0mx\u001b[0m\u001b[0;34m)\u001b[0m\u001b[0;34m:\u001b[0m\u001b[0;34m\u001b[0m\u001b[0;34m\u001b[0m\u001b[0m\n\u001b[0;32m---> 10\u001b[0;31m         \u001b[0mx\u001b[0m \u001b[0;34m=\u001b[0m \u001b[0mself\u001b[0m\u001b[0;34m.\u001b[0m\u001b[0mhidden\u001b[0m\u001b[0;34m(\u001b[0m\u001b[0mx\u001b[0m\u001b[0;34m)\u001b[0m\u001b[0;34m\u001b[0m\u001b[0;34m\u001b[0m\u001b[0m\n\u001b[0m\u001b[1;32m     11\u001b[0m         \u001b[0mx\u001b[0m \u001b[0;34m=\u001b[0m \u001b[0mself\u001b[0m\u001b[0;34m.\u001b[0m\u001b[0mrelu\u001b[0m\u001b[0;34m(\u001b[0m\u001b[0mx\u001b[0m\u001b[0;34m)\u001b[0m\u001b[0;34m\u001b[0m\u001b[0;34m\u001b[0m\u001b[0m\n\u001b[1;32m     12\u001b[0m         \u001b[0mx\u001b[0m \u001b[0;34m=\u001b[0m \u001b[0mself\u001b[0m\u001b[0;34m.\u001b[0m\u001b[0moutput\u001b[0m\u001b[0;34m(\u001b[0m\u001b[0mx\u001b[0m\u001b[0;34m)\u001b[0m\u001b[0;34m\u001b[0m\u001b[0;34m\u001b[0m\u001b[0m\n",
            "\u001b[0;32m/usr/local/lib/python3.10/dist-packages/torch/nn/modules/module.py\u001b[0m in \u001b[0;36m_call_impl\u001b[0;34m(self, *args, **kwargs)\u001b[0m\n\u001b[1;32m   1499\u001b[0m                 \u001b[0;32mor\u001b[0m \u001b[0m_global_backward_pre_hooks\u001b[0m \u001b[0;32mor\u001b[0m \u001b[0m_global_backward_hooks\u001b[0m\u001b[0;34m\u001b[0m\u001b[0;34m\u001b[0m\u001b[0m\n\u001b[1;32m   1500\u001b[0m                 or _global_forward_hooks or _global_forward_pre_hooks):\n\u001b[0;32m-> 1501\u001b[0;31m             \u001b[0;32mreturn\u001b[0m \u001b[0mforward_call\u001b[0m\u001b[0;34m(\u001b[0m\u001b[0;34m*\u001b[0m\u001b[0margs\u001b[0m\u001b[0;34m,\u001b[0m \u001b[0;34m**\u001b[0m\u001b[0mkwargs\u001b[0m\u001b[0;34m)\u001b[0m\u001b[0;34m\u001b[0m\u001b[0;34m\u001b[0m\u001b[0m\n\u001b[0m\u001b[1;32m   1502\u001b[0m         \u001b[0;31m# Do not call functions when jit is used\u001b[0m\u001b[0;34m\u001b[0m\u001b[0;34m\u001b[0m\u001b[0m\n\u001b[1;32m   1503\u001b[0m         \u001b[0mfull_backward_hooks\u001b[0m\u001b[0;34m,\u001b[0m \u001b[0mnon_full_backward_hooks\u001b[0m \u001b[0;34m=\u001b[0m \u001b[0;34m[\u001b[0m\u001b[0;34m]\u001b[0m\u001b[0;34m,\u001b[0m \u001b[0;34m[\u001b[0m\u001b[0;34m]\u001b[0m\u001b[0;34m\u001b[0m\u001b[0;34m\u001b[0m\u001b[0m\n",
            "\u001b[0;32m/usr/local/lib/python3.10/dist-packages/torch/nn/modules/linear.py\u001b[0m in \u001b[0;36mforward\u001b[0;34m(self, input)\u001b[0m\n\u001b[1;32m    112\u001b[0m \u001b[0;34m\u001b[0m\u001b[0m\n\u001b[1;32m    113\u001b[0m     \u001b[0;32mdef\u001b[0m \u001b[0mforward\u001b[0m\u001b[0;34m(\u001b[0m\u001b[0mself\u001b[0m\u001b[0;34m,\u001b[0m \u001b[0minput\u001b[0m\u001b[0;34m:\u001b[0m \u001b[0mTensor\u001b[0m\u001b[0;34m)\u001b[0m \u001b[0;34m->\u001b[0m \u001b[0mTensor\u001b[0m\u001b[0;34m:\u001b[0m\u001b[0;34m\u001b[0m\u001b[0;34m\u001b[0m\u001b[0m\n\u001b[0;32m--> 114\u001b[0;31m         \u001b[0;32mreturn\u001b[0m \u001b[0mF\u001b[0m\u001b[0;34m.\u001b[0m\u001b[0mlinear\u001b[0m\u001b[0;34m(\u001b[0m\u001b[0minput\u001b[0m\u001b[0;34m,\u001b[0m \u001b[0mself\u001b[0m\u001b[0;34m.\u001b[0m\u001b[0mweight\u001b[0m\u001b[0;34m,\u001b[0m \u001b[0mself\u001b[0m\u001b[0;34m.\u001b[0m\u001b[0mbias\u001b[0m\u001b[0;34m)\u001b[0m\u001b[0;34m\u001b[0m\u001b[0;34m\u001b[0m\u001b[0m\n\u001b[0m\u001b[1;32m    115\u001b[0m \u001b[0;34m\u001b[0m\u001b[0m\n\u001b[1;32m    116\u001b[0m     \u001b[0;32mdef\u001b[0m \u001b[0mextra_repr\u001b[0m\u001b[0;34m(\u001b[0m\u001b[0mself\u001b[0m\u001b[0;34m)\u001b[0m \u001b[0;34m->\u001b[0m \u001b[0mstr\u001b[0m\u001b[0;34m:\u001b[0m\u001b[0;34m\u001b[0m\u001b[0;34m\u001b[0m\u001b[0m\n",
            "\u001b[0;31mTypeError\u001b[0m: linear(): argument 'input' (position 1) must be Tensor, not numpy.ndarray"
          ]
        }
      ]
    },
    {
      "cell_type": "markdown",
      "source": [
        "#NA LINEAR REGRESSION  ➝ 1ª implementazione"
      ],
      "metadata": {
        "id": "284fae55qPiO"
      }
    },
    {
      "cell_type": "markdown",
      "source": [
        "ERRORI : \n",
        "loss troppo alta , cose provate : \n",
        "\n",
        "\n",
        "*   modifica inizializzazzione weight 1 \n",
        "*   numero neuroni hidden\n",
        "*   aumentato # epoch\n",
        "*   diminuito lr\n",
        "\n"
      ],
      "metadata": {
        "id": "m0PSrvd7zOxY"
      }
    },
    {
      "cell_type": "code",
      "source": [
        "# Preparazione dei dati\n",
        "x_train = torch.tensor(data_na[:, 0], dtype=torch.float32).unsqueeze(1)\n",
        "y_train = torch.tensor(data_na[:, 1], dtype=torch.float32).unsqueeze(1) #parte standard (1 problema)\n",
        "y2_train = torch.tensor(data_na[:, 2], dtype=torch.float32).unsqueeze(1) #parte infinitesima (2 problema)"
      ],
      "metadata": {
        "id": "b-jbuGiyaUxn"
      },
      "execution_count": null,
      "outputs": []
    },
    {
      "cell_type": "code",
      "source": [
        "#custom layer\n",
        "#batch size = 1\n",
        "#input size = 10 se il mio hidden layer ha 10 neuroni\n",
        "import torch.nn.init as init\n",
        "\n",
        "class CustomNASingleNeuronLayer(nn.Module):\n",
        "    def __init__(self, input_size , monosemio):\n",
        "        super(CustomNASingleNeuronLayer, self).__init__()\n",
        "        #self.weight1 = nn.Parameter(torch.randn(1, input_size))\n",
        "        self.weight1 = nn.Parameter(torch.empty(1, input_size))\n",
        "        self.weight2 = nn.Parameter(torch.randn(1, input_size))\n",
        "        self.bias = nn.Parameter(torch.randn(1))\n",
        "        self.monosemio = monosemio\n",
        "        init.xavier_uniform_(self.weight1)\n",
        "\n",
        "    def forward(self, x):\n",
        "        output = x[:, 0].unsqueeze(1) * self.weight1 + x[:, 1].unsqueeze(1) * self.weight2 + self.bias\n",
        "        #print(\"Forward output:\", output)  # Stampa il valore di output\n",
        "        return output\n",
        "\n",
        "\n",
        "    def custom_backward(self, grad_output):\n",
        "        if self.monosemio == 1:\n",
        "            grad_input = torch.matmul(grad_output, self.weight1.t())\n",
        "            grad_weight = torch.matmul(x.t(), grad_output)\n",
        "            self.weight1.grad = grad_weight\n",
        "            self.weight2.grad = None\n",
        "            print(\"Grad weight1:\", grad_weight)\n",
        "            print(\"ciao\")\n",
        "        elif self.monosemio == 2:\n",
        "            grad_input = torch.matmul(grad_output, self.weight2.t())\n",
        "            grad_weight = torch.matmul(x.t(), grad_output)\n",
        "            self.weight1.grad = None\n",
        "            self.weight2.grad = grad_weight\n",
        "            print(\"Grad weight2:\", grad_weight)\n",
        "            print(\"ciao2\")\n",
        "        else:\n",
        "            raise ValueError(\"Il valore di monosemio deve essere 1 o 2.\")\n",
        "\n",
        "        grad_bias = grad_output.mean(dim=0)\n",
        "        self.bias.grad = grad_bias\n",
        "        print(\"ciao3\")\n",
        "\n",
        "        print(\"Custom backward - Grad input:\", grad_input)  # Stampa il gradiente di input\n",
        "        print(\"Custom backward - Grad weight1:\", self.weight1.grad)  # Stampa il gradiente di weight1\n",
        "        print(\"Custom backward - Grad weight2:\", self.weight2.grad)  # Stampa il gradiente di weight2\n",
        "        print(\"Custom backward - Grad bias:\", self.bias.grad)  # Stampa il gradiente del bias\n",
        "\n",
        "        return grad_input\n",
        "\n",
        "    def set_monosemio(self, monosemio):\n",
        "        self.monosemio = monosemio"
      ],
      "metadata": {
        "id": "TgZUPUTSqTEm"
      },
      "execution_count": null,
      "outputs": []
    },
    {
      "cell_type": "markdown",
      "source": [
        "Ultimo layer NA"
      ],
      "metadata": {
        "id": "2Y97g2ZvD6H0"
      }
    },
    {
      "cell_type": "code",
      "source": [
        "#definizione della dnn con il layer custom\n",
        "class NeuralNet(nn.Module):\n",
        "    def __init__(self , monosemio):\n",
        "        super(NeuralNet, self).__init__()\n",
        "        self.hidden = nn.Linear(1, 64)  # Hidden layer con 10 neuroni\n",
        "        self.relu = nn.ReLU()\n",
        "        self.custom_layer = CustomNASingleNeuronLayer(64, monosemio)  # Custom layer come output layer\n",
        "\n",
        "\n",
        "    def forward(self, x):\n",
        "        x = self.hidden(x)\n",
        "        x = self.relu(x)\n",
        "        x = self.custom_layer(x)  # Passaggio attraverso il custom layer\n",
        "        #print(\"Forward output:\", x)  # Stampa il valore di output\n",
        "        return x\n",
        "\n",
        "\n",
        "    def backward(self, loss):\n",
        "        loss.backward()  # Esegue la backward sulla loss\n",
        "        #print(\"Backward - Loss:\", loss)  # Stampa il valore della loss\n",
        "        self.custom_layer.custom_backward(loss.grad_fn)\n",
        "        print('AAAAAAAAAAAAAAAAAAAAAAA')\n",
        "\n",
        "\n",
        "\n",
        "# Creazione della rete neurale\n",
        "monosemio = 1\n",
        "net = NeuralNet(monosemio)\n"
      ],
      "metadata": {
        "id": "lTvfPV8U_xL8"
      },
      "execution_count": null,
      "outputs": []
    },
    {
      "cell_type": "code",
      "source": [
        "#mse calcolata in base al monosemia\n",
        "#custom mse\n",
        "import torch\n",
        "import torch.nn as nn\n",
        "\n",
        "class CustomMSELoss(nn.Module):\n",
        "    def __init__(self, monosemio):\n",
        "        super(CustomMSELoss, self).__init__()\n",
        "        self.monosemio = monosemio\n",
        "\n",
        "    def forward(self, input, target , target1):\n",
        "        if self.monosemio == 1:\n",
        "            #target parte intera\n",
        "            loss = torch.mean(torch.pow((input[:, 0] - target), 2))  # Considera solo il valore associato al weight1\n",
        "            #print(loss)\n",
        "        elif self.monosemio == 2:\n",
        "            loss = torch.mean(torch.pow((input[:, 1] - target1), 2))  # Considera solo il valore associato al weight2\n",
        "        else : \n",
        "            raise ValueError(\"Il valore di monosemio deve essere 1, 2 o 3.\")\n",
        "        return loss\n",
        "\n",
        "\n",
        "#criterio\n",
        "#monosemio = 2  # Sostituisci con il valore desiderato (1, 2 o 3) in base a che monosemio voglio applicare la loss\n",
        "#criterion = CustomMSELoss(monosemio)\n",
        "\n",
        "#fare la loss\n",
        "#loss = criterion(outputs, y_train)  # Calcolo della perdita con la custom loss"
      ],
      "metadata": {
        "id": "8rzM8EVTb7-u"
      },
      "execution_count": null,
      "outputs": []
    },
    {
      "cell_type": "code",
      "source": [
        "# Addestramento della rete neurale\n",
        "num_epochs_per_monosemio = 1000\n",
        "threshold = 1e-2\n",
        "old_grad = None  # Inizializza old_grad come un tensore vuoto\n",
        "optimizer = optim.SGD(net.parameters(), lr=0.01)\n",
        "loss_values = []  # Lista per memorizzare i valori di loss\n",
        "current_loss = 300\n",
        "\n",
        "for monosemio in range(1, 2):\n",
        "    #optimizer = optim.SGD(net.parameters(), lr=0.01)  # Reinizializzazione dell'ottimizzatore per ogni monosemio\n",
        "    epoch = 0\n",
        "    #se sto elaborando il monosemio = 1 --> loss sulla parte standard\n",
        "    #se sto elaborando il monosemio = 2 --> loss sul primo infinitesimo\n",
        "    criterion = CustomMSELoss(monosemio)\n",
        "\n",
        "    optimizer_custom_layer_w1 = optim.SGD([net.custom_layer.weight1 , net.custom_layer.bias], lr=0.01)\n",
        "    optimizer_custom_layer_w2 = optim.SGD([net.custom_layer.weight2 , net.custom_layer.bias], lr=0.01)\n",
        "    optimizer_hidden_layer = optim.SGD([net.hidden.weight, net.hidden.bias], lr=0.01)\n",
        "\n",
        "\n",
        "    # Elimina il grafo di autograd dai tensori coinvolti prima di partire con il monosemio 2\n",
        "    if monosemio == 2 and epoch==0 :\n",
        "      #old_grad = net.hidden.weight.grad.clone()\n",
        "      net.custom_layer.weight1.detach_()\n",
        "      net.custom_layer.bias.detach_()\n",
        "      net.hidden.weight.detach_()\n",
        "      net.hidden.bias.detach_()\n",
        "\n",
        "    while epoch < num_epochs_per_monosemio and current_loss > threshold:\n",
        "        \n",
        "        if monosemio == 1:\n",
        "            optimizer_custom_layer_w1.zero_grad()  # Azzeramento dei gradienti del custom layer\n",
        "            optimizer_hidden_layer.zero_grad()  # Azzeramento dei gradienti del custom layer\n",
        "            net.custom_layer.weight2.grad = None\n",
        "\n",
        "            outputs = net(x_train)\n",
        "            loss = criterion(outputs, y_train, y2_train)\n",
        "            loss.backward()\n",
        "            optimizer_custom_layer_w1.step()\n",
        "            optimizer_hidden_layer.step()\n",
        "            old_grad = net.hidden.weight.grad\n",
        "            current_loss = loss.item()\n",
        "            loss_values.append(current_loss)  # Aggiungi il valore di loss alla lista\n",
        "\n",
        "\n",
        "        elif monosemio == 2:\n",
        "            optimizer_custom_layer_w2.zero_grad()\n",
        "            optimizer_hidden_layer.zero_grad()\n",
        "\n",
        "            outputs = net(x_train)\n",
        "            loss = criterion(outputs, y_train, y2_train)\n",
        "            loss.backward(retain_graph=True)\n",
        "            #print(old_grad)\n",
        "            if old_grad is not None:\n",
        "                new_grad = net.hidden.weight.grad\n",
        "                projection = new_grad - torch.mm(new_grad, old_grad.t()) * old_grad / torch.mm(old_grad, old_grad.t())\n",
        "                nn_utils.clip_grad_norm_(projection, max_norm=1.0)  # Normalizza i gradienti\n",
        "                projection = projection.reshape(net.hidden.weight.grad.shape)\n",
        "                net.hidden.weight.grad = projection\n",
        "\n",
        "            optimizer_custom_layer_w2.step()\n",
        "            optimizer_hidden_layer.step()\n",
        "\n",
        "            #old_grad = -net.hidden.weight.grad\n",
        "\n",
        "        else:\n",
        "            raise ValueError(\"Il valore di monosemio deve essere compreso tra 1 e 2.\")\n",
        "\n",
        "        current_loss = loss.item()\n",
        "        epoch += 1\n",
        "\n",
        "        if epoch % 100 == 0:\n",
        "            print(f'Monosemio: {monosemio}, Epoch {epoch}/{num_epochs_per_monosemio}, Loss: {current_loss:.4f}')\n",
        "\n",
        "# Traccia il grafico della loss\n",
        "plt.plot(range(len(loss_values)), loss_values)\n",
        "plt.xlabel('Epoch')\n",
        "plt.ylabel('Loss')\n",
        "plt.title('Training Loss')\n",
        "plt.show()"
      ],
      "metadata": {
        "id": "aMDengn_z6kj",
        "colab": {
          "base_uri": "https://localhost:8080/",
          "height": 646
        },
        "outputId": "3bdb2c1a-2f7c-41a9-afea-d6cd38b6f14f"
      },
      "execution_count": null,
      "outputs": [
        {
          "output_type": "stream",
          "name": "stdout",
          "text": [
            "Monosemio: 1, Epoch 100/1000, Loss: 2.5228\n",
            "Monosemio: 1, Epoch 200/1000, Loss: 2.0696\n",
            "Monosemio: 1, Epoch 300/1000, Loss: 2.0616\n",
            "Monosemio: 1, Epoch 400/1000, Loss: 2.0615\n",
            "Monosemio: 1, Epoch 500/1000, Loss: 2.0615\n",
            "Monosemio: 1, Epoch 600/1000, Loss: 2.0615\n",
            "Monosemio: 1, Epoch 700/1000, Loss: 2.0615\n",
            "Monosemio: 1, Epoch 800/1000, Loss: 2.0615\n",
            "Monosemio: 1, Epoch 900/1000, Loss: 2.0615\n",
            "Monosemio: 1, Epoch 1000/1000, Loss: 2.0615\n"
          ]
        },
        {
          "output_type": "display_data",
          "data": {
            "text/plain": [
              "<Figure size 640x480 with 1 Axes>"
            ],
            "image/png": "[encoded data removed]"
          },
          "metadata": {}
        }
      ]
    },
    {
      "cell_type": "code",
      "source": [
        "import matplotlib.pyplot as plt\n",
        "import numpy as np\n",
        "\n",
        "# Dopo l'addestramento\n",
        "weight1 = net.custom_layer.weight1.detach().numpy()\n",
        "bias = net.custom_layer.bias.detach().numpy()\n",
        "\n",
        "# Punti di input per la regressione\n",
        "x = data_na[:, 0]\n",
        "y = data_na[:, 1]\n",
        "\n",
        "# Genera dei punti x per il plot\n",
        "x_plot = np.linspace(min(x), max(x), 100)\n",
        "# Calcola i corrispondenti valori y predetti utilizzando la regressione lineare\n",
        "y_plot = weight1[0][0] * x_plot + bias[0]\n",
        "\n",
        "# Plotta i punti di input\n",
        "plt.scatter(x, y, label='Input Data')\n",
        "# Plotta la linea di regressione\n",
        "plt.plot(x_plot, y_plot, color='red', label='Regression Line')\n",
        "plt.xlabel('x')\n",
        "plt.ylabel('y')\n",
        "plt.legend()\n",
        "plt.show()\n"
      ],
      "metadata": {
        "colab": {
          "base_uri": "https://localhost:8080/",
          "height": 449
        },
        "id": "uE5_lJzHCfCj",
        "outputId": "5d18dc85-ff28-48d2-b494-e956cf913fb4"
      },
      "execution_count": null,
      "outputs": [
        {
          "output_type": "display_data",
          "data": {
            "text/plain": [
              "<Figure size 640x480 with 1 Axes>"
            ],
            "image/png": "[encoded data removed]"
          },
          "metadata": {}
        }
      ]
    },
    {
      "cell_type": "markdown",
      "source": [
        "#TEST 2  ➝ 2ª prova"
      ],
      "metadata": {
        "id": "nxCA5mQNrrcL"
      }
    },
    {
      "cell_type": "code",
      "source": [
        "# Preparazione dei dati\n",
        "x_train = torch.tensor(data_na[:, 0], dtype=torch.float32).unsqueeze(1)\n",
        "y_train = torch.tensor(data_na[:, 1], dtype=torch.float32).unsqueeze(1) #parte standard (1 problema)\n",
        "y2_train = torch.tensor(data_na[:, 2], dtype=torch.float32).unsqueeze(1) #parte infinitesima (2 problema)"
      ],
      "metadata": {
        "id": "RKUyFAPH8nbP"
      },
      "execution_count": null,
      "outputs": []
    },
    {
      "cell_type": "code",
      "source": [
        "#custom layer\n",
        "#batch size = 1\n",
        "#input size = 10 se il mio hidden layer ha 10 neuroni\n",
        "import torch.nn.init as init\n",
        "\n",
        "class CustomNASingleNeuronLayer(nn.Module):\n",
        "    def __init__(self, input_size , monosemio):\n",
        "        super(CustomNASingleNeuronLayer, self).__init__()\n",
        "        self.weight1 = nn.Parameter(torch.empty(1, input_size))\n",
        "        self.weight2 = nn.Parameter(torch.empty(1, input_size))\n",
        "        self.bias = nn.Parameter(torch.randn(1))\n",
        "        self.monosemio = monosemio\n",
        "        init.xavier_uniform_(self.weight1)\n",
        "        init.xavier_uniform_(self.weight2)\n",
        "\n",
        "    def forward(self, x):\n",
        "        if self.monosemio == 1 : \n",
        "          output = x[:, 0].unsqueeze(1) * self.weight1 + self.bias\n",
        "        elif self.monosemio == 2 : \n",
        "          output = x[:, 1].unsqueeze(1) * self.weight2 \n",
        "        return output\n",
        "\n",
        "    def set_monosemio(self, monosemio):\n",
        "        self.monosemio = monosemio\n"
      ],
      "metadata": {
        "id": "3uMT_xleLP0r"
      },
      "execution_count": null,
      "outputs": []
    },
    {
      "cell_type": "code",
      "source": [
        "#definizione della dnn con il layer custom\n",
        "class NeuralNet(nn.Module):\n",
        "    def __init__(self , monosemio):\n",
        "        super(NeuralNet, self).__init__()\n",
        "        self.hidden = nn.Linear(1, 64)  # Hidden layer con 10 neuroni\n",
        "        self.relu = nn.ReLU()\n",
        "        self.custom_layer = CustomNASingleNeuronLayer(64, monosemio)  # Custom layer come output layer\n",
        "\n",
        "\n",
        "    def forward(self, x):\n",
        "        x = self.hidden(x)\n",
        "        x = self.relu(x)\n",
        "        x = self.custom_layer(x)  # Passaggio attraverso il custom layer\n",
        "        return x\n",
        "\n",
        "\n",
        "# Creazione della rete neurale\n",
        "monosemio = 1\n",
        "net = NeuralNet(monosemio)\n"
      ],
      "metadata": {
        "id": "zcqgP9OXN0Lq"
      },
      "execution_count": null,
      "outputs": []
    },
    {
      "cell_type": "code",
      "source": [
        "#mse calcolata in base al monosemia\n",
        "#custom mse\n",
        "import torch\n",
        "import torch.nn as nn\n",
        "\n",
        "\n",
        "\n",
        "\n",
        "class CustomMSELoss2(nn.Module):\n",
        "    def __init__(self, monosemio):\n",
        "        super().__init__()  # Utilizza super() senza argomenti\n",
        "        self.monosemio = monosemio\n",
        "        self.mse_loss = nn.MSELoss()\n",
        "\n",
        "    def forward(self, input, target, target1=None):\n",
        "        if self.monosemio == 1:\n",
        "            loss = self.mse_loss(input , target)\n",
        "        elif self.monosemio == 2:\n",
        "            loss = self.mse_loss(input , target1)\n",
        "        else:\n",
        "            raise ValueError(\"Il valore di monosemio deve essere 1 o 2.\")\n",
        "        return loss\n",
        "\n",
        "\n",
        "class CustomMSELossProva(nn.Module):\n",
        "    def __init__(self, monosemio):\n",
        "        super(CustomMSELossProva, self).__init__()\n",
        "        self.monosemio = monosemio\n",
        "\n",
        "    def forward(self, input, target, target1):\n",
        "        if self.monosemio == 1:\n",
        "            loss = torch.mean(torch.pow((input - target), 2))  # Confronto tra l'output e il target1\n",
        "        elif self.monosemio == 2:\n",
        "            loss = torch.mean(torch.pow((input - target1), 2))  # Confronto tra l'output e il target2\n",
        "        else:\n",
        "            raise ValueError(\"Il valore di monosemio deve essere 1 o 2.\")\n",
        "        return loss\n"
      ],
      "metadata": {
        "id": "by8a92MGN5Zz"
      },
      "execution_count": null,
      "outputs": []
    },
    {
      "cell_type": "code",
      "source": [
        "# Addestramento della rete neurale\n",
        "num_epochs_per_monosemio = 1000\n",
        "threshold = 1e-2\n",
        "loss_values_m1 = []  # Lista per memorizzare i valori di loss del monosemio 1\n",
        "loss_values_m2 = []  # Lista per memorizzare i valori di loss del monosemio 1\n",
        "old_grad = None  # Inizializza old_grad come un tensore vuoto\n",
        "weight1_changes_m1 = []  # Lista per memorizzare la variazione dei pesi di weight1\n",
        "weight2_changes_m1 = []  # Lista per memorizzare la variazione dei pesi di weight2\n",
        "hidden_changes_m1 = []  # Lista per memorizzare la variazione dei pesi dell'hidden layer\n",
        "grad_changes_m1 = []\n",
        "weight1_changes_m2 = []  # Lista per memorizzare la variazione dei pesi di weight1\n",
        "weight2_changes_m2 = []  # Lista per memorizzare la variazione dei pesi di weight2\n",
        "hidden_changes_m2 = []  # Lista per memorizzare la variazione dei pesi dell'hidden layer\n",
        "grad_changes_m2 = []\n",
        "grad_directions = []\n",
        "\n",
        "for monosemio in range(1, 2):\n",
        "    optimizer = optim.SGD(net.parameters(), lr=0.01)  # Reinizializzazione dell'ottimizzatore per ogni monosemio\n",
        "    epoch = 0\n",
        "    criterion = CustomMSELossProva(monosemio)\n",
        "    prev_weight1 = None\n",
        "    prev_weight2 = None\n",
        "    prev_hidden = None\n",
        "    current_loss = 300\n",
        "    if monosemio == 2 and epoch==0 :\n",
        "        #old_grad = net.hidden.weight.grad.clone()\n",
        "        net.custom_layer.weight1.detach_()\n",
        "        net.custom_layer.bias.detach_()\n",
        "        net.custom_layer.weight2.requires_grad_()\n",
        "    while epoch < num_epochs_per_monosemio and current_loss > threshold:\n",
        "\n",
        "        if monosemio == 1:\n",
        "            # Azzerare i gradienti per evitare l'accumulo\n",
        "            optimizer.zero_grad()\n",
        "            if epoch==0 :\n",
        "                #old_grad = net.hidden.weight.grad.clone()\n",
        "                net.custom_layer.weight2.detach_()    \n",
        "                net.custom_layer.weight1.requires_grad_()        \n",
        "            # Esegui il forward pass\n",
        "            outputs = net(x_train)\n",
        "            # Calcola la loss e fai il backward pass\n",
        "            loss = criterion(outputs, y_train, y2_train)\n",
        "\n",
        "\n",
        "\n",
        "            # Calcola i gradienti e fai il backward pass\n",
        "            loss.backward()\n",
        "\n",
        "\n",
        "            # Creazione del grafo di autograd\n",
        "            graph1 = make_dot(loss, params=dict(net.named_parameters()))\n",
        " \n",
        "\n",
        "\n",
        "            # Aggiorna solo i pesi di weight1\n",
        "            optimizer.step()\n",
        "\n",
        "            if epoch > 0:\n",
        "                weight1_change = (net.custom_layer.weight1 - prev_weight1).abs().sum().item()\n",
        "                weight1_changes_m1.append(weight1_change)\n",
        "                weight2_change = (net.custom_layer.weight2 - prev_weight2).abs().sum().item()\n",
        "                weight2_changes_m1.append(weight2_change)                \n",
        "                hidden_change = (net.hidden.weight - prev_hidden).abs().sum().item()\n",
        "                hidden_changes_m1.append(hidden_change)\n",
        "                # Aggiungi la modifica del gradiente\n",
        "                grad_change = torch.norm(net.hidden.weight.grad)\n",
        "                grad_changes_m1.append(grad_change.item())\n",
        "\n",
        "            prev_weight1 = net.custom_layer.weight1.clone()\n",
        "            prev_weight2 = net.custom_layer.weight2.clone()\n",
        "            prev_hidden = net.hidden.weight.clone()\n",
        "            #print(prev_weight1)\n",
        "            current_loss = loss.item()\n",
        "            loss_values_m1.append(current_loss)  # Aggiungi il valore di loss alla lista\n",
        "            old_grad = net.hidden.weight.grad.clone()\n",
        "            #print(old_grad)\n",
        "\n",
        "        elif monosemio == 2:\n",
        "            # Azzerare i gradienti per evitare l'accumulo\n",
        "            optimizer.zero_grad()\n",
        "            if epoch==0 :\n",
        "                #old_grad = net.hidden.weight.grad.clone()\n",
        "                net.custom_layer.weight1.detach_()\n",
        "                net.custom_layer.bias.detach_()\n",
        "                net.custom_layer.weight2.requires_grad_()\n",
        "            # Imposta monosemio = 2 nella rete neurale\n",
        "            net.custom_layer.set_monosemio(2)\n",
        "            # Esegui il forward pass\n",
        "            outputs = net(x_train)\n",
        "            # Calcola la loss e fai il backward pass\n",
        "            loss = criterion(outputs, y_train, y2_train)\n",
        "\n",
        "\n",
        "            # Calcola i gradienti e fai il backward pass\n",
        "            loss.backward()\n",
        "\n",
        "            # Creazione del grafo di autograd\n",
        "            graph2 = make_dot(loss, params=dict(net.named_parameters()))\n",
        "\n",
        "\n",
        "            #print(net.hidden.weight.grad.shape)\n",
        "            #calcola la proiezione\n",
        "\n",
        "            if old_grad is not None:   \n",
        "              new_grad = net.hidden.weight.grad.clone()\n",
        "              projection = new_grad - torch.mm(new_grad.t(), old_grad) * old_grad / torch.mm(old_grad.t(), old_grad)\n",
        "              #projection = torch.mm(new_grad.t(), old_grad) / torch.mm(old_grad.t(), old_grad) * old_grad\n",
        "\n",
        "              projection = projection.reshape(net.hidden.weight.grad.shape)\n",
        "              net.hidden.weight.grad.data.copy_(projection)\n",
        "              #print(projection.shape)\n",
        "\n",
        "            # Aggiorna solo i pesi di weight2\n",
        "            optimizer.step()\n",
        "            current_loss = loss.item()\n",
        "            loss_values_m2.append(current_loss)  # Aggiungi il valore di loss alla lista\n",
        "            if epoch > 1:\n",
        "                weight1_change = (net.custom_layer.weight1 - prev_weight1).abs().sum().item()\n",
        "                weight1_changes_m2.append(weight1_change)\n",
        "                weight2_change = (net.custom_layer.weight2 - prev_weight2).abs().sum().item()\n",
        "                weight2_changes_m2.append(weight2_change) \n",
        "                hidden_change = (net.hidden.weight - prev_hidden).abs().sum().item()\n",
        "                hidden_changes_m2.append(hidden_change)\n",
        "            prev_weight1 = net.custom_layer.weight1.clone()\n",
        "            prev_weight2 = net.custom_layer.weight2.clone()\n",
        "            prev_hidden = net.hidden.weight.clone() \n",
        "\n",
        "        else:\n",
        "            raise ValueError(\"Il valore di monosemio deve essere compreso tra 1 e 2.\")\n",
        "\n",
        "        \n",
        "        epoch += 1\n",
        "\n",
        "        if epoch % 20 == 0:\n",
        "            print(f'Monosemio: {monosemio}, Epoch {epoch}/{num_epochs_per_monosemio}, Loss: {current_loss:.4f}')\n",
        "            #print(old_grad.shape)\n",
        "\n"
      ],
      "metadata": {
        "colab": {
          "base_uri": "https://localhost:8080/"
        },
        "id": "GiKPyuIFN9XA",
        "outputId": "786349da-73d9-4b7d-80cc-d03557bd5ded"
      },
      "execution_count": null,
      "outputs": [
        {
          "output_type": "stream",
          "name": "stdout",
          "text": [
            "Monosemio: 1, Epoch 20/1000, Loss: 7.7810\n",
            "Monosemio: 1, Epoch 40/1000, Loss: 1.5244\n",
            "Monosemio: 1, Epoch 60/1000, Loss: 0.3414\n",
            "Monosemio: 1, Epoch 80/1000, Loss: 0.1188\n",
            "Monosemio: 1, Epoch 100/1000, Loss: 0.0673\n",
            "Monosemio: 1, Epoch 120/1000, Loss: 0.0536\n",
            "Monosemio: 1, Epoch 140/1000, Loss: 0.0491\n",
            "Monosemio: 1, Epoch 160/1000, Loss: 0.0471\n",
            "Monosemio: 1, Epoch 180/1000, Loss: 0.0457\n",
            "Monosemio: 1, Epoch 200/1000, Loss: 0.0448\n",
            "Monosemio: 1, Epoch 220/1000, Loss: 0.0440\n",
            "Monosemio: 1, Epoch 240/1000, Loss: 0.0433\n",
            "Monosemio: 1, Epoch 260/1000, Loss: 0.0428\n",
            "Monosemio: 1, Epoch 280/1000, Loss: 0.0424\n",
            "Monosemio: 1, Epoch 300/1000, Loss: 0.0420\n",
            "Monosemio: 1, Epoch 320/1000, Loss: 0.0417\n",
            "Monosemio: 1, Epoch 340/1000, Loss: 0.0415\n",
            "Monosemio: 1, Epoch 360/1000, Loss: 0.0413\n",
            "Monosemio: 1, Epoch 380/1000, Loss: 0.0411\n",
            "Monosemio: 1, Epoch 400/1000, Loss: 0.0410\n",
            "Monosemio: 1, Epoch 420/1000, Loss: 0.0409\n",
            "Monosemio: 1, Epoch 440/1000, Loss: 0.0408\n",
            "Monosemio: 1, Epoch 460/1000, Loss: 0.0407\n",
            "Monosemio: 1, Epoch 480/1000, Loss: 0.0406\n",
            "Monosemio: 1, Epoch 500/1000, Loss: 0.0406\n",
            "Monosemio: 1, Epoch 520/1000, Loss: 0.0405\n",
            "Monosemio: 1, Epoch 540/1000, Loss: 0.0405\n",
            "Monosemio: 1, Epoch 560/1000, Loss: 0.0405\n",
            "Monosemio: 1, Epoch 580/1000, Loss: 0.0404\n",
            "Monosemio: 1, Epoch 600/1000, Loss: 0.0404\n",
            "Monosemio: 1, Epoch 620/1000, Loss: 0.0404\n",
            "Monosemio: 1, Epoch 640/1000, Loss: 0.0404\n",
            "Monosemio: 1, Epoch 660/1000, Loss: 0.0404\n",
            "Monosemio: 1, Epoch 680/1000, Loss: 0.0403\n",
            "Monosemio: 1, Epoch 700/1000, Loss: 0.0403\n",
            "Monosemio: 1, Epoch 720/1000, Loss: 0.0403\n",
            "Monosemio: 1, Epoch 740/1000, Loss: 0.0403\n",
            "Monosemio: 1, Epoch 760/1000, Loss: 0.0403\n",
            "Monosemio: 1, Epoch 780/1000, Loss: 0.0403\n",
            "Monosemio: 1, Epoch 800/1000, Loss: 0.0403\n",
            "Monosemio: 1, Epoch 820/1000, Loss: 0.0403\n",
            "Monosemio: 1, Epoch 840/1000, Loss: 0.0403\n",
            "Monosemio: 1, Epoch 860/1000, Loss: 0.0403\n",
            "Monosemio: 1, Epoch 880/1000, Loss: 0.0403\n",
            "Monosemio: 1, Epoch 900/1000, Loss: 0.0403\n",
            "Monosemio: 1, Epoch 920/1000, Loss: 0.0403\n",
            "Monosemio: 1, Epoch 940/1000, Loss: 0.0403\n",
            "Monosemio: 1, Epoch 960/1000, Loss: 0.0403\n",
            "Monosemio: 1, Epoch 980/1000, Loss: 0.0403\n",
            "Monosemio: 1, Epoch 1000/1000, Loss: 0.0403\n"
          ]
        }
      ]
    },
    {
      "cell_type": "code",
      "source": [
        "# Visualizzazione del grafo di autograd\n",
        "graph1"
      ],
      "metadata": {
        "colab": {
          "base_uri": "https://localhost:8080/",
          "height": 1000
        },
        "id": "vgUtHGclJMj-",
        "outputId": "5ffc7570-4ece-4a67-db78-81ca00c250eb"
      },
      "execution_count": null,
      "outputs": [
        {
          "output_type": "execute_result",
          "data": {
            "image/svg+xml": "<?xml version=\"1.0\" encoding=\"UTF-8\" standalone=\"no\"?>\n<!DOCTYPE svg PUBLIC \"-//W3C//DTD SVG 1.1//EN\"\n \"http://www.w3.org/Graphics/SVG/1.1/DTD/svg11.dtd\">\n<!-- Generated by graphviz version 2.43.0 (0)\n -->\n<!-- Title: %3 Pages: 1 -->\n<svg width=\"436pt\" height=\"798pt\"\n viewBox=\"0.00 0.00 436.00 798.00\" xmlns=\"http://www.w3.org/2000/svg\" xmlns:xlink=\"http://www.w3.org/1999/xlink\">\n<g id=\"graph0\" class=\"graph\" transform=\"scale(1 1) rotate(0) translate(4 794)\">\n<title>%3</title>\n<polygon fill=\"white\" stroke=\"transparent\" points=\"-4,4 -4,-794 432,-794 432,4 -4,4\"/>\n<!-- 140611296969328 -->\n<g id=\"node1\" class=\"node\">\n<title>140611296969328</title>\n<polygon fill=\"#caff70\" stroke=\"black\" points=\"327.5,-31 273.5,-31 273.5,0 327.5,0 327.5,-31\"/>\n<text text-anchor=\"middle\" x=\"300.5\" y=\"-7\" font-family=\"monospace\" font-size=\"10.00\"> ()</text>\n</g>\n<!-- 140611298962944 -->\n<g id=\"node2\" class=\"node\">\n<title>140611298962944</title>\n<polygon fill=\"lightgrey\" stroke=\"black\" points=\"348,-86 253,-86 253,-67 348,-67 348,-86\"/>\n<text text-anchor=\"middle\" x=\"300.5\" y=\"-74\" font-family=\"monospace\" font-size=\"10.00\">MeanBackward0</text>\n</g>\n<!-- 140611298962944&#45;&gt;140611296969328 -->\n<g id=\"edge19\" class=\"edge\">\n<title>140611298962944&#45;&gt;140611296969328</title>\n<path fill=\"none\" stroke=\"black\" d=\"M300.5,-66.79C300.5,-60.07 300.5,-50.4 300.5,-41.34\"/>\n<polygon fill=\"black\" stroke=\"black\" points=\"304,-41.19 300.5,-31.19 297,-41.19 304,-41.19\"/>\n</g>\n<!-- 140611298960496 -->\n<g id=\"node3\" class=\"node\">\n<title>140611298960496</title>\n<polygon fill=\"lightgrey\" stroke=\"black\" points=\"345,-141 256,-141 256,-122 345,-122 345,-141\"/>\n<text text-anchor=\"middle\" x=\"300.5\" y=\"-129\" font-family=\"monospace\" font-size=\"10.00\">PowBackward0</text>\n</g>\n<!-- 140611298960496&#45;&gt;140611298962944 -->\n<g id=\"edge1\" class=\"edge\">\n<title>140611298960496&#45;&gt;140611298962944</title>\n<path fill=\"none\" stroke=\"black\" d=\"M300.5,-121.75C300.5,-114.8 300.5,-104.85 300.5,-96.13\"/>\n<polygon fill=\"black\" stroke=\"black\" points=\"304,-96.09 300.5,-86.09 297,-96.09 304,-96.09\"/>\n</g>\n<!-- 140611298963184 -->\n<g id=\"node4\" class=\"node\">\n<title>140611298963184</title>\n<polygon fill=\"lightgrey\" stroke=\"black\" points=\"345,-196 256,-196 256,-177 345,-177 345,-196\"/>\n<text text-anchor=\"middle\" x=\"300.5\" y=\"-184\" font-family=\"monospace\" font-size=\"10.00\">SubBackward0</text>\n</g>\n<!-- 140611298963184&#45;&gt;140611298960496 -->\n<g id=\"edge2\" class=\"edge\">\n<title>140611298963184&#45;&gt;140611298960496</title>\n<path fill=\"none\" stroke=\"black\" d=\"M300.5,-176.75C300.5,-169.8 300.5,-159.85 300.5,-151.13\"/>\n<polygon fill=\"black\" stroke=\"black\" points=\"304,-151.09 300.5,-141.09 297,-151.09 304,-151.09\"/>\n</g>\n<!-- 140611298956512 -->\n<g id=\"node5\" class=\"node\">\n<title>140611298956512</title>\n<polygon fill=\"lightgrey\" stroke=\"black\" points=\"345,-251 256,-251 256,-232 345,-232 345,-251\"/>\n<text text-anchor=\"middle\" x=\"300.5\" y=\"-239\" font-family=\"monospace\" font-size=\"10.00\">AddBackward0</text>\n</g>\n<!-- 140611298956512&#45;&gt;140611298963184 -->\n<g id=\"edge3\" class=\"edge\">\n<title>140611298956512&#45;&gt;140611298963184</title>\n<path fill=\"none\" stroke=\"black\" d=\"M300.5,-231.75C300.5,-224.8 300.5,-214.85 300.5,-206.13\"/>\n<polygon fill=\"black\" stroke=\"black\" points=\"304,-206.09 300.5,-196.09 297,-206.09 304,-206.09\"/>\n</g>\n<!-- 140611298959488 -->\n<g id=\"node6\" class=\"node\">\n<title>140611298959488</title>\n<polygon fill=\"lightgrey\" stroke=\"black\" points=\"285,-306 196,-306 196,-287 285,-287 285,-306\"/>\n<text text-anchor=\"middle\" x=\"240.5\" y=\"-294\" font-family=\"monospace\" font-size=\"10.00\">MulBackward0</text>\n</g>\n<!-- 140611298959488&#45;&gt;140611298956512 -->\n<g id=\"edge4\" class=\"edge\">\n<title>140611298959488&#45;&gt;140611298956512</title>\n<path fill=\"none\" stroke=\"black\" d=\"M250.14,-286.98C259.01,-279.15 272.37,-267.34 283.11,-257.86\"/>\n<polygon fill=\"black\" stroke=\"black\" points=\"285.51,-260.41 290.68,-251.17 280.87,-255.17 285.51,-260.41\"/>\n</g>\n<!-- 140611298965056 -->\n<g id=\"node7\" class=\"node\">\n<title>140611298965056</title>\n<polygon fill=\"lightgrey\" stroke=\"black\" points=\"170,-366.5 45,-366.5 45,-347.5 170,-347.5 170,-366.5\"/>\n<text text-anchor=\"middle\" x=\"107.5\" y=\"-354.5\" font-family=\"monospace\" font-size=\"10.00\">UnsqueezeBackward0</text>\n</g>\n<!-- 140611298965056&#45;&gt;140611298959488 -->\n<g id=\"edge5\" class=\"edge\">\n<title>140611298965056&#45;&gt;140611298959488</title>\n<path fill=\"none\" stroke=\"black\" d=\"M126.84,-347.49C149.2,-337.66 186.21,-321.38 211.9,-310.08\"/>\n<polygon fill=\"black\" stroke=\"black\" points=\"213.39,-313.25 221.14,-306.02 210.57,-306.84 213.39,-313.25\"/>\n</g>\n<!-- 140611298959392 -->\n<g id=\"node8\" class=\"node\">\n<title>140611298959392</title>\n<polygon fill=\"lightgrey\" stroke=\"black\" points=\"157,-432.5 50,-432.5 50,-413.5 157,-413.5 157,-432.5\"/>\n<text text-anchor=\"middle\" x=\"103.5\" y=\"-420.5\" font-family=\"monospace\" font-size=\"10.00\">SelectBackward0</text>\n</g>\n<!-- 140611298959392&#45;&gt;140611298965056 -->\n<g id=\"edge6\" class=\"edge\">\n<title>140611298959392&#45;&gt;140611298965056</title>\n<path fill=\"none\" stroke=\"black\" d=\"M104.04,-413.37C104.62,-404.07 105.56,-388.98 106.32,-376.9\"/>\n<polygon fill=\"black\" stroke=\"black\" points=\"109.81,-377.1 106.94,-366.91 102.83,-376.67 109.81,-377.1\"/>\n</g>\n<!-- 140611298957232 -->\n<g id=\"node9\" class=\"node\">\n<title>140611298957232</title>\n<polygon fill=\"lightgrey\" stroke=\"black\" points=\"154,-493 53,-493 53,-474 154,-474 154,-493\"/>\n<text text-anchor=\"middle\" x=\"103.5\" y=\"-481\" font-family=\"monospace\" font-size=\"10.00\">SliceBackward0</text>\n</g>\n<!-- 140611298957232&#45;&gt;140611298959392 -->\n<g id=\"edge7\" class=\"edge\">\n<title>140611298957232&#45;&gt;140611298959392</title>\n<path fill=\"none\" stroke=\"black\" d=\"M103.5,-473.87C103.5,-465.75 103.5,-453.31 103.5,-442.89\"/>\n<polygon fill=\"black\" stroke=\"black\" points=\"107,-442.67 103.5,-432.67 100,-442.67 107,-442.67\"/>\n</g>\n<!-- 140611298953680 -->\n<g id=\"node10\" class=\"node\">\n<title>140611298953680</title>\n<polygon fill=\"lightgrey\" stroke=\"black\" points=\"151,-548 56,-548 56,-529 151,-529 151,-548\"/>\n<text text-anchor=\"middle\" x=\"103.5\" y=\"-536\" font-family=\"monospace\" font-size=\"10.00\">ReluBackward0</text>\n</g>\n<!-- 140611298953680&#45;&gt;140611298957232 -->\n<g id=\"edge8\" class=\"edge\">\n<title>140611298953680&#45;&gt;140611298957232</title>\n<path fill=\"none\" stroke=\"black\" d=\"M103.5,-528.75C103.5,-521.8 103.5,-511.85 103.5,-503.13\"/>\n<polygon fill=\"black\" stroke=\"black\" points=\"107,-503.09 103.5,-493.09 100,-503.09 107,-503.09\"/>\n</g>\n<!-- 140611298954352 -->\n<g id=\"node11\" class=\"node\">\n<title>140611298954352</title>\n<polygon fill=\"lightgrey\" stroke=\"black\" points=\"154,-603 53,-603 53,-584 154,-584 154,-603\"/>\n<text text-anchor=\"middle\" x=\"103.5\" y=\"-591\" font-family=\"monospace\" font-size=\"10.00\">AddmmBackward0</text>\n</g>\n<!-- 140611298954352&#45;&gt;140611298953680 -->\n<g id=\"edge9\" class=\"edge\">\n<title>140611298954352&#45;&gt;140611298953680</title>\n<path fill=\"none\" stroke=\"black\" d=\"M103.5,-583.75C103.5,-576.8 103.5,-566.85 103.5,-558.13\"/>\n<polygon fill=\"black\" stroke=\"black\" points=\"107,-558.09 103.5,-548.09 100,-558.09 107,-558.09\"/>\n</g>\n<!-- 140611296998976 -->\n<g id=\"node12\" class=\"node\">\n<title>140611296998976</title>\n<polygon fill=\"lightgrey\" stroke=\"black\" points=\"101,-658 0,-658 0,-639 101,-639 101,-658\"/>\n<text text-anchor=\"middle\" x=\"50.5\" y=\"-646\" font-family=\"monospace\" font-size=\"10.00\">AccumulateGrad</text>\n</g>\n<!-- 140611296998976&#45;&gt;140611298954352 -->\n<g id=\"edge10\" class=\"edge\">\n<title>140611296998976&#45;&gt;140611298954352</title>\n<path fill=\"none\" stroke=\"black\" d=\"M59.25,-638.75C66.97,-631.03 78.4,-619.6 87.72,-610.28\"/>\n<polygon fill=\"black\" stroke=\"black\" points=\"90.31,-612.64 94.91,-603.09 85.36,-607.69 90.31,-612.64\"/>\n</g>\n<!-- 140611333740224 -->\n<g id=\"node13\" class=\"node\">\n<title>140611333740224</title>\n<polygon fill=\"lightblue\" stroke=\"black\" points=\"91,-724 8,-724 8,-694 91,-694 91,-724\"/>\n<text text-anchor=\"middle\" x=\"49.5\" y=\"-712\" font-family=\"monospace\" font-size=\"10.00\">hidden.bias</text>\n<text text-anchor=\"middle\" x=\"49.5\" y=\"-701\" font-family=\"monospace\" font-size=\"10.00\"> (64)</text>\n</g>\n<!-- 140611333740224&#45;&gt;140611296998976 -->\n<g id=\"edge11\" class=\"edge\">\n<title>140611333740224&#45;&gt;140611296998976</title>\n<path fill=\"none\" stroke=\"black\" d=\"M49.74,-693.84C49.87,-686.21 50.03,-676.7 50.18,-668.45\"/>\n<polygon fill=\"black\" stroke=\"black\" points=\"53.68,-668.32 50.35,-658.27 46.68,-668.2 53.68,-668.32\"/>\n</g>\n<!-- 140611297617392 -->\n<g id=\"node14\" class=\"node\">\n<title>140611297617392</title>\n<polygon fill=\"lightgrey\" stroke=\"black\" points=\"197,-658 120,-658 120,-639 197,-639 197,-658\"/>\n<text text-anchor=\"middle\" x=\"158.5\" y=\"-646\" font-family=\"monospace\" font-size=\"10.00\">TBackward0</text>\n</g>\n<!-- 140611297617392&#45;&gt;140611298954352 -->\n<g id=\"edge12\" class=\"edge\">\n<title>140611297617392&#45;&gt;140611298954352</title>\n<path fill=\"none\" stroke=\"black\" d=\"M149.42,-638.75C141.41,-631.03 129.54,-619.6 119.88,-610.28\"/>\n<polygon fill=\"black\" stroke=\"black\" points=\"122.04,-607.51 112.41,-603.09 117.19,-612.55 122.04,-607.51\"/>\n</g>\n<!-- 140611296997440 -->\n<g id=\"node15\" class=\"node\">\n<title>140611296997440</title>\n<polygon fill=\"lightgrey\" stroke=\"black\" points=\"210,-718.5 109,-718.5 109,-699.5 210,-699.5 210,-718.5\"/>\n<text text-anchor=\"middle\" x=\"159.5\" y=\"-706.5\" font-family=\"monospace\" font-size=\"10.00\">AccumulateGrad</text>\n</g>\n<!-- 140611296997440&#45;&gt;140611297617392 -->\n<g id=\"edge13\" class=\"edge\">\n<title>140611296997440&#45;&gt;140611297617392</title>\n<path fill=\"none\" stroke=\"black\" d=\"M159.35,-699.37C159.21,-691.25 159,-678.81 158.82,-668.39\"/>\n<polygon fill=\"black\" stroke=\"black\" points=\"162.32,-668.11 158.65,-658.17 155.32,-668.23 162.32,-668.11\"/>\n</g>\n<!-- 140611298006960 -->\n<g id=\"node16\" class=\"node\">\n<title>140611298006960</title>\n<polygon fill=\"lightblue\" stroke=\"black\" points=\"207,-790 112,-790 112,-760 207,-760 207,-790\"/>\n<text text-anchor=\"middle\" x=\"159.5\" y=\"-778\" font-family=\"monospace\" font-size=\"10.00\">hidden.weight</text>\n<text text-anchor=\"middle\" x=\"159.5\" y=\"-767\" font-family=\"monospace\" font-size=\"10.00\"> (64, 1)</text>\n</g>\n<!-- 140611298006960&#45;&gt;140611296997440 -->\n<g id=\"edge14\" class=\"edge\">\n<title>140611298006960&#45;&gt;140611296997440</title>\n<path fill=\"none\" stroke=\"black\" d=\"M159.5,-759.8C159.5,-750.7 159.5,-738.79 159.5,-728.9\"/>\n<polygon fill=\"black\" stroke=\"black\" points=\"163,-728.84 159.5,-718.84 156,-728.84 163,-728.84\"/>\n</g>\n<!-- 140611296999696 -->\n<g id=\"node17\" class=\"node\">\n<title>140611296999696</title>\n<polygon fill=\"lightgrey\" stroke=\"black\" points=\"291,-366.5 190,-366.5 190,-347.5 291,-347.5 291,-366.5\"/>\n<text text-anchor=\"middle\" x=\"240.5\" y=\"-354.5\" font-family=\"monospace\" font-size=\"10.00\">AccumulateGrad</text>\n</g>\n<!-- 140611296999696&#45;&gt;140611298959488 -->\n<g id=\"edge15\" class=\"edge\">\n<title>140611296999696&#45;&gt;140611298959488</title>\n<path fill=\"none\" stroke=\"black\" d=\"M240.5,-347.37C240.5,-339.25 240.5,-326.81 240.5,-316.39\"/>\n<polygon fill=\"black\" stroke=\"black\" points=\"244,-316.17 240.5,-306.17 237,-316.17 244,-316.17\"/>\n</g>\n<!-- 140611298004560 -->\n<g id=\"node18\" class=\"node\">\n<title>140611298004560</title>\n<polygon fill=\"lightblue\" stroke=\"black\" points=\"312,-438 175,-438 175,-408 312,-408 312,-438\"/>\n<text text-anchor=\"middle\" x=\"243.5\" y=\"-426\" font-family=\"monospace\" font-size=\"10.00\">custom_layer.weight1</text>\n<text text-anchor=\"middle\" x=\"243.5\" y=\"-415\" font-family=\"monospace\" font-size=\"10.00\"> (1, 64)</text>\n</g>\n<!-- 140611298004560&#45;&gt;140611296999696 -->\n<g id=\"edge16\" class=\"edge\">\n<title>140611298004560&#45;&gt;140611296999696</title>\n<path fill=\"none\" stroke=\"black\" d=\"M242.83,-407.8C242.41,-398.7 241.85,-386.79 241.39,-376.9\"/>\n<polygon fill=\"black\" stroke=\"black\" points=\"244.88,-376.67 240.91,-366.84 237.89,-377 244.88,-376.67\"/>\n</g>\n<!-- 140611296999840 -->\n<g id=\"node19\" class=\"node\">\n<title>140611296999840</title>\n<polygon fill=\"lightgrey\" stroke=\"black\" points=\"411,-306 310,-306 310,-287 411,-287 411,-306\"/>\n<text text-anchor=\"middle\" x=\"360.5\" y=\"-294\" font-family=\"monospace\" font-size=\"10.00\">AccumulateGrad</text>\n</g>\n<!-- 140611296999840&#45;&gt;140611298956512 -->\n<g id=\"edge17\" class=\"edge\">\n<title>140611296999840&#45;&gt;140611298956512</title>\n<path fill=\"none\" stroke=\"black\" d=\"M350.86,-286.98C341.99,-279.15 328.63,-267.34 317.89,-257.86\"/>\n<polygon fill=\"black\" stroke=\"black\" points=\"320.13,-255.17 310.32,-251.17 315.49,-260.41 320.13,-255.17\"/>\n</g>\n<!-- 140611345099856 -->\n<g id=\"node20\" class=\"node\">\n<title>140611345099856</title>\n<polygon fill=\"lightblue\" stroke=\"black\" points=\"428,-372 309,-372 309,-342 428,-342 428,-372\"/>\n<text text-anchor=\"middle\" x=\"368.5\" y=\"-360\" font-family=\"monospace\" font-size=\"10.00\">custom_layer.bias</text>\n<text text-anchor=\"middle\" x=\"368.5\" y=\"-349\" font-family=\"monospace\" font-size=\"10.00\"> (1)</text>\n</g>\n<!-- 140611345099856&#45;&gt;140611296999840 -->\n<g id=\"edge18\" class=\"edge\">\n<title>140611345099856&#45;&gt;140611296999840</title>\n<path fill=\"none\" stroke=\"black\" d=\"M366.56,-341.84C365.52,-334.21 364.22,-324.7 363.09,-316.45\"/>\n<polygon fill=\"black\" stroke=\"black\" points=\"366.52,-315.7 361.7,-306.27 359.59,-316.65 366.52,-315.7\"/>\n</g>\n</g>\n</svg>\n",
            "text/plain": [
              "<graphviz.graphs.Digraph at 0x7fe29e8699c0>"
            ]
          },
          "metadata": {},
          "execution_count": 42
        }
      ]
    },
    {
      "cell_type": "code",
      "source": [
        "# Visualizzazione del grafo di autograd\n",
        "graph2"
      ],
      "metadata": {
        "colab": {
          "base_uri": "https://localhost:8080/",
          "height": 182
        },
        "id": "RSTrCrzOHTAh",
        "outputId": "ce484506-8d5e-4f00-a467-a056b4a74960"
      },
      "execution_count": null,
      "outputs": [
        {
          "output_type": "error",
          "ename": "NameError",
          "evalue": "ignored",
          "traceback": [
            "\u001b[0;31m---------------------------------------------------------------------------\u001b[0m",
            "\u001b[0;31mNameError\u001b[0m                                 Traceback (most recent call last)",
            "\u001b[0;32m<ipython-input-43-aea7a6190afd>\u001b[0m in \u001b[0;36m<cell line: 2>\u001b[0;34m()\u001b[0m\n\u001b[1;32m      1\u001b[0m \u001b[0;31m# Visualizzazione del grafo di autograd\u001b[0m\u001b[0;34m\u001b[0m\u001b[0;34m\u001b[0m\u001b[0m\n\u001b[0;32m----> 2\u001b[0;31m \u001b[0mgraph2\u001b[0m\u001b[0;34m\u001b[0m\u001b[0;34m\u001b[0m\u001b[0m\n\u001b[0m",
            "\u001b[0;31mNameError\u001b[0m: name 'graph2' is not defined"
          ]
        }
      ]
    },
    {
      "cell_type": "markdown",
      "source": [
        "###  MONOSEMIO 1 "
      ],
      "metadata": {
        "id": "vYdV8nqOQrlE"
      }
    },
    {
      "cell_type": "code",
      "source": [
        "\n",
        "# Traccia il grafico della loss\n",
        "plt.plot(range(len(loss_values_m1)), loss_values_m1)\n",
        "plt.xlabel('Epoch')\n",
        "plt.ylabel('Loss')\n",
        "plt.title('Training Loss')\n",
        "plt.show()\n",
        "\n",
        "\n",
        "plt.subplot(1, 2, 2)\n",
        "plt.plot(grad_changes_m1)\n",
        "plt.xlabel('Epoch')\n",
        "plt.ylabel('Modifica del Gradiente')\n",
        "plt.title('Variazione del Gradiente durante l\\'addestramento')\n",
        "\n",
        "plt.tight_layout()\n",
        "plt.show()\n",
        "\n",
        "\n",
        "\n",
        "\n",
        "\n",
        "\n",
        "\n"
      ],
      "metadata": {
        "colab": {
          "base_uri": "https://localhost:8080/",
          "height": 942
        },
        "id": "wTf3XcuJRrcz",
        "outputId": "93ef54c9-8de2-46b6-cf26-d4e661c6d1f7"
      },
      "execution_count": null,
      "outputs": [
        {
          "output_type": "display_data",
          "data": {
            "text/plain": [
              "<Figure size 640x480 with 1 Axes>"
            ],
            "image/png": "[encoded data removed]"
          },
          "metadata": {}
        },
        {
          "output_type": "display_data",
          "data": {
            "text/plain": [
              "<Figure size 640x480 with 1 Axes>"
            ],
            "image/png": "[encoded data removed]"
          },
          "metadata": {}
        }
      ]
    },
    {
      "cell_type": "code",
      "source": [
        "plt.plot(weight1_changes_m1, label='Weight1 Changes')\n",
        "plt.plot(weight2_changes_m1, label='Weight2 Changes' ,linewidth=2)\n",
        "plt.plot(hidden_changes_m1, label='Hidden Changes')\n",
        "plt.xlabel('Epoch')\n",
        "plt.ylabel('Weight Changes')\n",
        "plt.title('Variation of Weights')\n",
        "plt.legend()\n",
        "plt.show()"
      ],
      "metadata": {
        "colab": {
          "base_uri": "https://localhost:8080/",
          "height": 472
        },
        "id": "CgL4ttUvQ_2O",
        "outputId": "a03af9d4-da2e-4fe5-f4ad-a72dab653048"
      },
      "execution_count": null,
      "outputs": [
        {
          "output_type": "display_data",
          "data": {
            "text/plain": [
              "<Figure size 640x480 with 1 Axes>"
            ],
            "image/png": "[encoded data removed]"
          },
          "metadata": {}
        }
      ]
    },
    {
      "cell_type": "code",
      "source": [
        "\n",
        "\n",
        "import matplotlib.pyplot as plt\n",
        "import numpy as np\n",
        "\n",
        "# Dopo l'addestramento\n",
        "weight1 = net.custom_layer.weight1.detach().numpy()\n",
        "bias = net.custom_layer.bias.detach().numpy()\n",
        "\n",
        "# Punti di input per la regressione\n",
        "x = data_na[:, 0]\n",
        "y = data_na[:, 1]\n",
        "\n",
        "# Genera dei punti x per il plot\n",
        "x_plot = np.linspace(min(x), max(x), 100)\n",
        "# Calcola i corrispondenti valori y predetti utilizzando la regressione lineare\n",
        "y_plot = weight1[0][0] * x_plot + bias[0]\n",
        "\n",
        "\n",
        "# Plotta i punti di input\n",
        "plt.scatter(x, y, label='Input Data')\n",
        "# Plotta la linea di regressione\n",
        "plt.plot(x_plot, y_plot, color='red', label='Regression Line')\n",
        "plt.xlabel('x')\n",
        "plt.ylabel('y')\n",
        "plt.legend()\n",
        "plt.show()"
      ],
      "metadata": {
        "colab": {
          "base_uri": "https://localhost:8080/",
          "height": 449
        },
        "id": "DB9f9pLzRCcv",
        "outputId": "e5e6e1ac-aa1e-4ea8-fc8e-5ec4a86869de"
      },
      "execution_count": null,
      "outputs": [
        {
          "output_type": "display_data",
          "data": {
            "text/plain": [
              "<Figure size 640x480 with 1 Axes>"
            ],
            "image/png": "[encoded data removed]"
          },
          "metadata": {}
        }
      ]
    },
    {
      "cell_type": "markdown",
      "source": [
        "### MONOSEMIO 2"
      ],
      "metadata": {
        "id": "h0NhoX71Q5gD"
      }
    },
    {
      "cell_type": "code",
      "source": [
        "\n",
        "# Traccia il grafico della loss\n",
        "plt.plot(range(len(loss_values_m2)), loss_values_m2)\n",
        "plt.xlabel('Epoch')\n",
        "plt.ylabel('Loss')\n",
        "plt.title('Training Loss')\n",
        "plt.show()"
      ],
      "metadata": {
        "id": "YQcsKy7_PAcJ"
      },
      "execution_count": null,
      "outputs": []
    },
    {
      "cell_type": "code",
      "source": [
        "plt.plot(weight1_changes_m2, label='Weight1 Changes' , linewidth=2)\n",
        "plt.plot(weight2_changes_m2, label='Weight2 Changes')\n",
        "plt.plot(hidden_changes_m2, label='Hidden Changes')\n",
        "plt.xlabel('Epoch')\n",
        "plt.ylabel('Weight Changes')\n",
        "plt.title('Variation of Weights')\n",
        "plt.legend()\n",
        "plt.show()"
      ],
      "metadata": {
        "id": "JQ8cSEV1XaeT"
      },
      "execution_count": null,
      "outputs": []
    },
    {
      "cell_type": "code",
      "source": [
        "\n",
        "import matplotlib.pyplot as plt\n",
        "import numpy as np\n",
        "\n",
        "# Dopo l'addestramento\n",
        "weight2 = net.custom_layer.weight2.detach().numpy()\n",
        "\n",
        "# Punti di input per la regressione\n",
        "x = data_na[:, 0]\n",
        "y = data_na[:, 2]\n",
        "\n",
        "# Genera dei punti x per il plot\n",
        "x_plot = np.linspace(min(x), max(x), 100)\n",
        "# Calcola i corrispondenti valori y predetti utilizzando la regressione lineare\n",
        "y_plot = weight2[0][0] * x_plot\n",
        "\n",
        "\n",
        "# Plotta i punti di input\n",
        "plt.scatter(x, y, label='Input Data')\n",
        "# Plotta la linea di regressione\n",
        "plt.plot(x_plot, y_plot, color='red', label='Regression Line')\n",
        "plt.xlabel('x')\n",
        "plt.ylabel('y')\n",
        "plt.legend()\n",
        "plt.show()"
      ],
      "metadata": {
        "id": "0kaNflFdxRIB"
      },
      "execution_count": null,
      "outputs": []
    },
    {
      "cell_type": "code",
      "source": [
        "#plot after change monosemio = 2\n",
        "\n",
        "import matplotlib.pyplot as plt\n",
        "import numpy as np\n",
        "\n",
        "# Dopo l'addestramento\n",
        "weight1 = net.custom_layer.weight1.detach().numpy()\n",
        "bias = net.custom_layer.bias.detach().numpy()\n",
        "\n",
        "# Punti di input per la regressione\n",
        "x = data_na[:, 0]\n",
        "y = data_na[:, 1]\n",
        "\n",
        "# Genera dei punti x per il plot\n",
        "x_plot = np.linspace(min(x), max(x), 100)\n",
        "# Calcola i corrispondenti valori y predetti utilizzando la regressione lineare\n",
        "y_plot = weight1[0][0] * x_plot + bias[0]\n",
        "#y_plot = weight1[0][0] * x_plot \n",
        "\n",
        "\n",
        "# Plotta i punti di input\n",
        "plt.scatter(x, y, label='Input Data')\n",
        "# Plotta la linea di regressione\n",
        "plt.plot(x_plot, y_plot, color='red', label='Regression Line')\n",
        "plt.xlabel('x')\n",
        "plt.ylabel('y')\n",
        "plt.legend()\n",
        "plt.show()"
      ],
      "metadata": {
        "id": "hptFlq-S59e0"
      },
      "execution_count": null,
      "outputs": []
    },
    {
      "cell_type": "code",
      "source": [
        "import pandas as pd\n",
        "import numpy as np\n",
        "# Calcola i risultati della regressione per weight1 e weight2\n",
        "weight1_results = net.custom_layer.weight1.detach().numpy()[0][0] * data_na[:, 0] + net.custom_layer.bias.detach().numpy()[0]\n",
        "weight2_results = net.custom_layer.weight2.detach().numpy()[0][0] * data_na[:, 0]\n",
        "difference = data_na[:, 1] - weight1_results\n",
        "\n",
        "# Crea il DataFrame di confronto\n",
        "df = pd.DataFrame({'Target1': data_na[:, 1],  'Weight1 Results': weight1_results, 'Target2': data_na[:, 2],'Weight2 Results': weight2_results})\n",
        "df\n",
        "\n"
      ],
      "metadata": {
        "colab": {
          "base_uri": "https://localhost:8080/",
          "height": 708
        },
        "id": "LjrkhIHl7vCd",
        "outputId": "773c42e7-6ce4-4b09-e6d9-129d6ec9fd4d"
      },
      "execution_count": null,
      "outputs": [
        {
          "output_type": "execute_result",
          "data": {
            "text/plain": [
              "    Target1  Weight1 Results  Target2  Weight2 Results\n",
              "0    2.5584         2.703395   0.2322         0.000000\n",
              "1    2.6882         2.831469   0.7121         0.009761\n",
              "2    2.9627         2.959544   0.9321         0.019521\n",
              "3    3.2608         3.087618   1.0534         0.029282\n",
              "4    3.6235         3.215692   1.3290         0.039043\n",
              "5    3.9376         3.343766   1.5928         0.048803\n",
              "6    4.0383         3.471841   1.8765         0.058564\n",
              "7    4.1570         3.599915   1.9888         0.068324\n",
              "8    4.8498         3.727989   2.4822         0.078085\n",
              "9    4.6561         3.856063   2.9987         0.087846\n",
              "10   4.5119         3.984138   3.4312         0.097606\n",
              "11   4.8346         4.112212   3.7816         0.107367\n",
              "12   5.6039         4.240286   3.9817         0.117128\n",
              "13   5.5890         4.368360   4.3171         0.126888\n",
              "14   6.1914         4.496435   4.6765         0.136649\n",
              "15   5.8966         4.624509   5.0811         0.146410\n",
              "16   6.3866         4.752583   5.4567         0.156170\n",
              "17   6.6909         4.880658   6.0122         0.165931\n",
              "18   6.5224         5.008732   6.4543         0.175691\n",
              "19   7.1803         5.136806   6.9876         0.185452\n",
              "20   7.2537         5.264880   7.3242         0.195213"
            ],
            "text/html": [
              "\n",
              "  <div id=\"df-74dee16f-2267-4be8-ae3f-ac5ac9eddba8\">\n",
              "    <div class=\"colab-df-container\">\n",
              "      <div>\n",
              "<style scoped>\n",
              "    .dataframe tbody tr th:only-of-type {\n",
              "        vertical-align: middle;\n",
              "    }\n",
              "\n",
              "    .dataframe tbody tr th {\n",
              "        vertical-align: top;\n",
              "    }\n",
              "\n",
              "    .dataframe thead th {\n",
              "        text-align: right;\n",
              "    }\n",
              "</style>\n",
              "<table border=\"1\" class=\"dataframe\">\n",
              "  <thead>\n",
              "    <tr style=\"text-align: right;\">\n",
              "      <th></th>\n",
              "      <th>Target1</th>\n",
              "      <th>Weight1 Results</th>\n",
              "      <th>Target2</th>\n",
              "      <th>Weight2 Results</th>\n",
              "    </tr>\n",
              "  </thead>\n",
              "  <tbody>\n",
              "    <tr>\n",
              "      <th>0</th>\n",
              "      <td>2.5584</td>\n",
              "      <td>2.703395</td>\n",
              "      <td>0.2322</td>\n",
              "      <td>0.000000</td>\n",
              "    </tr>\n",
              "    <tr>\n",
              "      <th>1</th>\n",
              "      <td>2.6882</td>\n",
              "      <td>2.831469</td>\n",
              "      <td>0.7121</td>\n",
              "      <td>0.009761</td>\n",
              "    </tr>\n",
              "    <tr>\n",
              "      <th>2</th>\n",
              "      <td>2.9627</td>\n",
              "      <td>2.959544</td>\n",
              "      <td>0.9321</td>\n",
              "      <td>0.019521</td>\n",
              "    </tr>\n",
              "    <tr>\n",
              "      <th>3</th>\n",
              "      <td>3.2608</td>\n",
              "      <td>3.087618</td>\n",
              "      <td>1.0534</td>\n",
              "      <td>0.029282</td>\n",
              "    </tr>\n",
              "    <tr>\n",
              "      <th>4</th>\n",
              "      <td>3.6235</td>\n",
              "      <td>3.215692</td>\n",
              "      <td>1.3290</td>\n",
              "      <td>0.039043</td>\n",
              "    </tr>\n",
              "    <tr>\n",
              "      <th>5</th>\n",
              "      <td>3.9376</td>\n",
              "      <td>3.343766</td>\n",
              "      <td>1.5928</td>\n",
              "      <td>0.048803</td>\n",
              "    </tr>\n",
              "    <tr>\n",
              "      <th>6</th>\n",
              "      <td>4.0383</td>\n",
              "      <td>3.471841</td>\n",
              "      <td>1.8765</td>\n",
              "      <td>0.058564</td>\n",
              "    </tr>\n",
              "    <tr>\n",
              "      <th>7</th>\n",
              "      <td>4.1570</td>\n",
              "      <td>3.599915</td>\n",
              "      <td>1.9888</td>\n",
              "      <td>0.068324</td>\n",
              "    </tr>\n",
              "    <tr>\n",
              "      <th>8</th>\n",
              "      <td>4.8498</td>\n",
              "      <td>3.727989</td>\n",
              "      <td>2.4822</td>\n",
              "      <td>0.078085</td>\n",
              "    </tr>\n",
              "    <tr>\n",
              "      <th>9</th>\n",
              "      <td>4.6561</td>\n",
              "      <td>3.856063</td>\n",
              "      <td>2.9987</td>\n",
              "      <td>0.087846</td>\n",
              "    </tr>\n",
              "    <tr>\n",
              "      <th>10</th>\n",
              "      <td>4.5119</td>\n",
              "      <td>3.984138</td>\n",
              "      <td>3.4312</td>\n",
              "      <td>0.097606</td>\n",
              "    </tr>\n",
              "    <tr>\n",
              "      <th>11</th>\n",
              "      <td>4.8346</td>\n",
              "      <td>4.112212</td>\n",
              "      <td>3.7816</td>\n",
              "      <td>0.107367</td>\n",
              "    </tr>\n",
              "    <tr>\n",
              "      <th>12</th>\n",
              "      <td>5.6039</td>\n",
              "      <td>4.240286</td>\n",
              "      <td>3.9817</td>\n",
              "      <td>0.117128</td>\n",
              "    </tr>\n",
              "    <tr>\n",
              "      <th>13</th>\n",
              "      <td>5.5890</td>\n",
              "      <td>4.368360</td>\n",
              "      <td>4.3171</td>\n",
              "      <td>0.126888</td>\n",
              "    </tr>\n",
              "    <tr>\n",
              "      <th>14</th>\n",
              "      <td>6.1914</td>\n",
              "      <td>4.496435</td>\n",
              "      <td>4.6765</td>\n",
              "      <td>0.136649</td>\n",
              "    </tr>\n",
              "    <tr>\n",
              "      <th>15</th>\n",
              "      <td>5.8966</td>\n",
              "      <td>4.624509</td>\n",
              "      <td>5.0811</td>\n",
              "      <td>0.146410</td>\n",
              "    </tr>\n",
              "    <tr>\n",
              "      <th>16</th>\n",
              "      <td>6.3866</td>\n",
              "      <td>4.752583</td>\n",
              "      <td>5.4567</td>\n",
              "      <td>0.156170</td>\n",
              "    </tr>\n",
              "    <tr>\n",
              "      <th>17</th>\n",
              "      <td>6.6909</td>\n",
              "      <td>4.880658</td>\n",
              "      <td>6.0122</td>\n",
              "      <td>0.165931</td>\n",
              "    </tr>\n",
              "    <tr>\n",
              "      <th>18</th>\n",
              "      <td>6.5224</td>\n",
              "      <td>5.008732</td>\n",
              "      <td>6.4543</td>\n",
              "      <td>0.175691</td>\n",
              "    </tr>\n",
              "    <tr>\n",
              "      <th>19</th>\n",
              "      <td>7.1803</td>\n",
              "      <td>5.136806</td>\n",
              "      <td>6.9876</td>\n",
              "      <td>0.185452</td>\n",
              "    </tr>\n",
              "    <tr>\n",
              "      <th>20</th>\n",
              "      <td>7.2537</td>\n",
              "      <td>5.264880</td>\n",
              "      <td>7.3242</td>\n",
              "      <td>0.195213</td>\n",
              "    </tr>\n",
              "  </tbody>\n",
              "</table>\n",
              "</div>\n",
              "      <button class=\"colab-df-convert\" onclick=\"convertToInteractive('df-74dee16f-2267-4be8-ae3f-ac5ac9eddba8')\"\n",
              "              title=\"Convert this dataframe to an interactive table.\"\n",
              "              style=\"display:none;\">\n",
              "        \n",
              "  <svg xmlns=\"http://www.w3.org/2000/svg\" height=\"24px\"viewBox=\"0 0 24 24\"\n",
              "       width=\"24px\">\n",
              "    <path d=\"M0 0h24v24H0V0z\" fill=\"none\"/>\n",
              "    <path d=\"M18.56 5.44l.94 2.06.94-2.06 2.06-.94-2.06-.94-.94-2.06-.94 2.06-2.06.94zm-11 1L8.5 8.5l.94-2.06 2.06-.94-2.06-.94L8.5 2.5l-.94 2.06-2.06.94zm10 10l.94 2.06.94-2.06 2.06-.94-2.06-.94-.94-2.06-.94 2.06-2.06.94z\"/><path d=\"M17.41 7.96l-1.37-1.37c-.4-.4-.92-.59-1.43-.59-.52 0-1.04.2-1.43.59L10.3 9.45l-7.72 7.72c-.78.78-.78 2.05 0 2.83L4 21.41c.39.39.9.59 1.41.59.51 0 1.02-.2 1.41-.59l7.78-7.78 2.81-2.81c.8-.78.8-2.07 0-2.86zM5.41 20L4 18.59l7.72-7.72 1.47 1.35L5.41 20z\"/>\n",
              "  </svg>\n",
              "      </button>\n",
              "      \n",
              "  <style>\n",
              "    .colab-df-container {\n",
              "      display:flex;\n",
              "      flex-wrap:wrap;\n",
              "      gap: 12px;\n",
              "    }\n",
              "\n",
              "    .colab-df-convert {\n",
              "      background-color: #E8F0FE;\n",
              "      border: none;\n",
              "      border-radius: 50%;\n",
              "      cursor: pointer;\n",
              "      display: none;\n",
              "      fill: #1967D2;\n",
              "      height: 32px;\n",
              "      padding: 0 0 0 0;\n",
              "      width: 32px;\n",
              "    }\n",
              "\n",
              "    .colab-df-convert:hover {\n",
              "      background-color: #E2EBFA;\n",
              "      box-shadow: 0px 1px 2px rgba(60, 64, 67, 0.3), 0px 1px 3px 1px rgba(60, 64, 67, 0.15);\n",
              "      fill: #174EA6;\n",
              "    }\n",
              "\n",
              "    [theme=dark] .colab-df-convert {\n",
              "      background-color: #3B4455;\n",
              "      fill: #D2E3FC;\n",
              "    }\n",
              "\n",
              "    [theme=dark] .colab-df-convert:hover {\n",
              "      background-color: #434B5C;\n",
              "      box-shadow: 0px 1px 3px 1px rgba(0, 0, 0, 0.15);\n",
              "      filter: drop-shadow(0px 1px 2px rgba(0, 0, 0, 0.3));\n",
              "      fill: #FFFFFF;\n",
              "    }\n",
              "  </style>\n",
              "\n",
              "      <script>\n",
              "        const buttonEl =\n",
              "          document.querySelector('#df-74dee16f-2267-4be8-ae3f-ac5ac9eddba8 button.colab-df-convert');\n",
              "        buttonEl.style.display =\n",
              "          google.colab.kernel.accessAllowed ? 'block' : 'none';\n",
              "\n",
              "        async function convertToInteractive(key) {\n",
              "          const element = document.querySelector('#df-74dee16f-2267-4be8-ae3f-ac5ac9eddba8');\n",
              "          const dataTable =\n",
              "            await google.colab.kernel.invokeFunction('convertToInteractive',\n",
              "                                                     [key], {});\n",
              "          if (!dataTable) return;\n",
              "\n",
              "          const docLinkHtml = 'Like what you see? Visit the ' +\n",
              "            '<a target=\"_blank\" href=https://colab.research.google.com/notebooks/data_table.ipynb>data table notebook</a>'\n",
              "            + ' to learn more about interactive tables.';\n",
              "          element.innerHTML = '';\n",
              "          dataTable['output_type'] = 'display_data';\n",
              "          await google.colab.output.renderOutput(dataTable, element);\n",
              "          const docLink = document.createElement('div');\n",
              "          docLink.innerHTML = docLinkHtml;\n",
              "          element.appendChild(docLink);\n",
              "        }\n",
              "      </script>\n",
              "    </div>\n",
              "  </div>\n",
              "  "
            ]
          },
          "metadata": {},
          "execution_count": 47
        }
      ]
    },
    {
      "cell_type": "markdown",
      "source": [
        "# TEST CON 3 MONOSEMI 1 HIDDEN"
      ],
      "metadata": {
        "id": "rYjaFOcRsfet"
      }
    },
    {
      "cell_type": "code",
      "source": [
        "# Preparazione dei dati\n",
        "x_train = torch.tensor(data_na2[:, 0], dtype=torch.float32).unsqueeze(1)\n",
        "y_train = torch.tensor(data_na2[:, 1], dtype=torch.float32).unsqueeze(1) #parte standard (1 problema)\n",
        "y2_train = torch.tensor(data_na2[:, 2], dtype=torch.float32).unsqueeze(1) #parte infinitesima (2 problema)\n",
        "y3_train = torch.tensor(data_na2[:, 3], dtype=torch.float32).unsqueeze(1) #parte infinitesima (3 problema)\n"
      ],
      "metadata": {
        "id": "R92GRpT3spgc"
      },
      "execution_count": 55,
      "outputs": []
    },
    {
      "cell_type": "code",
      "source": [
        "import torch.nn.init as init\n",
        "\n",
        "class CustomNASingleNeuronLayer(nn.Module):\n",
        "    def __init__(self, input_size, monosemio):\n",
        "        super(CustomNASingleNeuronLayer, self).__init__()\n",
        "        self.input_size = input_size\n",
        "        self.monosemio = monosemio\n",
        "        self.weight1 = nn.Parameter(torch.Tensor(input_size))\n",
        "        self.bias = nn.Parameter(torch.Tensor(1))\n",
        "        self.weight2 = nn.Parameter(torch.Tensor(input_size))\n",
        "        self.weight3 = nn.Parameter(torch.Tensor(input_size))\n",
        "        self.reset_parameters()\n",
        "\n",
        "    def reset_parameters(self):\n",
        "        nn.init.normal_(self.weight1)\n",
        "        nn.init.normal_(self.bias)\n",
        "        nn.init.normal_(self.weight2)\n",
        "        nn.init.normal_(self.weight3)\n",
        "\n",
        "    def forward(self, x):\n",
        "        if self.monosemio == 1:\n",
        "            output = torch.matmul(x, self.weight1) + self.bias\n",
        "        elif self.monosemio == 2:\n",
        "            output = torch.matmul(x, self.weight2)\n",
        "        elif self.monosemio == 3:\n",
        "            output = torch.matmul(x, self.weight3)\n",
        "        else:\n",
        "            raise ValueError(\"Invalid value for monosemio. Supported values are 1 and 2.\")\n",
        "        return output\n",
        "\n",
        "    def set_monosemio(self, monosemio):\n",
        "        self.monosemio = monosemio\n"
      ],
      "metadata": {
        "id": "E8SGwdwuuqf8"
      },
      "execution_count": 56,
      "outputs": []
    },
    {
      "cell_type": "code",
      "source": [
        "#custom layer\n",
        "#batch size = 1\n",
        "#input size = 10 se il mio hidden layer ha 10 neuroni\n",
        "import torch.nn.init as init\n",
        "\n",
        "class CustomNASingleNeuronLayerOldVersion(nn.Module):\n",
        "    def __init__(self, input_size , monosemio):\n",
        "        super(CustomNASingleNeuronLayer, self).__init__()\n",
        "        self.weight1 = nn.Parameter(torch.empty(1, input_size))\n",
        "        self.weight2 = nn.Parameter(torch.empty(1, input_size))\n",
        "        self.weight3 = nn.Parameter(torch.empty(1, input_size))\n",
        "        self.bias = nn.Parameter(torch.randn(1))\n",
        "        self.monosemio = monosemio\n",
        "        init.xavier_uniform_(self.weight1)\n",
        "        init.xavier_uniform_(self.weight2)\n",
        "        init.xavier_uniform_(self.weight3)\n",
        "\n",
        "    def forward(self, x):\n",
        "        if self.monosemio == 1 : \n",
        "          output = x[:, 0].unsqueeze(1) * self.weight1 + self.bias\n",
        "        elif self.monosemio == 2 : \n",
        "          output = x[:,1].unsqueeze(1) * self.weight2 \n",
        "        elif self.monosemio == 3 : \n",
        "          output = x[:,2].unsqueeze(1) * self.weight3 \n",
        "        return output\n",
        "\n",
        "    def set_monosemio(self, monosemio):\n",
        "        self.monosemio = monosemio\n"
      ],
      "metadata": {
        "id": "uvaW2lo7o9qf"
      },
      "execution_count": 57,
      "outputs": []
    },
    {
      "cell_type": "code",
      "source": [
        "#definizione della dnn con il layer custom\n",
        "class NeuralNet(nn.Module):\n",
        "    def __init__(self , monosemio):\n",
        "        super(NeuralNet, self).__init__()\n",
        "        self.hidden = nn.Linear(1, 10)  # Hidden layer con 10 neuroni\n",
        "        self.relu = nn.ReLU()\n",
        "        self.custom_layer = CustomNASingleNeuronLayer(10, monosemio)  # Custom layer come output layer\n",
        "\n",
        "\n",
        "    def forward(self, x):\n",
        "        x = self.hidden(x)\n",
        "        x = self.relu(x)\n",
        "        x = self.custom_layer(x)  # Passaggio attraverso il custom layer\n",
        "        return x\n",
        "\n",
        "\n",
        "# Creazione della rete neurale\n",
        "monosemio = 1\n",
        "net = NeuralNet(monosemio)\n"
      ],
      "metadata": {
        "id": "4SEgF5ZVu74F"
      },
      "execution_count": 58,
      "outputs": []
    },
    {
      "cell_type": "code",
      "source": [
        "#mse calcolata in base al monosemia\n",
        "#custom mse\n",
        "import torch\n",
        "import torch.nn as nn\n",
        "\n",
        "\n",
        "class CustomMSELossProva(nn.Module):\n",
        "    def __init__(self, monosemio):\n",
        "        super(CustomMSELossProva, self).__init__()\n",
        "        self.monosemio = monosemio\n",
        "\n",
        "    def forward(self, input, target, target1 , target2):\n",
        "        if self.monosemio == 1:\n",
        "            loss = torch.mean(torch.pow((input - target), 2))  # Confronto tra l'output e il target1\n",
        "        elif self.monosemio == 2:\n",
        "            loss = torch.mean(torch.pow((input - target1), 2))  # Confronto tra l'output e il target2\n",
        "        elif self.monosemio == 3:\n",
        "            loss = torch.mean(torch.pow((input - target2), 2))  # Confronto tra l'output e il target2\n",
        "        else:\n",
        "            raise ValueError(\"Il valore di monosemio deve essere 1 o 2.\")\n",
        "        return loss\n"
      ],
      "metadata": {
        "id": "_VVT1By6vDfo"
      },
      "execution_count": 59,
      "outputs": []
    },
    {
      "cell_type": "code",
      "source": [
        "# Addestramento della rete neurale\n",
        "num_epochs_per_monosemio = 240\n",
        "threshold = 1e-2\n",
        "loss_values_m1 = []  # Lista per memorizzare i valori di loss del monosemio 1\n",
        "loss_values_m2 = []  # Lista per memorizzare i valori di loss del monosemio 1\n",
        "loss_values_m3 = []  # Lista per memorizzare i valori di loss del monosemio 1\n",
        "old_grad = None  # Inizializza old_grad come un tensore vuoto\n",
        "weight1_changes_m1 = []  # Lista per memorizzare la variazione dei pesi di weight1\n",
        "weight2_changes_m1 = []  # Lista per memorizzare la variazione dei pesi di weight2\n",
        "hidden_changes_m1 = []  # Lista per memorizzare la variazione dei pesi dell'hidden layer\n",
        "grad_changes_m1 = []\n",
        "weight1_changes_m2 = []  # Lista per memorizzare la variazione dei pesi di weight1\n",
        "weight2_changes_m2 = []  # Lista per memorizzare la variazione dei pesi di weight2\n",
        "hidden_changes_m2 = []  # Lista per memorizzare la variazione dei pesi dell'hidden layer\n",
        "grad_changes_m2 = []\n",
        "weight1_changes_m3 = []  # Lista per memorizzare la variazione dei pesi di weight1\n",
        "weight2_changes_m3 = []  # Lista per memorizzare la variazione dei pesi di weight2\n",
        "weight3_changes_m3 = []  # Lista per memorizzare la variazione dei pesi di weight2\n",
        "hidden_changes_m3 = []  # Lista per memorizzare la variazione dei pesi dell'hidden layer\n",
        "grad_changes_m3 = []\n",
        "grad_directions = []\n",
        "\n",
        "for monosemio in range(1, 3):\n",
        "    optimizer = optim.SGD(net.parameters(), lr=0.01)  # Reinizializzazione dell'ottimizzatore per ogni monosemio\n",
        "    epoch = 0\n",
        "    criterion = CustomMSELossProva(monosemio)\n",
        "    prev_weight1 = None\n",
        "    prev_weight2 = None\n",
        "    prev_weight3 = None\n",
        "    prev_hidden = None\n",
        "    current_loss = 300\n",
        "    if monosemio == 2 and epoch==0 :\n",
        "        #old_grad = net.hidden.weight.grad.clone()\n",
        "        net.custom_layer.weight1.detach_()\n",
        "        net.custom_layer.bias.detach_()\n",
        "        net.custom_layer.weight2.requires_grad_()\n",
        "    if monosemio == 3 and epoch==0 :\n",
        "            net.custom_layer.weight2.detach_()\n",
        "            net.custom_layer.weight3.requires_grad_()\n",
        "    while epoch < num_epochs_per_monosemio and current_loss > threshold:\n",
        "\n",
        "        if monosemio == 1:\n",
        "            # Azzerare i gradienti per evitare l'accumulo\n",
        "            optimizer.zero_grad()\n",
        "            if epoch==0 :\n",
        "                net.custom_layer.weight2.detach_()    \n",
        "                net.custom_layer.weight3.detach_()    \n",
        "                net.custom_layer.weight1.requires_grad_()        \n",
        "            # Esegui il forward pass\n",
        "            outputs = net(x_train)\n",
        "            # Calcola la loss e fai il backward pass\n",
        "            loss = criterion(outputs, y_train, y2_train , y3_train)\n",
        "\n",
        "\n",
        "\n",
        "            # Calcola i gradienti e fai il backward pass\n",
        "            loss.backward()\n",
        "\n",
        "\n",
        "            # Creazione del grafo di autograd\n",
        "            graph1 = make_dot(loss, params=dict(net.named_parameters()))\n",
        " \n",
        "\n",
        "\n",
        "            # Aggiorna solo i pesi di weight1\n",
        "            optimizer.step()\n",
        "\n",
        "            if epoch > 0:\n",
        "                weight1_change = (net.custom_layer.weight1 - prev_weight1).abs().sum().item()\n",
        "                weight1_changes_m1.append(weight1_change)\n",
        "                weight2_change = (net.custom_layer.weight2 - prev_weight2).abs().sum().item()\n",
        "                weight2_changes_m1.append(weight2_change)                \n",
        "                hidden_change = (net.hidden.weight - prev_hidden).abs().sum().item()\n",
        "                hidden_changes_m1.append(hidden_change)\n",
        "                # Aggiungi la modifica del gradiente\n",
        "                grad_change = torch.norm(net.hidden.weight.grad)\n",
        "                grad_changes_m1.append(grad_change.item())\n",
        "\n",
        "            prev_weight1 = net.custom_layer.weight1.clone()\n",
        "            prev_weight2 = net.custom_layer.weight2.clone()\n",
        "            prev_hidden = net.hidden.weight.clone()\n",
        "            #print(prev_weight1)\n",
        "            current_loss = loss.item()\n",
        "            loss_values_m1.append(current_loss)  # Aggiungi il valore di loss alla lista\n",
        "            old_grad = net.hidden.weight.grad.clone()\n",
        "            #print(old_grad)\n",
        "\n",
        "        elif monosemio == 2:\n",
        "            # Azzerare i gradienti per evitare l'accumulo\n",
        "            optimizer.zero_grad()\n",
        "            if epoch==0 :\n",
        "                net.custom_layer.weight1.detach_()\n",
        "                net.custom_layer.bias.detach_()\n",
        "                net.custom_layer.weight2.requires_grad_()\n",
        "            # Imposta monosemio = 2 nella rete neurale\n",
        "            net.custom_layer.set_monosemio(2)\n",
        "            # Esegui il forward pass\n",
        "            outputs = net(x_train)\n",
        "            # Calcola la loss e fai il backward pass\n",
        "            loss = criterion(outputs, y_train, y2_train , y3_train)\n",
        "\n",
        "\n",
        "            # Calcola i gradienti e fai il backward pass\n",
        "            loss.backward()\n",
        "\n",
        "            # Creazione del grafo di autograd\n",
        "            graph2 = make_dot(loss, params=dict(net.named_parameters()))\n",
        "\n",
        "            old_grad2 = net.hidden.weight.grad.clone()\n",
        "\n",
        "            #print(net.hidden.weight.grad.shape)\n",
        "            #calcola la proiezione\n",
        "\n",
        "            if old_grad is not None:   \n",
        "              new_grad = net.hidden.weight.grad.clone()\n",
        "              projection = new_grad - torch.mm(new_grad.t(), old_grad) * old_grad / torch.mm(old_grad.t(), old_grad)\n",
        "              #projection = torch.mm(new_grad.t(), old_grad) / torch.mm(old_grad.t(), old_grad) * old_grad\n",
        "\n",
        "              projection = projection.reshape(net.hidden.weight.grad.shape)\n",
        "              net.hidden.weight.grad.data.copy_(projection)\n",
        "              #print(projection.shape)\n",
        "\n",
        "            # Aggiorna solo i pesi di weight2\n",
        "            optimizer.step()\n",
        "            current_loss = loss.item()\n",
        "            loss_values_m2.append(current_loss)  # Aggiungi il valore di loss alla lista\n",
        "            if epoch > 1:\n",
        "                weight1_change = (net.custom_layer.weight1 - prev_weight1).abs().sum().item()\n",
        "                weight1_changes_m2.append(weight1_change)\n",
        "                weight2_change = (net.custom_layer.weight2 - prev_weight2).abs().sum().item()\n",
        "                weight2_changes_m2.append(weight2_change) \n",
        "                hidden_change = (net.hidden.weight - prev_hidden).abs().sum().item()\n",
        "                hidden_changes_m2.append(hidden_change)\n",
        "                # Aggiungi la modifica del gradiente\n",
        "                grad_change = torch.norm(net.hidden.weight.grad)\n",
        "                grad_changes_m2.append(grad_change.item())\n",
        "            prev_weight1 = net.custom_layer.weight1.clone()\n",
        "            prev_weight2 = net.custom_layer.weight2.clone()\n",
        "            prev_hidden = net.hidden.weight.clone() \n",
        "\n",
        "        elif monosemio == 3:\n",
        "            # Imposta monosemio = 3 nella rete neurale\n",
        "            net.custom_layer.set_monosemio(3)\n",
        "            # Azzerare i gradienti per evitare l'accumulo\n",
        "            optimizer.zero_grad()\n",
        "            if epoch==0 :\n",
        "                net.custom_layer.weight2.detach_()\n",
        "                net.custom_layer.weight3.requires_grad_()\n",
        "\n",
        "            # Esegui il forward pass\n",
        "            outputs = net(x_train)\n",
        "            # Calcola la loss e fai il backward pass\n",
        "            loss = criterion(outputs, y_train, y2_train , y3_train)\n",
        "\n",
        "            # Calcola i gradienti e fai il backward pass\n",
        "            loss.backward()\n",
        "\n",
        "            # Creazione del grafo di autograd\n",
        "            graph3 = make_dot(loss, params=dict(net.named_parameters()))\n",
        "\n",
        "            #print(net.hidden.weight.grad.shape)\n",
        "            #calcola la proiezione\n",
        "\n",
        "            '''\n",
        "            Calcola la proiezione del gradiente new_grad su un piano definito dai gradienti precedenti old_grad e old_grad2,\n",
        "            e assegna questa proiezione come gradiente dell'hidden layer del modello\n",
        "            '''\n",
        "\n",
        "            if old_grad is not None and old_grad2 is not None : \n",
        "              #print(old_grad.shape)  \n",
        "              #print(old_grad2.shape)  \n",
        "              new_grad = net.hidden.weight.grad.clone()\n",
        "              # Conversione in oggetti di NumPy\n",
        "              old_grad_np = old_grad.detach().numpy()\n",
        "              old_grad2_np = old_grad2.detach().numpy()\n",
        "              # Costruzione della matrice A con i due vettori come colonne\n",
        "              A = np.column_stack((old_grad, old_grad2))  # shape (64, 2)\n",
        "\n",
        "              # Calcolo della soluzione del sistema lineare Ax = b, dove b è un vettore di zeri\n",
        "              b = np.zeros((10, 1))\n",
        "\n",
        "              # Calcolo dei coefficienti del piano\n",
        "              plane_coefficients = np.linalg.lstsq(A, b, rcond=None)[0]\n",
        "\n",
        "              # Salvataggio dei coefficienti del piano nella variabile plane\n",
        "              plane = plane_coefficients.flatten()\n",
        "\n",
        "              # Visualizzazione dei coefficienti del piano\n",
        "              #print(plane)\n",
        "\n",
        "              # Calcolo della proiezione di new_grad sul piano\n",
        "              projection = new_grad - np.dot(A, plane_coefficients.reshape(-1, 1))\n",
        "              # Assegno la proiezione all'hidden layer\n",
        "              net.hidden.weight.grad.data.copy_(projection)\n",
        "              \n",
        "\n",
        "            # Aggiorna solo i pesi di weight3\n",
        "            optimizer.step()\n",
        "            current_loss = loss.item()\n",
        "            loss_values_m3.append(current_loss)  # Aggiungi il valore di loss alla lista\n",
        "            if epoch > 1:\n",
        "                weight1_change = (net.custom_layer.weight1 - prev_weight1).abs().sum().item()\n",
        "                weight1_changes_m3.append(weight1_change)\n",
        "                weight2_change = (net.custom_layer.weight2 - prev_weight2).abs().sum().item()\n",
        "                weight2_changes_m3.append(weight2_change) \n",
        "                hidden_change = (net.hidden.weight - prev_hidden).abs().sum().item()\n",
        "                hidden_changes_m3.append(hidden_change)\n",
        "                weight3_change = (net.custom_layer.weight3 - prev_weight3).abs().sum().item()\n",
        "                weight3_changes_m3.append(weight3_change) \n",
        "                # Aggiungi la modifica del gradiente\n",
        "                grad_change = torch.norm(net.hidden.weight.grad)\n",
        "                grad_changes_m3.append(grad_change.item())\n",
        "            prev_weight1 = net.custom_layer.weight1.clone()\n",
        "            prev_weight2 = net.custom_layer.weight2.clone()\n",
        "            prev_weight3 = net.custom_layer.weight3.clone()\n",
        "            prev_hidden = net.hidden.weight.clone() \n",
        "\n",
        "        else:\n",
        "            raise ValueError(\"Il valore di monosemio deve essere compreso tra 1 e 2.\")\n",
        "\n",
        "        \n",
        "        epoch += 1\n",
        "\n",
        "        if epoch % 20 == 0:\n",
        "            print(f'Monosemio: {monosemio}, Epoch {epoch}/{num_epochs_per_monosemio}, Loss: {current_loss:.4f}')\n",
        "            #print(old_grad.shape)\n",
        "\n"
      ],
      "metadata": {
        "colab": {
          "base_uri": "https://localhost:8080/"
        },
        "id": "j_Ix4l8QLbEk",
        "outputId": "e16dad6f-1256-4197-fe89-408a1a5c43a8"
      },
      "execution_count": 60,
      "outputs": [
        {
          "output_type": "stream",
          "name": "stdout",
          "text": [
            "Monosemio: 1, Epoch 20/240, Loss: 11.2999\n",
            "Monosemio: 1, Epoch 40/240, Loss: 3.2855\n",
            "Monosemio: 1, Epoch 60/240, Loss: 2.8138\n",
            "Monosemio: 1, Epoch 80/240, Loss: 2.5129\n",
            "Monosemio: 1, Epoch 100/240, Loss: 2.3281\n",
            "Monosemio: 1, Epoch 120/240, Loss: 2.2235\n",
            "Monosemio: 1, Epoch 140/240, Loss: 2.1669\n",
            "Monosemio: 1, Epoch 160/240, Loss: 2.1358\n",
            "Monosemio: 1, Epoch 180/240, Loss: 2.1175\n",
            "Monosemio: 1, Epoch 200/240, Loss: 2.1052\n",
            "Monosemio: 1, Epoch 220/240, Loss: 2.0963\n",
            "Monosemio: 1, Epoch 240/240, Loss: 2.0897\n",
            "Monosemio: 2, Epoch 20/240, Loss: 6.2197\n",
            "Monosemio: 2, Epoch 40/240, Loss: 5.5277\n",
            "Monosemio: 2, Epoch 60/240, Loss: 5.0405\n",
            "Monosemio: 2, Epoch 80/240, Loss: 4.7927\n",
            "Monosemio: 2, Epoch 100/240, Loss: 4.6930\n",
            "Monosemio: 2, Epoch 120/240, Loss: 4.6568\n",
            "Monosemio: 2, Epoch 140/240, Loss: 4.6422\n",
            "Monosemio: 2, Epoch 160/240, Loss: 4.6343\n",
            "Monosemio: 2, Epoch 180/240, Loss: 4.6310\n",
            "Monosemio: 2, Epoch 200/240, Loss: 6.1953\n",
            "Monosemio: 2, Epoch 220/240, Loss: 4.6439\n",
            "Monosemio: 2, Epoch 240/240, Loss: 4.6250\n"
          ]
        }
      ]
    },
    {
      "cell_type": "code",
      "source": [
        "# Visualizzazione del grafo di autograd\n",
        "graph1"
      ],
      "metadata": {
        "id": "qZ_hIXTZSKuk",
        "colab": {
          "base_uri": "https://localhost:8080/",
          "height": 866
        },
        "outputId": "60b20afd-8d12-43ec-da3e-7197370b66f8"
      },
      "execution_count": 61,
      "outputs": [
        {
          "output_type": "execute_result",
          "data": {
            "image/svg+xml": "<?xml version=\"1.0\" encoding=\"UTF-8\" standalone=\"no\"?>\n<!DOCTYPE svg PUBLIC \"-//W3C//DTD SVG 1.1//EN\"\n \"http://www.w3.org/Graphics/SVG/1.1/DTD/svg11.dtd\">\n<!-- Generated by graphviz version 2.43.0 (0)\n -->\n<!-- Title: %3 Pages: 1 -->\n<svg width=\"430pt\" height=\"633pt\"\n viewBox=\"0.00 0.00 430.00 633.00\" xmlns=\"http://www.w3.org/2000/svg\" xmlns:xlink=\"http://www.w3.org/1999/xlink\">\n<g id=\"graph0\" class=\"graph\" transform=\"scale(1 1) rotate(0) translate(4 629)\">\n<title>%3</title>\n<polygon fill=\"white\" stroke=\"transparent\" points=\"-4,4 -4,-629 426,-629 426,4 -4,4\"/>\n<!-- 140611299171744 -->\n<g id=\"node1\" class=\"node\">\n<title>140611299171744</title>\n<polygon fill=\"#caff70\" stroke=\"black\" points=\"320.5,-31 266.5,-31 266.5,0 320.5,0 320.5,-31\"/>\n<text text-anchor=\"middle\" x=\"293.5\" y=\"-7\" font-family=\"monospace\" font-size=\"10.00\"> ()</text>\n</g>\n<!-- 140611188256208 -->\n<g id=\"node2\" class=\"node\">\n<title>140611188256208</title>\n<polygon fill=\"lightgrey\" stroke=\"black\" points=\"341,-86 246,-86 246,-67 341,-67 341,-86\"/>\n<text text-anchor=\"middle\" x=\"293.5\" y=\"-74\" font-family=\"monospace\" font-size=\"10.00\">MeanBackward0</text>\n</g>\n<!-- 140611188256208&#45;&gt;140611299171744 -->\n<g id=\"edge16\" class=\"edge\">\n<title>140611188256208&#45;&gt;140611299171744</title>\n<path fill=\"none\" stroke=\"black\" d=\"M293.5,-66.79C293.5,-60.07 293.5,-50.4 293.5,-41.34\"/>\n<polygon fill=\"black\" stroke=\"black\" points=\"297,-41.19 293.5,-31.19 290,-41.19 297,-41.19\"/>\n</g>\n<!-- 140611188249920 -->\n<g id=\"node3\" class=\"node\">\n<title>140611188249920</title>\n<polygon fill=\"lightgrey\" stroke=\"black\" points=\"338,-141 249,-141 249,-122 338,-122 338,-141\"/>\n<text text-anchor=\"middle\" x=\"293.5\" y=\"-129\" font-family=\"monospace\" font-size=\"10.00\">PowBackward0</text>\n</g>\n<!-- 140611188249920&#45;&gt;140611188256208 -->\n<g id=\"edge1\" class=\"edge\">\n<title>140611188249920&#45;&gt;140611188256208</title>\n<path fill=\"none\" stroke=\"black\" d=\"M293.5,-121.75C293.5,-114.8 293.5,-104.85 293.5,-96.13\"/>\n<polygon fill=\"black\" stroke=\"black\" points=\"297,-96.09 293.5,-86.09 290,-96.09 297,-96.09\"/>\n</g>\n<!-- 140611188253664 -->\n<g id=\"node4\" class=\"node\">\n<title>140611188253664</title>\n<polygon fill=\"lightgrey\" stroke=\"black\" points=\"338,-196 249,-196 249,-177 338,-177 338,-196\"/>\n<text text-anchor=\"middle\" x=\"293.5\" y=\"-184\" font-family=\"monospace\" font-size=\"10.00\">SubBackward0</text>\n</g>\n<!-- 140611188253664&#45;&gt;140611188249920 -->\n<g id=\"edge2\" class=\"edge\">\n<title>140611188253664&#45;&gt;140611188249920</title>\n<path fill=\"none\" stroke=\"black\" d=\"M293.5,-176.75C293.5,-169.8 293.5,-159.85 293.5,-151.13\"/>\n<polygon fill=\"black\" stroke=\"black\" points=\"297,-151.09 293.5,-141.09 290,-151.09 297,-151.09\"/>\n</g>\n<!-- 140611188248720 -->\n<g id=\"node5\" class=\"node\">\n<title>140611188248720</title>\n<polygon fill=\"lightgrey\" stroke=\"black\" points=\"338,-251 249,-251 249,-232 338,-232 338,-251\"/>\n<text text-anchor=\"middle\" x=\"293.5\" y=\"-239\" font-family=\"monospace\" font-size=\"10.00\">AddBackward0</text>\n</g>\n<!-- 140611188248720&#45;&gt;140611188253664 -->\n<g id=\"edge3\" class=\"edge\">\n<title>140611188248720&#45;&gt;140611188253664</title>\n<path fill=\"none\" stroke=\"black\" d=\"M293.5,-231.75C293.5,-224.8 293.5,-214.85 293.5,-206.13\"/>\n<polygon fill=\"black\" stroke=\"black\" points=\"297,-206.09 293.5,-196.09 290,-206.09 297,-206.09\"/>\n</g>\n<!-- 140611188249152 -->\n<g id=\"node6\" class=\"node\">\n<title>140611188249152</title>\n<polygon fill=\"lightgrey\" stroke=\"black\" points=\"276,-306 193,-306 193,-287 276,-287 276,-306\"/>\n<text text-anchor=\"middle\" x=\"234.5\" y=\"-294\" font-family=\"monospace\" font-size=\"10.00\">MvBackward0</text>\n</g>\n<!-- 140611188249152&#45;&gt;140611188248720 -->\n<g id=\"edge4\" class=\"edge\">\n<title>140611188249152&#45;&gt;140611188248720</title>\n<path fill=\"none\" stroke=\"black\" d=\"M243.98,-286.98C252.7,-279.15 265.84,-267.34 276.4,-257.86\"/>\n<polygon fill=\"black\" stroke=\"black\" points=\"278.75,-260.46 283.85,-251.17 274.07,-255.25 278.75,-260.46\"/>\n</g>\n<!-- 140611188245840 -->\n<g id=\"node7\" class=\"node\">\n<title>140611188245840</title>\n<polygon fill=\"lightgrey\" stroke=\"black\" points=\"161,-366.5 66,-366.5 66,-347.5 161,-347.5 161,-366.5\"/>\n<text text-anchor=\"middle\" x=\"113.5\" y=\"-354.5\" font-family=\"monospace\" font-size=\"10.00\">ReluBackward0</text>\n</g>\n<!-- 140611188245840&#45;&gt;140611188249152 -->\n<g id=\"edge5\" class=\"edge\">\n<title>140611188245840&#45;&gt;140611188249152</title>\n<path fill=\"none\" stroke=\"black\" d=\"M131.09,-347.49C151.26,-337.75 184.52,-321.66 207.86,-310.38\"/>\n<polygon fill=\"black\" stroke=\"black\" points=\"209.4,-313.52 216.88,-306.02 206.36,-307.22 209.4,-313.52\"/>\n</g>\n<!-- 140611188245072 -->\n<g id=\"node8\" class=\"node\">\n<title>140611188245072</title>\n<polygon fill=\"lightgrey\" stroke=\"black\" points=\"154,-432.5 53,-432.5 53,-413.5 154,-413.5 154,-432.5\"/>\n<text text-anchor=\"middle\" x=\"103.5\" y=\"-420.5\" font-family=\"monospace\" font-size=\"10.00\">AddmmBackward0</text>\n</g>\n<!-- 140611188245072&#45;&gt;140611188245840 -->\n<g id=\"edge6\" class=\"edge\">\n<title>140611188245072&#45;&gt;140611188245840</title>\n<path fill=\"none\" stroke=\"black\" d=\"M104.85,-413.37C106.3,-404.07 108.66,-388.98 110.55,-376.9\"/>\n<polygon fill=\"black\" stroke=\"black\" points=\"114.02,-377.33 112.11,-366.91 107.11,-376.25 114.02,-377.33\"/>\n</g>\n<!-- 140611188247328 -->\n<g id=\"node9\" class=\"node\">\n<title>140611188247328</title>\n<polygon fill=\"lightgrey\" stroke=\"black\" points=\"101,-493 0,-493 0,-474 101,-474 101,-493\"/>\n<text text-anchor=\"middle\" x=\"50.5\" y=\"-481\" font-family=\"monospace\" font-size=\"10.00\">AccumulateGrad</text>\n</g>\n<!-- 140611188247328&#45;&gt;140611188245072 -->\n<g id=\"edge7\" class=\"edge\">\n<title>140611188247328&#45;&gt;140611188245072</title>\n<path fill=\"none\" stroke=\"black\" d=\"M58.32,-473.87C66.31,-465.05 78.89,-451.16 88.76,-440.27\"/>\n<polygon fill=\"black\" stroke=\"black\" points=\"91.53,-442.43 95.65,-432.67 86.34,-437.73 91.53,-442.43\"/>\n</g>\n<!-- 140614912459136 -->\n<g id=\"node10\" class=\"node\">\n<title>140614912459136</title>\n<polygon fill=\"lightblue\" stroke=\"black\" points=\"91,-559 8,-559 8,-529 91,-529 91,-559\"/>\n<text text-anchor=\"middle\" x=\"49.5\" y=\"-547\" font-family=\"monospace\" font-size=\"10.00\">hidden.bias</text>\n<text text-anchor=\"middle\" x=\"49.5\" y=\"-536\" font-family=\"monospace\" font-size=\"10.00\"> (10)</text>\n</g>\n<!-- 140614912459136&#45;&gt;140611188247328 -->\n<g id=\"edge8\" class=\"edge\">\n<title>140614912459136&#45;&gt;140611188247328</title>\n<path fill=\"none\" stroke=\"black\" d=\"M49.74,-528.84C49.87,-521.21 50.03,-511.7 50.18,-503.45\"/>\n<polygon fill=\"black\" stroke=\"black\" points=\"53.68,-503.32 50.35,-493.27 46.68,-503.2 53.68,-503.32\"/>\n</g>\n<!-- 140611188252416 -->\n<g id=\"node11\" class=\"node\">\n<title>140611188252416</title>\n<polygon fill=\"lightgrey\" stroke=\"black\" points=\"197,-493 120,-493 120,-474 197,-474 197,-493\"/>\n<text text-anchor=\"middle\" x=\"158.5\" y=\"-481\" font-family=\"monospace\" font-size=\"10.00\">TBackward0</text>\n</g>\n<!-- 140611188252416&#45;&gt;140611188245072 -->\n<g id=\"edge9\" class=\"edge\">\n<title>140611188252416&#45;&gt;140611188245072</title>\n<path fill=\"none\" stroke=\"black\" d=\"M150.38,-473.87C142.1,-465.05 129.03,-451.16 118.8,-440.27\"/>\n<polygon fill=\"black\" stroke=\"black\" points=\"121.05,-437.56 111.65,-432.67 115.95,-442.35 121.05,-437.56\"/>\n</g>\n<!-- 140611297879392 -->\n<g id=\"node12\" class=\"node\">\n<title>140611297879392</title>\n<polygon fill=\"lightgrey\" stroke=\"black\" points=\"210,-553.5 109,-553.5 109,-534.5 210,-534.5 210,-553.5\"/>\n<text text-anchor=\"middle\" x=\"159.5\" y=\"-541.5\" font-family=\"monospace\" font-size=\"10.00\">AccumulateGrad</text>\n</g>\n<!-- 140611297879392&#45;&gt;140611188252416 -->\n<g id=\"edge10\" class=\"edge\">\n<title>140611297879392&#45;&gt;140611188252416</title>\n<path fill=\"none\" stroke=\"black\" d=\"M159.35,-534.37C159.21,-526.25 159,-513.81 158.82,-503.39\"/>\n<polygon fill=\"black\" stroke=\"black\" points=\"162.32,-503.11 158.65,-493.17 155.32,-503.23 162.32,-503.11\"/>\n</g>\n<!-- 140611297175776 -->\n<g id=\"node13\" class=\"node\">\n<title>140611297175776</title>\n<polygon fill=\"lightblue\" stroke=\"black\" points=\"207,-625 112,-625 112,-595 207,-595 207,-625\"/>\n<text text-anchor=\"middle\" x=\"159.5\" y=\"-613\" font-family=\"monospace\" font-size=\"10.00\">hidden.weight</text>\n<text text-anchor=\"middle\" x=\"159.5\" y=\"-602\" font-family=\"monospace\" font-size=\"10.00\"> (10, 1)</text>\n</g>\n<!-- 140611297175776&#45;&gt;140611297879392 -->\n<g id=\"edge11\" class=\"edge\">\n<title>140611297175776&#45;&gt;140611297879392</title>\n<path fill=\"none\" stroke=\"black\" d=\"M159.5,-594.8C159.5,-585.7 159.5,-573.79 159.5,-563.9\"/>\n<polygon fill=\"black\" stroke=\"black\" points=\"163,-563.84 159.5,-553.84 156,-563.84 163,-563.84\"/>\n</g>\n<!-- 140611188247472 -->\n<g id=\"node14\" class=\"node\">\n<title>140611188247472</title>\n<polygon fill=\"lightgrey\" stroke=\"black\" points=\"285,-366.5 184,-366.5 184,-347.5 285,-347.5 285,-366.5\"/>\n<text text-anchor=\"middle\" x=\"234.5\" y=\"-354.5\" font-family=\"monospace\" font-size=\"10.00\">AccumulateGrad</text>\n</g>\n<!-- 140611188247472&#45;&gt;140611188249152 -->\n<g id=\"edge12\" class=\"edge\">\n<title>140611188247472&#45;&gt;140611188249152</title>\n<path fill=\"none\" stroke=\"black\" d=\"M234.5,-347.37C234.5,-339.25 234.5,-326.81 234.5,-316.39\"/>\n<polygon fill=\"black\" stroke=\"black\" points=\"238,-316.17 234.5,-306.17 231,-316.17 238,-316.17\"/>\n</g>\n<!-- 140611333917648 -->\n<g id=\"node15\" class=\"node\">\n<title>140611333917648</title>\n<polygon fill=\"lightblue\" stroke=\"black\" points=\"309,-438 172,-438 172,-408 309,-408 309,-438\"/>\n<text text-anchor=\"middle\" x=\"240.5\" y=\"-426\" font-family=\"monospace\" font-size=\"10.00\">custom_layer.weight1</text>\n<text text-anchor=\"middle\" x=\"240.5\" y=\"-415\" font-family=\"monospace\" font-size=\"10.00\"> (10)</text>\n</g>\n<!-- 140611333917648&#45;&gt;140611188247472 -->\n<g id=\"edge13\" class=\"edge\">\n<title>140611333917648&#45;&gt;140611188247472</title>\n<path fill=\"none\" stroke=\"black\" d=\"M239.17,-407.8C238.32,-398.7 237.2,-386.79 236.27,-376.9\"/>\n<polygon fill=\"black\" stroke=\"black\" points=\"239.75,-376.47 235.33,-366.84 232.78,-377.13 239.75,-376.47\"/>\n</g>\n<!-- 140611188249392 -->\n<g id=\"node16\" class=\"node\">\n<title>140611188249392</title>\n<polygon fill=\"lightgrey\" stroke=\"black\" points=\"404,-306 303,-306 303,-287 404,-287 404,-306\"/>\n<text text-anchor=\"middle\" x=\"353.5\" y=\"-294\" font-family=\"monospace\" font-size=\"10.00\">AccumulateGrad</text>\n</g>\n<!-- 140611188249392&#45;&gt;140611188248720 -->\n<g id=\"edge14\" class=\"edge\">\n<title>140611188249392&#45;&gt;140611188248720</title>\n<path fill=\"none\" stroke=\"black\" d=\"M343.86,-286.98C334.99,-279.15 321.63,-267.34 310.89,-257.86\"/>\n<polygon fill=\"black\" stroke=\"black\" points=\"313.13,-255.17 303.32,-251.17 308.49,-260.41 313.13,-255.17\"/>\n</g>\n<!-- 140611297173056 -->\n<g id=\"node17\" class=\"node\">\n<title>140611297173056</title>\n<polygon fill=\"lightblue\" stroke=\"black\" points=\"422,-372 303,-372 303,-342 422,-342 422,-372\"/>\n<text text-anchor=\"middle\" x=\"362.5\" y=\"-360\" font-family=\"monospace\" font-size=\"10.00\">custom_layer.bias</text>\n<text text-anchor=\"middle\" x=\"362.5\" y=\"-349\" font-family=\"monospace\" font-size=\"10.00\"> (1)</text>\n</g>\n<!-- 140611297173056&#45;&gt;140611188249392 -->\n<g id=\"edge15\" class=\"edge\">\n<title>140611297173056&#45;&gt;140611188249392</title>\n<path fill=\"none\" stroke=\"black\" d=\"M360.32,-341.84C359.13,-334.13 357.65,-324.49 356.37,-316.17\"/>\n<polygon fill=\"black\" stroke=\"black\" points=\"359.83,-315.62 354.85,-306.27 352.91,-316.68 359.83,-315.62\"/>\n</g>\n</g>\n</svg>\n",
            "text/plain": [
              "<graphviz.graphs.Digraph at 0x7fe297ed4f70>"
            ]
          },
          "metadata": {},
          "execution_count": 61
        }
      ]
    },
    {
      "cell_type": "code",
      "source": [
        "# Visualizzazione del grafo di autograd\n",
        "graph2"
      ],
      "metadata": {
        "id": "64sPAlkJSLdv",
        "colab": {
          "base_uri": "https://localhost:8080/",
          "height": 778
        },
        "outputId": "3d901ea2-70a0-4534-c752-d123628e3d25"
      },
      "execution_count": 62,
      "outputs": [
        {
          "output_type": "execute_result",
          "data": {
            "image/svg+xml": "<?xml version=\"1.0\" encoding=\"UTF-8\" standalone=\"no\"?>\n<!DOCTYPE svg PUBLIC \"-//W3C//DTD SVG 1.1//EN\"\n \"http://www.w3.org/Graphics/SVG/1.1/DTD/svg11.dtd\">\n<!-- Generated by graphviz version 2.43.0 (0)\n -->\n<!-- Title: %3 Pages: 1 -->\n<svg width=\"317pt\" height=\"567pt\"\n viewBox=\"0.00 0.00 317.00 567.00\" xmlns=\"http://www.w3.org/2000/svg\" xmlns:xlink=\"http://www.w3.org/1999/xlink\">\n<g id=\"graph0\" class=\"graph\" transform=\"scale(1 1) rotate(0) translate(4 563)\">\n<title>%3</title>\n<polygon fill=\"white\" stroke=\"transparent\" points=\"-4,4 -4,-563 313,-563 313,4 -4,4\"/>\n<!-- 140611299172624 -->\n<g id=\"node1\" class=\"node\">\n<title>140611299172624</title>\n<polygon fill=\"#caff70\" stroke=\"black\" points=\"198.5,-31 144.5,-31 144.5,0 198.5,0 198.5,-31\"/>\n<text text-anchor=\"middle\" x=\"171.5\" y=\"-7\" font-family=\"monospace\" font-size=\"10.00\"> ()</text>\n</g>\n<!-- 140611297881888 -->\n<g id=\"node2\" class=\"node\">\n<title>140611297881888</title>\n<polygon fill=\"lightgrey\" stroke=\"black\" points=\"219,-86 124,-86 124,-67 219,-67 219,-86\"/>\n<text text-anchor=\"middle\" x=\"171.5\" y=\"-74\" font-family=\"monospace\" font-size=\"10.00\">MeanBackward0</text>\n</g>\n<!-- 140611297881888&#45;&gt;140611299172624 -->\n<g id=\"edge13\" class=\"edge\">\n<title>140611297881888&#45;&gt;140611299172624</title>\n<path fill=\"none\" stroke=\"black\" d=\"M171.5,-66.79C171.5,-60.07 171.5,-50.4 171.5,-41.34\"/>\n<polygon fill=\"black\" stroke=\"black\" points=\"175,-41.19 171.5,-31.19 168,-41.19 175,-41.19\"/>\n</g>\n<!-- 140611297873152 -->\n<g id=\"node3\" class=\"node\">\n<title>140611297873152</title>\n<polygon fill=\"lightgrey\" stroke=\"black\" points=\"216,-141 127,-141 127,-122 216,-122 216,-141\"/>\n<text text-anchor=\"middle\" x=\"171.5\" y=\"-129\" font-family=\"monospace\" font-size=\"10.00\">PowBackward0</text>\n</g>\n<!-- 140611297873152&#45;&gt;140611297881888 -->\n<g id=\"edge1\" class=\"edge\">\n<title>140611297873152&#45;&gt;140611297881888</title>\n<path fill=\"none\" stroke=\"black\" d=\"M171.5,-121.75C171.5,-114.8 171.5,-104.85 171.5,-96.13\"/>\n<polygon fill=\"black\" stroke=\"black\" points=\"175,-96.09 171.5,-86.09 168,-96.09 175,-96.09\"/>\n</g>\n<!-- 140611297876128 -->\n<g id=\"node4\" class=\"node\">\n<title>140611297876128</title>\n<polygon fill=\"lightgrey\" stroke=\"black\" points=\"216,-196 127,-196 127,-177 216,-177 216,-196\"/>\n<text text-anchor=\"middle\" x=\"171.5\" y=\"-184\" font-family=\"monospace\" font-size=\"10.00\">SubBackward0</text>\n</g>\n<!-- 140611297876128&#45;&gt;140611297873152 -->\n<g id=\"edge2\" class=\"edge\">\n<title>140611297876128&#45;&gt;140611297873152</title>\n<path fill=\"none\" stroke=\"black\" d=\"M171.5,-176.75C171.5,-169.8 171.5,-159.85 171.5,-151.13\"/>\n<polygon fill=\"black\" stroke=\"black\" points=\"175,-151.09 171.5,-141.09 168,-151.09 175,-151.09\"/>\n</g>\n<!-- 140611297870656 -->\n<g id=\"node5\" class=\"node\">\n<title>140611297870656</title>\n<polygon fill=\"lightgrey\" stroke=\"black\" points=\"213,-251 130,-251 130,-232 213,-232 213,-251\"/>\n<text text-anchor=\"middle\" x=\"171.5\" y=\"-239\" font-family=\"monospace\" font-size=\"10.00\">MvBackward0</text>\n</g>\n<!-- 140611297870656&#45;&gt;140611297876128 -->\n<g id=\"edge3\" class=\"edge\">\n<title>140611297870656&#45;&gt;140611297876128</title>\n<path fill=\"none\" stroke=\"black\" d=\"M171.5,-231.75C171.5,-224.8 171.5,-214.85 171.5,-206.13\"/>\n<polygon fill=\"black\" stroke=\"black\" points=\"175,-206.09 171.5,-196.09 168,-206.09 175,-206.09\"/>\n</g>\n<!-- 140611297878912 -->\n<g id=\"node6\" class=\"node\">\n<title>140611297878912</title>\n<polygon fill=\"lightgrey\" stroke=\"black\" points=\"156,-306 61,-306 61,-287 156,-287 156,-306\"/>\n<text text-anchor=\"middle\" x=\"108.5\" y=\"-294\" font-family=\"monospace\" font-size=\"10.00\">ReluBackward0</text>\n</g>\n<!-- 140611297878912&#45;&gt;140611297870656 -->\n<g id=\"edge4\" class=\"edge\">\n<title>140611297878912&#45;&gt;140611297870656</title>\n<path fill=\"none\" stroke=\"black\" d=\"M118.62,-286.98C127.94,-279.15 141.97,-267.34 153.24,-257.86\"/>\n<polygon fill=\"black\" stroke=\"black\" points=\"155.79,-260.29 161.19,-251.17 151.29,-254.93 155.79,-260.29\"/>\n</g>\n<!-- 140611297882416 -->\n<g id=\"node7\" class=\"node\">\n<title>140611297882416</title>\n<polygon fill=\"lightgrey\" stroke=\"black\" points=\"154,-366.5 53,-366.5 53,-347.5 154,-347.5 154,-366.5\"/>\n<text text-anchor=\"middle\" x=\"103.5\" y=\"-354.5\" font-family=\"monospace\" font-size=\"10.00\">AddmmBackward0</text>\n</g>\n<!-- 140611297882416&#45;&gt;140611297878912 -->\n<g id=\"edge5\" class=\"edge\">\n<title>140611297882416&#45;&gt;140611297878912</title>\n<path fill=\"none\" stroke=\"black\" d=\"M104.24,-347.37C104.93,-339.25 106,-326.81 106.89,-316.39\"/>\n<polygon fill=\"black\" stroke=\"black\" points=\"110.39,-316.43 107.76,-306.17 103.42,-315.83 110.39,-316.43\"/>\n</g>\n<!-- 140611188247328 -->\n<g id=\"node8\" class=\"node\">\n<title>140611188247328</title>\n<polygon fill=\"lightgrey\" stroke=\"black\" points=\"101,-427 0,-427 0,-408 101,-408 101,-427\"/>\n<text text-anchor=\"middle\" x=\"50.5\" y=\"-415\" font-family=\"monospace\" font-size=\"10.00\">AccumulateGrad</text>\n</g>\n<!-- 140611188247328&#45;&gt;140611297882416 -->\n<g id=\"edge6\" class=\"edge\">\n<title>140611188247328&#45;&gt;140611297882416</title>\n<path fill=\"none\" stroke=\"black\" d=\"M58.32,-407.87C66.31,-399.05 78.89,-385.16 88.76,-374.27\"/>\n<polygon fill=\"black\" stroke=\"black\" points=\"91.53,-376.43 95.65,-366.67 86.34,-371.73 91.53,-376.43\"/>\n</g>\n<!-- 140614912459136 -->\n<g id=\"node9\" class=\"node\">\n<title>140614912459136</title>\n<polygon fill=\"lightblue\" stroke=\"black\" points=\"91,-493 8,-493 8,-463 91,-463 91,-493\"/>\n<text text-anchor=\"middle\" x=\"49.5\" y=\"-481\" font-family=\"monospace\" font-size=\"10.00\">hidden.bias</text>\n<text text-anchor=\"middle\" x=\"49.5\" y=\"-470\" font-family=\"monospace\" font-size=\"10.00\"> (10)</text>\n</g>\n<!-- 140614912459136&#45;&gt;140611188247328 -->\n<g id=\"edge7\" class=\"edge\">\n<title>140614912459136&#45;&gt;140611188247328</title>\n<path fill=\"none\" stroke=\"black\" d=\"M49.74,-462.84C49.87,-455.21 50.03,-445.7 50.18,-437.45\"/>\n<polygon fill=\"black\" stroke=\"black\" points=\"53.68,-437.32 50.35,-427.27 46.68,-437.2 53.68,-437.32\"/>\n</g>\n<!-- 140611297877184 -->\n<g id=\"node10\" class=\"node\">\n<title>140611297877184</title>\n<polygon fill=\"lightgrey\" stroke=\"black\" points=\"197,-427 120,-427 120,-408 197,-408 197,-427\"/>\n<text text-anchor=\"middle\" x=\"158.5\" y=\"-415\" font-family=\"monospace\" font-size=\"10.00\">TBackward0</text>\n</g>\n<!-- 140611297877184&#45;&gt;140611297882416 -->\n<g id=\"edge8\" class=\"edge\">\n<title>140611297877184&#45;&gt;140611297882416</title>\n<path fill=\"none\" stroke=\"black\" d=\"M150.38,-407.87C142.1,-399.05 129.03,-385.16 118.8,-374.27\"/>\n<polygon fill=\"black\" stroke=\"black\" points=\"121.05,-371.56 111.65,-366.67 115.95,-376.35 121.05,-371.56\"/>\n</g>\n<!-- 140611297879392 -->\n<g id=\"node11\" class=\"node\">\n<title>140611297879392</title>\n<polygon fill=\"lightgrey\" stroke=\"black\" points=\"210,-487.5 109,-487.5 109,-468.5 210,-468.5 210,-487.5\"/>\n<text text-anchor=\"middle\" x=\"159.5\" y=\"-475.5\" font-family=\"monospace\" font-size=\"10.00\">AccumulateGrad</text>\n</g>\n<!-- 140611297879392&#45;&gt;140611297877184 -->\n<g id=\"edge9\" class=\"edge\">\n<title>140611297879392&#45;&gt;140611297877184</title>\n<path fill=\"none\" stroke=\"black\" d=\"M159.35,-468.37C159.21,-460.25 159,-447.81 158.82,-437.39\"/>\n<polygon fill=\"black\" stroke=\"black\" points=\"162.32,-437.11 158.65,-427.17 155.32,-437.23 162.32,-437.11\"/>\n</g>\n<!-- 140611297175776 -->\n<g id=\"node12\" class=\"node\">\n<title>140611297175776</title>\n<polygon fill=\"lightblue\" stroke=\"black\" points=\"207,-559 112,-559 112,-529 207,-529 207,-559\"/>\n<text text-anchor=\"middle\" x=\"159.5\" y=\"-547\" font-family=\"monospace\" font-size=\"10.00\">hidden.weight</text>\n<text text-anchor=\"middle\" x=\"159.5\" y=\"-536\" font-family=\"monospace\" font-size=\"10.00\"> (10, 1)</text>\n</g>\n<!-- 140611297175776&#45;&gt;140611297879392 -->\n<g id=\"edge10\" class=\"edge\">\n<title>140611297175776&#45;&gt;140611297879392</title>\n<path fill=\"none\" stroke=\"black\" d=\"M159.5,-528.8C159.5,-519.7 159.5,-507.79 159.5,-497.9\"/>\n<polygon fill=\"black\" stroke=\"black\" points=\"163,-497.84 159.5,-487.84 156,-497.84 163,-497.84\"/>\n</g>\n<!-- 140611188252128 -->\n<g id=\"node13\" class=\"node\">\n<title>140611188252128</title>\n<polygon fill=\"lightgrey\" stroke=\"black\" points=\"285,-306 184,-306 184,-287 285,-287 285,-306\"/>\n<text text-anchor=\"middle\" x=\"234.5\" y=\"-294\" font-family=\"monospace\" font-size=\"10.00\">AccumulateGrad</text>\n</g>\n<!-- 140611188252128&#45;&gt;140611297870656 -->\n<g id=\"edge11\" class=\"edge\">\n<title>140611188252128&#45;&gt;140611297870656</title>\n<path fill=\"none\" stroke=\"black\" d=\"M224.38,-286.98C215.06,-279.15 201.03,-267.34 189.76,-257.86\"/>\n<polygon fill=\"black\" stroke=\"black\" points=\"191.71,-254.93 181.81,-251.17 187.21,-260.29 191.71,-254.93\"/>\n</g>\n<!-- 140611297178496 -->\n<g id=\"node14\" class=\"node\">\n<title>140611297178496</title>\n<polygon fill=\"lightblue\" stroke=\"black\" points=\"309,-372 172,-372 172,-342 309,-342 309,-372\"/>\n<text text-anchor=\"middle\" x=\"240.5\" y=\"-360\" font-family=\"monospace\" font-size=\"10.00\">custom_layer.weight2</text>\n<text text-anchor=\"middle\" x=\"240.5\" y=\"-349\" font-family=\"monospace\" font-size=\"10.00\"> (10)</text>\n</g>\n<!-- 140611297178496&#45;&gt;140611188252128 -->\n<g id=\"edge12\" class=\"edge\">\n<title>140611297178496&#45;&gt;140611188252128</title>\n<path fill=\"none\" stroke=\"black\" d=\"M239.05,-341.84C238.27,-334.21 237.29,-324.7 236.44,-316.45\"/>\n<polygon fill=\"black\" stroke=\"black\" points=\"239.9,-315.86 235.4,-306.27 232.94,-316.57 239.9,-315.86\"/>\n</g>\n</g>\n</svg>\n",
            "text/plain": [
              "<graphviz.graphs.Digraph at 0x7fe29e760970>"
            ]
          },
          "metadata": {},
          "execution_count": 62
        }
      ]
    },
    {
      "cell_type": "code",
      "source": [
        "# Visualizzazione del grafo di autograd\n",
        "graph3"
      ],
      "metadata": {
        "id": "26D2e6CoSLqf",
        "colab": {
          "base_uri": "https://localhost:8080/",
          "height": 182
        },
        "outputId": "96213075-b239-4686-9aeb-dac9dce4de58"
      },
      "execution_count": 63,
      "outputs": [
        {
          "output_type": "error",
          "ename": "NameError",
          "evalue": "ignored",
          "traceback": [
            "\u001b[0;31m---------------------------------------------------------------------------\u001b[0m",
            "\u001b[0;31mNameError\u001b[0m                                 Traceback (most recent call last)",
            "\u001b[0;32m<ipython-input-63-4461c5b047ab>\u001b[0m in \u001b[0;36m<cell line: 2>\u001b[0;34m()\u001b[0m\n\u001b[1;32m      1\u001b[0m \u001b[0;31m# Visualizzazione del grafo di autograd\u001b[0m\u001b[0;34m\u001b[0m\u001b[0;34m\u001b[0m\u001b[0m\n\u001b[0;32m----> 2\u001b[0;31m \u001b[0mgraph3\u001b[0m\u001b[0;34m\u001b[0m\u001b[0;34m\u001b[0m\u001b[0m\n\u001b[0m",
            "\u001b[0;31mNameError\u001b[0m: name 'graph3' is not defined"
          ]
        }
      ]
    },
    {
      "cell_type": "markdown",
      "source": [
        "### Monosemio 1"
      ],
      "metadata": {
        "id": "l7cruxEMWzRT"
      }
    },
    {
      "cell_type": "code",
      "source": [
        "\n",
        "# Traccia il grafico della loss\n",
        "plt.plot(range(len(loss_values_m1)), loss_values_m1)\n",
        "plt.xlabel('Epoch')\n",
        "plt.ylabel('Loss')\n",
        "plt.title('Training Loss')\n",
        "plt.show()\n",
        "\n",
        "\n",
        "plt.subplot(1, 2, 2)\n",
        "plt.plot(grad_changes_m1)\n",
        "plt.xlabel('Epoch')\n",
        "plt.ylabel('Modifica del Gradiente')\n",
        "plt.title('Variazione del Gradiente durante l\\'addestramento')\n",
        "\n",
        "plt.tight_layout()\n",
        "plt.show()\n",
        "\n",
        "\n",
        "\n",
        "\n",
        "\n",
        "\n",
        "\n"
      ],
      "metadata": {
        "colab": {
          "base_uri": "https://localhost:8080/",
          "height": 942
        },
        "id": "mUzybJjYWyzx",
        "outputId": "46b086dd-b431-4391-a8d3-0861228e06c8"
      },
      "execution_count": 64,
      "outputs": [
        {
          "output_type": "display_data",
          "data": {
            "text/plain": [
              "<Figure size 640x480 with 1 Axes>"
            ],
            "image/png": "[encoded data removed]"
          },
          "metadata": {}
        },
        {
          "output_type": "display_data",
          "data": {
            "text/plain": [
              "<Figure size 640x480 with 1 Axes>"
            ],
            "image/png": "[encoded data removed]"
          },
          "metadata": {}
        }
      ]
    },
    {
      "cell_type": "code",
      "source": [
        "plt.plot(weight1_changes_m1, label='Weight1 Changes')\n",
        "plt.plot(weight2_changes_m1, label='Weight2 Changes' ,linewidth=2)\n",
        "plt.plot(hidden_changes_m1, label='Hidden Changes')\n",
        "plt.xlabel('Epoch')\n",
        "plt.ylabel('Weight Changes')\n",
        "plt.title('Variation of Weights')\n",
        "plt.legend()\n",
        "plt.show()"
      ],
      "metadata": {
        "colab": {
          "base_uri": "https://localhost:8080/",
          "height": 472
        },
        "id": "IwrLo_efXMxk",
        "outputId": "d0fca54a-a3bd-4d55-8df8-baf2a51ca4ab"
      },
      "execution_count": 65,
      "outputs": [
        {
          "output_type": "display_data",
          "data": {
            "text/plain": [
              "<Figure size 640x480 with 1 Axes>"
            ],
            "image/png": "[encoded data removed]"
          },
          "metadata": {}
        }
      ]
    },
    {
      "cell_type": "code",
      "source": [
        "'''\n",
        "\n",
        "import matplotlib.pyplot as plt\n",
        "import numpy as np\n",
        "\n",
        "# Dopo l'addestramento\n",
        "weight1 = net.custom_layer.weight1.detach().numpy()\n",
        "bias = net.custom_layer.bias.detach().numpy()\n",
        "\n",
        "# Punti di input per la regressione\n",
        "x = data_na2[:, 0]\n",
        "y = data_na2[:, 1]\n",
        "\n",
        "# Genera dei punti x per il plot\n",
        "x_plot = np.linspace(min(x), max(x), 100)\n",
        "# Calcola i corrispondenti valori y predetti utilizzando la regressione lineare\n",
        "y_plot = weight1[0][0] * x_plot + bias[0]\n",
        "#y_plot = weight1[0][0] * x_plot \n",
        "\n",
        "\n",
        "# Plotta i punti di input\n",
        "plt.scatter(x, y, label='Input Data')\n",
        "# Plotta la linea di regressione\n",
        "plt.plot(x_plot, y_plot, color='red', label='Regression Line')\n",
        "plt.xlabel('x')\n",
        "plt.ylabel('y')\n",
        "plt.legend()\n",
        "plt.show()\n",
        "\n",
        "\n",
        "'''"
      ],
      "metadata": {
        "id": "Ak09-v2fcEJN"
      },
      "execution_count": null,
      "outputs": []
    },
    {
      "cell_type": "code",
      "source": [
        "import matplotlib.pyplot as plt\n",
        "import numpy as np\n",
        "\n",
        "# Estrai i dati di input\n",
        "x = data_na2[:, 0]  # Prima colonna\n",
        "y = data_na2[:, 1]  # Terza colonna (target del primo infinitesimo)\n",
        "\n",
        "# Dopo l'addestramento\n",
        "weight1 = net.custom_layer.weight1.detach().numpy()\n",
        "#bias = net.custom_layer.bias.detach().numpy()\n",
        "\n",
        "# Genera dei punti x per il plot\n",
        "x_plot = np.linspace(np.min(x), np.max(x), 100)\n",
        "\n",
        "# Calcola i corrispondenti valori y predetti utilizzando la regressione lineare\n",
        "y_plot = weight1[0] * x_plot + bias[0]\n",
        "#y_plot = weight1[0] * x_plot\n",
        "\n",
        "# Plotta i punti di input\n",
        "plt.scatter(x, y, label='Input Data')\n",
        "\n",
        "# Plotta la linea di regressione\n",
        "plt.plot(x_plot, y_plot, color='red', label='Regression Line')\n",
        "\n",
        "plt.xlabel('x')\n",
        "plt.ylabel('y')\n",
        "plt.legend()\n",
        "plt.show()\n"
      ],
      "metadata": {
        "colab": {
          "base_uri": "https://localhost:8080/",
          "height": 449
        },
        "id": "vhGBVOemkdCB",
        "outputId": "de3e3c2c-5a81-4f8a-bcf3-385e4eb5ace8"
      },
      "execution_count": 66,
      "outputs": [
        {
          "output_type": "display_data",
          "data": {
            "text/plain": [
              "<Figure size 640x480 with 1 Axes>"
            ],
            "image/png": "[encoded data removed]"
          },
          "metadata": {}
        }
      ]
    },
    {
      "cell_type": "markdown",
      "source": [
        "### Monosemio 2"
      ],
      "metadata": {
        "id": "DqE6g3qMW2TX"
      }
    },
    {
      "cell_type": "code",
      "source": [
        "\n",
        "# Traccia il grafico della loss\n",
        "plt.plot(range(len(loss_values_m2)), loss_values_m2)\n",
        "plt.xlabel('Epoch')\n",
        "plt.ylabel('Loss')\n",
        "plt.title('Training Loss')\n",
        "plt.show()\n",
        "\n",
        "\n",
        "plt.subplot(1, 2, 2)\n",
        "plt.plot(grad_changes_m2)\n",
        "plt.xlabel('Epoch')\n",
        "plt.ylabel('Modifica del Gradiente')\n",
        "plt.title('Variazione del Gradiente durante l\\'addestramento')\n",
        "\n",
        "plt.tight_layout()\n",
        "plt.show()\n",
        "\n",
        "\n",
        "\n",
        "\n",
        "\n",
        "\n",
        "\n"
      ],
      "metadata": {
        "id": "MpePUtJIW4Ir"
      },
      "execution_count": null,
      "outputs": []
    },
    {
      "cell_type": "code",
      "source": [
        "plt.plot(weight1_changes_m2, label='Weight1 Changes')\n",
        "plt.plot(weight2_changes_m2, label='Weight2 Changes' ,linewidth=2)\n",
        "plt.plot(hidden_changes_m2, label='Hidden Changes')\n",
        "plt.xlabel('Epoch')\n",
        "plt.ylabel('Weight Changes')\n",
        "plt.title('Variation of Weights')\n",
        "plt.legend()\n",
        "plt.show()"
      ],
      "metadata": {
        "id": "yMkyB7pbXOgz"
      },
      "execution_count": null,
      "outputs": []
    },
    {
      "cell_type": "code",
      "source": [
        "'''\n",
        "\n",
        "import matplotlib.pyplot as plt\n",
        "import numpy as np\n",
        "\n",
        "# Dopo l'addestramento\n",
        "weight2 = net.custom_layer.weight2.detach().numpy()\n",
        "\n",
        "# Punti di input per la regressione\n",
        "x = data_na2[:, 0]\n",
        "y = data_na2[:, 2]\n",
        "\n",
        "# Genera dei punti x per il plot\n",
        "x_plot = np.linspace(min(x), max(x), 100)\n",
        "# Calcola i corrispondenti valori y predetti utilizzando la regressione lineare\n",
        "y_plot = weight2[0][0] * x_plot\n",
        "#y_plot = weight1[0][0] * x_plot \n",
        "\n",
        "\n",
        "# Plotta i punti di input\n",
        "plt.scatter(x, y, label='Input Data')\n",
        "# Plotta la linea di regressione\n",
        "plt.plot(x_plot, y_plot, color='red', label='Regression Line')\n",
        "plt.xlabel('x')\n",
        "plt.ylabel('y')\n",
        "plt.legend()\n",
        "plt.show()\n",
        "\n",
        "\n",
        "'''"
      ],
      "metadata": {
        "id": "Zx3FrspdcLjR"
      },
      "execution_count": null,
      "outputs": []
    },
    {
      "cell_type": "code",
      "source": [
        "import matplotlib.pyplot as plt\n",
        "import numpy as np\n",
        "\n",
        "# Estrai i dati di input\n",
        "x = data_na2[:, 0]  # Prima colonna\n",
        "y = data_na2[:, 2]  # Terza colonna (target del primo infinitesimo)\n",
        "\n",
        "# Dopo l'addestramento\n",
        "weight2 = net.custom_layer.weight2.detach().numpy()\n",
        "\n",
        "# Genera dei punti x per il plot\n",
        "x_plot = np.linspace(np.min(x), np.max(x), 100)\n",
        "\n",
        "# Calcola i corrispondenti valori y predetti utilizzando la regressione lineare\n",
        "y_plot = weight2[0] * x_plot\n",
        "\n",
        "# Plotta i punti di input\n",
        "plt.scatter(x, y, label='Input Data')\n",
        "\n",
        "# Plotta la linea di regressione\n",
        "plt.plot(x_plot, y_plot, color='red', label='Regression Line')\n",
        "\n",
        "plt.xlabel('x')\n",
        "plt.ylabel('y')\n",
        "plt.legend()\n",
        "plt.show()\n"
      ],
      "metadata": {
        "id": "Ih8t_KwklU1s"
      },
      "execution_count": null,
      "outputs": []
    },
    {
      "cell_type": "markdown",
      "source": [
        "### Monosemio 3"
      ],
      "metadata": {
        "id": "dgM977feW7wo"
      }
    },
    {
      "cell_type": "code",
      "source": [
        "\n",
        "\n",
        "\n",
        "# Traccia il grafico della loss\n",
        "plt.plot(range(len(loss_values_m3)), loss_values_m3)\n",
        "plt.xlabel('Epoch')\n",
        "plt.ylabel('Loss')\n",
        "plt.title('Training Loss')\n",
        "plt.show()\n",
        "\n",
        "\n",
        "plt.subplot(1, 2, 2)\n",
        "plt.plot(grad_changes_m3)\n",
        "plt.xlabel('Epoch')\n",
        "plt.ylabel('Modifica del Gradiente')\n",
        "plt.title('Variazione del Gradiente durante l\\'addestramento')\n",
        "\n",
        "plt.tight_layout()\n",
        "plt.show()\n",
        "\n",
        "\n",
        "\n",
        "\n",
        "\n",
        "\n",
        "\n"
      ],
      "metadata": {
        "id": "iaxfMaocW9dD"
      },
      "execution_count": null,
      "outputs": []
    },
    {
      "cell_type": "code",
      "source": [
        "plt.plot(weight1_changes_m3, label='Weight1 Changes')\n",
        "plt.plot(weight2_changes_m3, label='Weight2 Changes')\n",
        "plt.plot(weight3_changes_m3, label='Weight3 Changes' ,linewidth=2)\n",
        "plt.plot(hidden_changes_m1, label='Hidden Changes')\n",
        "plt.xlabel('Epoch')\n",
        "plt.ylabel('Weight Changes')\n",
        "plt.title('Variation of Weights')\n",
        "plt.legend()\n",
        "plt.show()"
      ],
      "metadata": {
        "id": "l59y7vb2XWHE"
      },
      "execution_count": null,
      "outputs": []
    },
    {
      "cell_type": "code",
      "source": [
        "'''\n",
        "\n",
        "import matplotlib.pyplot as plt\n",
        "import numpy as np\n",
        "\n",
        "# Dopo l'addestramento\n",
        "weight3 = net.custom_layer.weight3.detach().numpy()\n",
        "\n",
        "# Punti di input per la regressione\n",
        "x = data_na2[:, 0]\n",
        "y = data_na2[:, 3]\n",
        "\n",
        "# Genera dei punti x per il plot\n",
        "x_plot = np.linspace(min(x), max(x), 100)\n",
        "# Calcola i corrispondenti valori y predetti utilizzando la regressione lineare\n",
        "y_plot = weight3[0][0] * x_plot\n",
        "\n",
        "\n",
        "# Plotta i punti di input\n",
        "plt.scatter(x, y, label='Input Data')\n",
        "# Plotta la linea di regressione\n",
        "plt.plot(x_plot, y_plot, color='red', label='Regression Line')\n",
        "plt.xlabel('x')\n",
        "plt.ylabel('y')\n",
        "plt.legend()\n",
        "plt.show()\n",
        "\n",
        "\n",
        "'''"
      ],
      "metadata": {
        "id": "IgfecraOcR8Q"
      },
      "execution_count": null,
      "outputs": []
    },
    {
      "cell_type": "code",
      "source": [
        "import matplotlib.pyplot as plt\n",
        "import numpy as np\n",
        "\n",
        "# Estrai i dati di input\n",
        "x = data_na2[:, 0]  # Prima colonna\n",
        "y = data_na2[:, 3]  # Terza colonna (target del primo infinitesimo)\n",
        "\n",
        "# Dopo l'addestramento\n",
        "weight3 = net.custom_layer.weight3.detach().numpy()\n",
        "\n",
        "# Genera dei punti x per il plot\n",
        "x_plot = np.linspace(np.min(x), np.max(x), 100)\n",
        "\n",
        "# Calcola i corrispondenti valori y predetti utilizzando la regressione lineare\n",
        "y_plot = weight3[0] * x_plot\n",
        "\n",
        "# Plotta i punti di input\n",
        "plt.scatter(x, y, label='Input Data')\n",
        "\n",
        "# Plotta la linea di regressione\n",
        "plt.plot(x_plot, y_plot, color='red', label='Regression Line')\n",
        "\n",
        "plt.xlabel('x')\n",
        "plt.ylabel('y')\n",
        "plt.legend()\n",
        "plt.show()\n"
      ],
      "metadata": {
        "id": "cQO32yMvleMY"
      },
      "execution_count": null,
      "outputs": []
    },
    {
      "cell_type": "markdown",
      "source": [
        "# TEST TO CORRECT BACK"
      ],
      "metadata": {
        "id": "-VR7FAaz0eYD"
      }
    },
    {
      "cell_type": "markdown",
      "source": [
        "La loss funziona bene "
      ],
      "metadata": {
        "id": "wQ5Z67ms0ijo"
      }
    },
    {
      "cell_type": "code",
      "source": [
        "import torch\n",
        "import torch.nn as nn\n",
        "loss_values = []\n",
        "# Define the CustomMSELossProva class\n",
        "class CustomMSELossProva(nn.Module):\n",
        "    def __init__(self, monosemio):\n",
        "        super(CustomMSELossProva, self).__init__()\n",
        "        self.monosemio = monosemio\n",
        "\n",
        "    def forward(self, input, target, target1):\n",
        "        if self.monosemio == 1:\n",
        "            loss = torch.mean(torch.pow((input - target), 2))  # Comparison between the output and target1\n",
        "        elif self.monosemio == 2:\n",
        "            loss = torch.mean(torch.pow((input - target1), 2))  # Comparison between the output and target2\n",
        "        else:\n",
        "            raise ValueError(\"The value of monosemio must be 1 or 2.\")\n",
        "        return loss\n",
        "\n",
        "# Create an instance of the CustomMSELossProva class\n",
        "loss_function = CustomMSELossProva(monosemio)\n",
        "# Generate a random input vector of 10 elements\n",
        "\n",
        "input = torch.tensor([1,2,3,1,1,1,2,3], dtype = torch.float32)\n",
        "target = torch.tensor([0 , 1 , 2, 3, 1 , 1, 4, 2] , dtype = torch.float32)\n",
        "target1 = torch.randn(10)\n",
        "loss = loss_function(input, target, target1)\n",
        "print(\"Loss:\", loss.item())\n",
        "print(input-target)"
      ],
      "metadata": {
        "id": "mpC2AiAR0hyV"
      },
      "execution_count": null,
      "outputs": []
    }
  ]
}