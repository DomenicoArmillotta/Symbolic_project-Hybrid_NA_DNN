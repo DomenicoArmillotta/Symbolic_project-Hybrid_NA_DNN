{
  "nbformat": 4,
  "nbformat_minor": 0,
  "metadata": {
    "colab": {
      "provenance": [],
      "include_colab_link": true
    },
    "kernelspec": {
      "name": "python3",
      "display_name": "Python 3"
    },
    "language_info": {
      "name": "python"
    }
  },
  "cells": [
    {
      "cell_type": "markdown",
      "metadata": {
        "id": "view-in-github",
        "colab_type": "text"
      },
      "source": [
        "<a href=\"https://colab.research.google.com/github/DomenicoArmillotta/Symbolic_project-Hybrid_NA_DNN/blob/main/Symbolic_project_Hybrid_NA_DNN.ipynb\" target=\"_parent\"><img src=\"https://colab.research.google.com/assets/colab-badge.svg\" alt=\"Open In Colab\"/></a>"
      ]
    },
    {
      "cell_type": "code",
      "source": [
        "#library\n",
        "import torch\n",
        "import torch.nn as nn\n",
        "import torch.optim as optim\n",
        "import matplotlib.pyplot as plt\n",
        "import torch.nn.utils as nn_utils\n",
        "import numpy as np\n"
      ],
      "metadata": {
        "id": "7NFJwwbVqUEA"
      },
      "execution_count": 5,
      "outputs": []
    },
    {
      "cell_type": "code",
      "source": [
        "#input\n",
        "# Dati di input standard\n",
        "data = np.array([[0, 2.5584],\n",
        "                 [0.5000, 2.6882],\n",
        "                 [1.0000, 2.9627],\n",
        "                 [1.5000, 3.2608],\n",
        "                 [2.0000, 3.6235],\n",
        "                 [2.5000, 3.9376],\n",
        "                 [3.0000, 4.0383],\n",
        "                 [3.5000, 4.1570],\n",
        "                 [4.0000, 4.8498],\n",
        "                 [4.5000, 4.6561],\n",
        "                 [5.0000, 4.5119],\n",
        "                 [5.5000, 4.8346],\n",
        "                 [6.0000, 5.6039],\n",
        "                 [6.5000, 5.5890],\n",
        "                 [7.0000, 6.1914],\n",
        "                 [7.5000, 5.8966],\n",
        "                 [8.0000, 6.3866],\n",
        "                 [8.5000, 6.6909],\n",
        "                 [9.0000, 6.5224],\n",
        "                 [9.5000, 7.1803],\n",
        "                 [10.0000, 7.2537]])\n",
        "\n",
        "# Dati di input per na  \n",
        "#terza colonna è il target del primo infinitesimo\n",
        "data_na = np.array([[0, 2.5584 , 0.2322],\n",
        "                 [0.5000, 2.6882 , 0.7121],\n",
        "                 [1.0000, 2.9627 , 0.9321],\n",
        "                 [1.5000, 3.2608 , 1.0534],\n",
        "                 [2.0000, 3.6235 , 1.3290],\n",
        "                 [2.5000, 3.9376 , 1.5928],\n",
        "                 [3.0000, 4.0383 , 1.8765],\n",
        "                 [3.5000, 4.1570 , 1.9888],\n",
        "                 [4.0000, 4.8498 , 2.4822],\n",
        "                 [4.5000, 4.6561 , 2.9987],\n",
        "                 [5.0000, 4.5119 , 3.4312],\n",
        "                 [5.5000, 4.8346 , 3.7816],\n",
        "                 [6.0000, 5.6039 , 3.9817],\n",
        "                 [6.5000, 5.5890 , 4.3171],\n",
        "                 [7.0000, 6.1914 , 4.6765],\n",
        "                 [7.5000, 5.8966 , 5.0811],\n",
        "                 [8.0000, 6.3866 , 5.4567],\n",
        "                 [8.5000, 6.6909 , 6.0122],\n",
        "                 [9.0000, 6.5224 , 6.4543],\n",
        "                 [9.5000, 7.1803 , 6.9876],\n",
        "                 [10.0000, 7.2537 , 7.3242]])\n",
        "\n",
        "x = data[:, 0]\n",
        "y = data[:, 1]\n",
        "# y2 = data[:,2]\n",
        "l = len(x)\n"
      ],
      "metadata": {
        "id": "gJr4jAZ3qYOZ"
      },
      "execution_count": 6,
      "outputs": []
    },
    {
      "cell_type": "markdown",
      "source": [
        "#Standard Linear Regression"
      ],
      "metadata": {
        "id": "SPGWXkxIqETb"
      }
    },
    {
      "cell_type": "code",
      "source": [
        "# Preparazione dei dati\n",
        "x_train = torch.tensor(data[:, 0], dtype=torch.float32).unsqueeze(1)\n",
        "y_train = torch.tensor(data[:, 1], dtype=torch.float32).unsqueeze(1)"
      ],
      "metadata": {
        "id": "QnTfRdhb6Yeg"
      },
      "execution_count": 34,
      "outputs": []
    },
    {
      "cell_type": "code",
      "source": [
        "\n",
        "# Definizione della rete neurale\n",
        "class NeuralNet(nn.Module):\n",
        "    def __init__(self):\n",
        "        super(NeuralNet, self).__init__()\n",
        "        self.hidden = nn.Linear(1, 10)  # Hidden layer con 10 neuroni\n",
        "        self.relu = nn.ReLU()\n",
        "        self.output = nn.Linear(10, 1)  # Output layer con 1 neurone\n",
        "\n",
        "    def forward(self, x):\n",
        "        x = self.hidden(x)\n",
        "        x = self.relu(x)\n",
        "        x = self.output(x)\n",
        "        return x\n",
        "\n",
        "# Creazione della rete neurale\n",
        "net = NeuralNet()\n",
        "\n"
      ],
      "metadata": {
        "id": "mE7-nfcw6SoT"
      },
      "execution_count": 35,
      "outputs": []
    },
    {
      "cell_type": "code",
      "source": [
        "# Definizione di funzione di perdita e ottimizzatore\n",
        "criterion = nn.MSELoss()\n",
        "optimizer = optim.SGD(net.parameters(), lr=0.01)\n",
        "\n",
        "# Addestramento della rete neurale\n",
        "num_epochs = 1000\n",
        "for epoch in range(num_epochs):\n",
        "    optimizer.zero_grad()  # Azzeramento dei gradienti\n",
        "    outputs = net(x_train)  # Calcolo delle predizioni\n",
        "    loss = criterion(outputs, y_train)  # Calcolo della perdita\n",
        "    loss.backward()  # Calcolo dei gradienti\n",
        "    optimizer.step()  # Aggiornamento dei pesi\n",
        "\n",
        "    if (epoch+1) % 100 == 0:\n",
        "        print(f'Epoch {epoch+1}/{num_epochs}, Loss: {loss.item():.4f}')"
      ],
      "metadata": {
        "colab": {
          "base_uri": "https://localhost:8080/"
        },
        "id": "DtAc8XBt6eoB",
        "outputId": "44c6220a-4905-480f-9ecf-4b9af5766700"
      },
      "execution_count": 36,
      "outputs": [
        {
          "output_type": "stream",
          "name": "stdout",
          "text": [
            "Epoch 100/1000, Loss: 0.0978\n",
            "Epoch 200/1000, Loss: 0.0416\n",
            "Epoch 300/1000, Loss: 0.0403\n",
            "Epoch 400/1000, Loss: 0.0399\n",
            "Epoch 500/1000, Loss: 0.0395\n",
            "Epoch 600/1000, Loss: 0.0392\n",
            "Epoch 700/1000, Loss: 0.0390\n",
            "Epoch 800/1000, Loss: 0.0389\n",
            "Epoch 900/1000, Loss: 0.0387\n",
            "Epoch 1000/1000, Loss: 0.0386\n"
          ]
        }
      ]
    },
    {
      "cell_type": "code",
      "source": [
        "# Valutazione della rete neurale\n",
        "net.eval()\n",
        "with torch.no_grad():\n",
        "    predicted = net(x_train)\n",
        "\n",
        "# Stampa dei risultati\n",
        "print(f'Predicted:\\n{predicted.squeeze().numpy()}')\n",
        "print(f'Ground Truth:\\n{y_train.squeeze().numpy()}')"
      ],
      "metadata": {
        "colab": {
          "base_uri": "https://localhost:8080/"
        },
        "id": "DebBCcKh6m0e",
        "outputId": "cc3e8650-eed0-45df-eac3-b3b62ed53bc3"
      },
      "execution_count": 38,
      "outputs": [
        {
          "output_type": "stream",
          "name": "stdout",
          "text": [
            "Predicted:\n",
            "[2.5509129 2.797182  3.042615  3.2878647 3.522109  3.755981  3.9898534\n",
            " 4.223726  4.457598  4.6914706 4.9253426 5.1592155 5.393087  5.62696\n",
            " 5.860832  6.0947037 6.3285766 6.562449  6.7964106 7.036259  7.2761073]\n",
            "Ground Truth:\n",
            "[2.5584 2.6882 2.9627 3.2608 3.6235 3.9376 4.0383 4.157  4.8498 4.6561\n",
            " 4.5119 4.8346 5.6039 5.589  6.1914 5.8966 6.3866 6.6909 6.5224 7.1803\n",
            " 7.2537]\n"
          ]
        }
      ]
    },
    {
      "cell_type": "code",
      "source": [
        "import matplotlib.pyplot as plt\n",
        "\n",
        "# Tracciamento del plot\n",
        "plt.scatter(data[:, 0], data[:, 1], color='red', label='Dati di input')\n",
        "plt.plot(x_train.numpy(), predicted.numpy(), color='blue', label='Retta calcolata')\n",
        "plt.xlabel('Input')\n",
        "plt.ylabel('Output')\n",
        "plt.title('Regressione')\n",
        "plt.legend()\n",
        "plt.show()\n"
      ],
      "metadata": {
        "colab": {
          "base_uri": "https://localhost:8080/",
          "height": 472
        },
        "id": "HmF62UkZ6nKI",
        "outputId": "ec033a8b-1a45-4abf-f34e-76a74c6323a7"
      },
      "execution_count": 39,
      "outputs": [
        {
          "output_type": "display_data",
          "data": {
            "text/plain": [
              "<Figure size 640x480 with 1 Axes>"
            ],
            "image/png": "[encoded data removed]"
          },
          "metadata": {}
        }
      ]
    },
    {
      "cell_type": "code",
      "source": [
        "# Salva l'immagine del grafico della rete neurale con i pesi\n",
        "dummy_input = torch.randn(1, 1)\n",
        "output = net(dummy_input)\n",
        "dot = make_dot(output, params=dict(net.named_parameters()))\n",
        "dot.format = 'png'\n",
        "dot.render('/content/drive/MyDrive/symbolic_custom_layer/network_graph')\n"
      ],
      "metadata": {
        "colab": {
          "base_uri": "https://localhost:8080/",
          "height": 36
        },
        "id": "rpcWoa-qHf2Y",
        "outputId": "71f24023-b067-4b03-a1f2-25902862290b"
      },
      "execution_count": null,
      "outputs": [
        {
          "output_type": "execute_result",
          "data": {
            "text/plain": [
              "'/content/drive/MyDrive/symbolic_custom_layer/network_graph.png'"
            ],
            "application/vnd.google.colaboratory.intrinsic+json": {
              "type": "string"
            }
          },
          "metadata": {},
          "execution_count": 17
        }
      ]
    },
    {
      "cell_type": "code",
      "source": [],
      "metadata": {
        "colab": {
          "base_uri": "https://localhost:8080/",
          "height": 380
        },
        "id": "xetgk__SHd6I",
        "outputId": "fd6597e6-8ea0-4ee3-9d2c-7c1a5f8b2966"
      },
      "execution_count": null,
      "outputs": [
        {
          "output_type": "error",
          "ename": "TypeError",
          "evalue": "ignored",
          "traceback": [
            "\u001b[0;31m---------------------------------------------------------------------------\u001b[0m",
            "\u001b[0;31mTypeError\u001b[0m                                 Traceback (most recent call last)",
            "\u001b[0;32m<ipython-input-14-e939f47ab00a>\u001b[0m in \u001b[0;36m<cell line: 1>\u001b[0;34m()\u001b[0m\n\u001b[0;32m----> 1\u001b[0;31m \u001b[0moutput\u001b[0m \u001b[0;34m=\u001b[0m \u001b[0mnet\u001b[0m\u001b[0;34m(\u001b[0m\u001b[0mdata\u001b[0m\u001b[0;34m)\u001b[0m\u001b[0;34m\u001b[0m\u001b[0;34m\u001b[0m\u001b[0m\n\u001b[0m\u001b[1;32m      2\u001b[0m \u001b[0;34m\u001b[0m\u001b[0m\n\u001b[1;32m      3\u001b[0m \u001b[0mdot\u001b[0m \u001b[0;34m=\u001b[0m \u001b[0mmake_dot\u001b[0m\u001b[0;34m(\u001b[0m\u001b[0moutput\u001b[0m\u001b[0;34m,\u001b[0m \u001b[0mparams\u001b[0m\u001b[0;34m=\u001b[0m\u001b[0mdict\u001b[0m\u001b[0;34m(\u001b[0m\u001b[0mnet\u001b[0m\u001b[0;34m.\u001b[0m\u001b[0mnamed_parameters\u001b[0m\u001b[0;34m(\u001b[0m\u001b[0;34m)\u001b[0m\u001b[0;34m)\u001b[0m\u001b[0;34m)\u001b[0m\u001b[0;34m\u001b[0m\u001b[0;34m\u001b[0m\u001b[0m\n\u001b[1;32m      4\u001b[0m \u001b[0mdot\u001b[0m\u001b[0;34m.\u001b[0m\u001b[0mrender\u001b[0m\u001b[0;34m(\u001b[0m\u001b[0;34m'/content/drive/MyDrive/symbolic_custom_layer/rete.png'\u001b[0m\u001b[0;34m)\u001b[0m  \u001b[0;31m# Salva il grafo come immagine\u001b[0m\u001b[0;34m\u001b[0m\u001b[0;34m\u001b[0m\u001b[0m\n\u001b[1;32m      5\u001b[0m \u001b[0;34m\u001b[0m\u001b[0m\n",
            "\u001b[0;32m/usr/local/lib/python3.10/dist-packages/torch/nn/modules/module.py\u001b[0m in \u001b[0;36m_call_impl\u001b[0;34m(self, *args, **kwargs)\u001b[0m\n\u001b[1;32m   1499\u001b[0m                 \u001b[0;32mor\u001b[0m \u001b[0m_global_backward_pre_hooks\u001b[0m \u001b[0;32mor\u001b[0m \u001b[0m_global_backward_hooks\u001b[0m\u001b[0;34m\u001b[0m\u001b[0;34m\u001b[0m\u001b[0m\n\u001b[1;32m   1500\u001b[0m                 or _global_forward_hooks or _global_forward_pre_hooks):\n\u001b[0;32m-> 1501\u001b[0;31m             \u001b[0;32mreturn\u001b[0m \u001b[0mforward_call\u001b[0m\u001b[0;34m(\u001b[0m\u001b[0;34m*\u001b[0m\u001b[0margs\u001b[0m\u001b[0;34m,\u001b[0m \u001b[0;34m**\u001b[0m\u001b[0mkwargs\u001b[0m\u001b[0;34m)\u001b[0m\u001b[0;34m\u001b[0m\u001b[0;34m\u001b[0m\u001b[0m\n\u001b[0m\u001b[1;32m   1502\u001b[0m         \u001b[0;31m# Do not call functions when jit is used\u001b[0m\u001b[0;34m\u001b[0m\u001b[0;34m\u001b[0m\u001b[0m\n\u001b[1;32m   1503\u001b[0m         \u001b[0mfull_backward_hooks\u001b[0m\u001b[0;34m,\u001b[0m \u001b[0mnon_full_backward_hooks\u001b[0m \u001b[0;34m=\u001b[0m \u001b[0;34m[\u001b[0m\u001b[0;34m]\u001b[0m\u001b[0;34m,\u001b[0m \u001b[0;34m[\u001b[0m\u001b[0;34m]\u001b[0m\u001b[0;34m\u001b[0m\u001b[0;34m\u001b[0m\u001b[0m\n",
            "\u001b[0;32m<ipython-input-10-5d9ad2ffd244>\u001b[0m in \u001b[0;36mforward\u001b[0;34m(self, x)\u001b[0m\n\u001b[1;32m      8\u001b[0m \u001b[0;34m\u001b[0m\u001b[0m\n\u001b[1;32m      9\u001b[0m     \u001b[0;32mdef\u001b[0m \u001b[0mforward\u001b[0m\u001b[0;34m(\u001b[0m\u001b[0mself\u001b[0m\u001b[0;34m,\u001b[0m \u001b[0mx\u001b[0m\u001b[0;34m)\u001b[0m\u001b[0;34m:\u001b[0m\u001b[0;34m\u001b[0m\u001b[0;34m\u001b[0m\u001b[0m\n\u001b[0;32m---> 10\u001b[0;31m         \u001b[0mx\u001b[0m \u001b[0;34m=\u001b[0m \u001b[0mself\u001b[0m\u001b[0;34m.\u001b[0m\u001b[0mhidden\u001b[0m\u001b[0;34m(\u001b[0m\u001b[0mx\u001b[0m\u001b[0;34m)\u001b[0m\u001b[0;34m\u001b[0m\u001b[0;34m\u001b[0m\u001b[0m\n\u001b[0m\u001b[1;32m     11\u001b[0m         \u001b[0mx\u001b[0m \u001b[0;34m=\u001b[0m \u001b[0mself\u001b[0m\u001b[0;34m.\u001b[0m\u001b[0mrelu\u001b[0m\u001b[0;34m(\u001b[0m\u001b[0mx\u001b[0m\u001b[0;34m)\u001b[0m\u001b[0;34m\u001b[0m\u001b[0;34m\u001b[0m\u001b[0m\n\u001b[1;32m     12\u001b[0m         \u001b[0mx\u001b[0m \u001b[0;34m=\u001b[0m \u001b[0mself\u001b[0m\u001b[0;34m.\u001b[0m\u001b[0moutput\u001b[0m\u001b[0;34m(\u001b[0m\u001b[0mx\u001b[0m\u001b[0;34m)\u001b[0m\u001b[0;34m\u001b[0m\u001b[0;34m\u001b[0m\u001b[0m\n",
            "\u001b[0;32m/usr/local/lib/python3.10/dist-packages/torch/nn/modules/module.py\u001b[0m in \u001b[0;36m_call_impl\u001b[0;34m(self, *args, **kwargs)\u001b[0m\n\u001b[1;32m   1499\u001b[0m                 \u001b[0;32mor\u001b[0m \u001b[0m_global_backward_pre_hooks\u001b[0m \u001b[0;32mor\u001b[0m \u001b[0m_global_backward_hooks\u001b[0m\u001b[0;34m\u001b[0m\u001b[0;34m\u001b[0m\u001b[0m\n\u001b[1;32m   1500\u001b[0m                 or _global_forward_hooks or _global_forward_pre_hooks):\n\u001b[0;32m-> 1501\u001b[0;31m             \u001b[0;32mreturn\u001b[0m \u001b[0mforward_call\u001b[0m\u001b[0;34m(\u001b[0m\u001b[0;34m*\u001b[0m\u001b[0margs\u001b[0m\u001b[0;34m,\u001b[0m \u001b[0;34m**\u001b[0m\u001b[0mkwargs\u001b[0m\u001b[0;34m)\u001b[0m\u001b[0;34m\u001b[0m\u001b[0;34m\u001b[0m\u001b[0m\n\u001b[0m\u001b[1;32m   1502\u001b[0m         \u001b[0;31m# Do not call functions when jit is used\u001b[0m\u001b[0;34m\u001b[0m\u001b[0;34m\u001b[0m\u001b[0m\n\u001b[1;32m   1503\u001b[0m         \u001b[0mfull_backward_hooks\u001b[0m\u001b[0;34m,\u001b[0m \u001b[0mnon_full_backward_hooks\u001b[0m \u001b[0;34m=\u001b[0m \u001b[0;34m[\u001b[0m\u001b[0;34m]\u001b[0m\u001b[0;34m,\u001b[0m \u001b[0;34m[\u001b[0m\u001b[0;34m]\u001b[0m\u001b[0;34m\u001b[0m\u001b[0;34m\u001b[0m\u001b[0m\n",
            "\u001b[0;32m/usr/local/lib/python3.10/dist-packages/torch/nn/modules/linear.py\u001b[0m in \u001b[0;36mforward\u001b[0;34m(self, input)\u001b[0m\n\u001b[1;32m    112\u001b[0m \u001b[0;34m\u001b[0m\u001b[0m\n\u001b[1;32m    113\u001b[0m     \u001b[0;32mdef\u001b[0m \u001b[0mforward\u001b[0m\u001b[0;34m(\u001b[0m\u001b[0mself\u001b[0m\u001b[0;34m,\u001b[0m \u001b[0minput\u001b[0m\u001b[0;34m:\u001b[0m \u001b[0mTensor\u001b[0m\u001b[0;34m)\u001b[0m \u001b[0;34m->\u001b[0m \u001b[0mTensor\u001b[0m\u001b[0;34m:\u001b[0m\u001b[0;34m\u001b[0m\u001b[0;34m\u001b[0m\u001b[0m\n\u001b[0;32m--> 114\u001b[0;31m         \u001b[0;32mreturn\u001b[0m \u001b[0mF\u001b[0m\u001b[0;34m.\u001b[0m\u001b[0mlinear\u001b[0m\u001b[0;34m(\u001b[0m\u001b[0minput\u001b[0m\u001b[0;34m,\u001b[0m \u001b[0mself\u001b[0m\u001b[0;34m.\u001b[0m\u001b[0mweight\u001b[0m\u001b[0;34m,\u001b[0m \u001b[0mself\u001b[0m\u001b[0;34m.\u001b[0m\u001b[0mbias\u001b[0m\u001b[0;34m)\u001b[0m\u001b[0;34m\u001b[0m\u001b[0;34m\u001b[0m\u001b[0m\n\u001b[0m\u001b[1;32m    115\u001b[0m \u001b[0;34m\u001b[0m\u001b[0m\n\u001b[1;32m    116\u001b[0m     \u001b[0;32mdef\u001b[0m \u001b[0mextra_repr\u001b[0m\u001b[0;34m(\u001b[0m\u001b[0mself\u001b[0m\u001b[0;34m)\u001b[0m \u001b[0;34m->\u001b[0m \u001b[0mstr\u001b[0m\u001b[0;34m:\u001b[0m\u001b[0;34m\u001b[0m\u001b[0;34m\u001b[0m\u001b[0m\n",
            "\u001b[0;31mTypeError\u001b[0m: linear(): argument 'input' (position 1) must be Tensor, not numpy.ndarray"
          ]
        }
      ]
    },
    {
      "cell_type": "markdown",
      "source": [
        "#NA LINEAR REGRESSION  --> 1 prova da correggere"
      ],
      "metadata": {
        "id": "284fae55qPiO"
      }
    },
    {
      "cell_type": "markdown",
      "source": [
        "ERRORI : \n",
        "loss troppo alta , cose provate : \n",
        "\n",
        "\n",
        "*   modifica inizializzazzione weight 1 \n",
        "*   numero neuroni hidden\n",
        "*   aumentato # epoch\n",
        "*   diminuito lr\n",
        "\n"
      ],
      "metadata": {
        "id": "m0PSrvd7zOxY"
      }
    },
    {
      "cell_type": "code",
      "source": [
        "# Preparazione dei dati\n",
        "x_train = torch.tensor(data_na[:, 0], dtype=torch.float32).unsqueeze(1)\n",
        "y_train = torch.tensor(data_na[:, 1], dtype=torch.float32).unsqueeze(1) #parte standard (1 problema)\n",
        "y2_train = torch.tensor(data_na[:, 2], dtype=torch.float32).unsqueeze(1) #parte infinitesima (2 problema)"
      ],
      "metadata": {
        "id": "b-jbuGiyaUxn"
      },
      "execution_count": 64,
      "outputs": []
    },
    {
      "cell_type": "code",
      "source": [
        "#custom layer\n",
        "#batch size = 1\n",
        "#input size = 10 se il mio hidden layer ha 10 neuroni\n",
        "import torch.nn.init as init\n",
        "\n",
        "class CustomNASingleNeuronLayer(nn.Module):\n",
        "    def __init__(self, input_size , monosemio):\n",
        "        super(CustomNASingleNeuronLayer, self).__init__()\n",
        "        #self.weight1 = nn.Parameter(torch.randn(1, input_size))\n",
        "        self.weight1 = nn.Parameter(torch.empty(1, input_size))\n",
        "        self.weight2 = nn.Parameter(torch.randn(1, input_size))\n",
        "        self.bias = nn.Parameter(torch.randn(1))\n",
        "        self.monosemio = monosemio\n",
        "        init.xavier_uniform_(self.weight1)\n",
        "\n",
        "    def forward(self, x):\n",
        "        output = x[:, 0].unsqueeze(1) * self.weight1 + x[:, 1].unsqueeze(1) * self.weight2 + self.bias\n",
        "        #print(\"Forward output:\", output)  # Stampa il valore di output\n",
        "        return output\n",
        "\n",
        "\n",
        "    def custom_backward(self, grad_output):\n",
        "        if self.monosemio == 1:\n",
        "            grad_input = torch.matmul(grad_output, self.weight1.t())\n",
        "            grad_weight = torch.matmul(x.t(), grad_output)\n",
        "            self.weight1.grad = grad_weight\n",
        "            self.weight2.grad = None\n",
        "            print(\"Grad weight1:\", grad_weight)\n",
        "            print(\"ciao\")\n",
        "        elif self.monosemio == 2:\n",
        "            grad_input = torch.matmul(grad_output, self.weight2.t())\n",
        "            grad_weight = torch.matmul(x.t(), grad_output)\n",
        "            self.weight1.grad = None\n",
        "            self.weight2.grad = grad_weight\n",
        "            print(\"Grad weight2:\", grad_weight)\n",
        "            print(\"ciao2\")\n",
        "        else:\n",
        "            raise ValueError(\"Il valore di monosemio deve essere 1 o 2.\")\n",
        "\n",
        "        grad_bias = grad_output.mean(dim=0)\n",
        "        self.bias.grad = grad_bias\n",
        "        print(\"ciao3\")\n",
        "\n",
        "        print(\"Custom backward - Grad input:\", grad_input)  # Stampa il gradiente di input\n",
        "        print(\"Custom backward - Grad weight1:\", self.weight1.grad)  # Stampa il gradiente di weight1\n",
        "        print(\"Custom backward - Grad weight2:\", self.weight2.grad)  # Stampa il gradiente di weight2\n",
        "        print(\"Custom backward - Grad bias:\", self.bias.grad)  # Stampa il gradiente del bias\n",
        "\n",
        "        return grad_input\n",
        "\n",
        "    def set_monosemio(self, monosemio):\n",
        "        self.monosemio = monosemio"
      ],
      "metadata": {
        "id": "TgZUPUTSqTEm"
      },
      "execution_count": 65,
      "outputs": []
    },
    {
      "cell_type": "markdown",
      "source": [
        "Ultimo layer NA"
      ],
      "metadata": {
        "id": "2Y97g2ZvD6H0"
      }
    },
    {
      "cell_type": "code",
      "source": [
        "#definizione della dnn con il layer custom\n",
        "class NeuralNet(nn.Module):\n",
        "    def __init__(self , monosemio):\n",
        "        super(NeuralNet, self).__init__()\n",
        "        self.hidden = nn.Linear(1, 64)  # Hidden layer con 10 neuroni\n",
        "        self.relu = nn.ReLU()\n",
        "        self.custom_layer = CustomNASingleNeuronLayer(64, monosemio)  # Custom layer come output layer\n",
        "\n",
        "\n",
        "    def forward(self, x):\n",
        "        x = self.hidden(x)\n",
        "        x = self.relu(x)\n",
        "        x = self.custom_layer(x)  # Passaggio attraverso il custom layer\n",
        "        #print(\"Forward output:\", x)  # Stampa il valore di output\n",
        "        return x\n",
        "\n",
        "\n",
        "    def backward(self, loss):\n",
        "        loss.backward()  # Esegue la backward sulla loss\n",
        "        #print(\"Backward - Loss:\", loss)  # Stampa il valore della loss\n",
        "        self.custom_layer.custom_backward(loss.grad_fn)\n",
        "        print('AAAAAAAAAAAAAAAAAAAAAAA')\n",
        "\n",
        "\n",
        "\n",
        "# Creazione della rete neurale\n",
        "monosemio = 1\n",
        "net = NeuralNet(monosemio)\n"
      ],
      "metadata": {
        "id": "lTvfPV8U_xL8"
      },
      "execution_count": 66,
      "outputs": []
    },
    {
      "cell_type": "code",
      "source": [
        "#mse calcolata in base al monosemia\n",
        "#custom mse\n",
        "import torch\n",
        "import torch.nn as nn\n",
        "\n",
        "class CustomMSELoss(nn.Module):\n",
        "    def __init__(self, monosemio):\n",
        "        super(CustomMSELoss, self).__init__()\n",
        "        self.monosemio = monosemio\n",
        "\n",
        "    def forward(self, input, target , target1):\n",
        "        if self.monosemio == 1:\n",
        "            #target parte intera\n",
        "            loss = torch.mean(torch.pow((input[:, 0] - target), 2))  # Considera solo il valore associato al weight1\n",
        "            #print(loss)\n",
        "        elif self.monosemio == 2:\n",
        "            loss = torch.mean(torch.pow((input[:, 1] - target1), 2))  # Considera solo il valore associato al weight2\n",
        "        else : \n",
        "            raise ValueError(\"Il valore di monosemio deve essere 1, 2 o 3.\")\n",
        "        return loss\n",
        "\n",
        "\n",
        "#criterio\n",
        "#monosemio = 2  # Sostituisci con il valore desiderato (1, 2 o 3) in base a che monosemio voglio applicare la loss\n",
        "#criterion = CustomMSELoss(monosemio)\n",
        "\n",
        "#fare la loss\n",
        "#loss = criterion(outputs, y_train)  # Calcolo della perdita con la custom loss"
      ],
      "metadata": {
        "id": "8rzM8EVTb7-u"
      },
      "execution_count": 67,
      "outputs": []
    },
    {
      "cell_type": "code",
      "source": [
        "# Addestramento della rete neurale\n",
        "num_epochs_per_monosemio = 1000\n",
        "threshold = 1e-2\n",
        "old_grad = None  # Inizializza old_grad come un tensore vuoto\n",
        "optimizer = optim.SGD(net.parameters(), lr=0.01)\n",
        "loss_values = []  # Lista per memorizzare i valori di loss\n",
        "\n",
        "\n",
        "for monosemio in range(1, 2):\n",
        "    #optimizer = optim.SGD(net.parameters(), lr=0.01)  # Reinizializzazione dell'ottimizzatore per ogni monosemio\n",
        "    epoch = 0\n",
        "    #se sto elaborando il monosemio = 1 --> loss sulla parte standard\n",
        "    #se sto elaborando il monosemio = 2 --> loss sul primo infinitesimo\n",
        "    criterion = CustomMSELoss(monosemio)\n",
        "\n",
        "    optimizer_custom_layer_w1 = optim.SGD([net.custom_layer.weight1 , net.custom_layer.bias], lr=0.01)\n",
        "    optimizer_custom_layer_w2 = optim.SGD([net.custom_layer.weight2 , net.custom_layer.bias], lr=0.01)\n",
        "    optimizer_hidden_layer = optim.SGD([net.hidden.weight, net.hidden.bias], lr=0.01)\n",
        "\n",
        "\n",
        "    # Elimina il grafo di autograd dai tensori coinvolti prima di partire con il monosemio 2\n",
        "    if monosemio == 2 and epoch==0 :\n",
        "      #old_grad = net.hidden.weight.grad.clone()\n",
        "      net.custom_layer.weight1.detach_()\n",
        "      net.custom_layer.bias.detach_()\n",
        "      net.hidden.weight.detach_()\n",
        "      net.hidden.bias.detach_()\n",
        "\n",
        "    while epoch < num_epochs_per_monosemio and current_loss > threshold:\n",
        "        \n",
        "        if monosemio == 1:\n",
        "            optimizer_custom_layer_w1.zero_grad()  # Azzeramento dei gradienti del custom layer\n",
        "            optimizer_hidden_layer.zero_grad()  # Azzeramento dei gradienti del custom layer\n",
        "            net.custom_layer.weight2.grad = None\n",
        "\n",
        "            outputs = net(x_train)\n",
        "            loss = criterion(outputs, y_train, y2_train)\n",
        "            loss.backward()\n",
        "            optimizer_custom_layer_w1.step()\n",
        "            optimizer_hidden_layer.step()\n",
        "            old_grad = net.hidden.weight.grad\n",
        "            current_loss = loss.item()\n",
        "            loss_values.append(current_loss)  # Aggiungi il valore di loss alla lista\n",
        "\n",
        "\n",
        "        elif monosemio == 2:\n",
        "            optimizer_custom_layer_w2.zero_grad()\n",
        "            optimizer_hidden_layer.zero_grad()\n",
        "\n",
        "            outputs = net(x_train)\n",
        "            loss = criterion(outputs, y_train, y2_train)\n",
        "            loss.backward(retain_graph=True)\n",
        "            #print(old_grad)\n",
        "            if old_grad is not None:\n",
        "                new_grad = net.hidden.weight.grad\n",
        "                projection = new_grad - torch.mm(new_grad, old_grad.t()) * old_grad / torch.mm(old_grad, old_grad.t())\n",
        "                nn_utils.clip_grad_norm_(projection, max_norm=1.0)  # Normalizza i gradienti\n",
        "                projection = projection.reshape(net.hidden.weight.grad.shape)\n",
        "                net.hidden.weight.grad = projection\n",
        "\n",
        "            optimizer_custom_layer_w2.step()\n",
        "            optimizer_hidden_layer.step()\n",
        "\n",
        "            #old_grad = -net.hidden.weight.grad\n",
        "\n",
        "        else:\n",
        "            raise ValueError(\"Il valore di monosemio deve essere compreso tra 1 e 2.\")\n",
        "\n",
        "        current_loss = loss.item()\n",
        "        epoch += 1\n",
        "\n",
        "        if epoch % 100 == 0:\n",
        "            print(f'Monosemio: {monosemio}, Epoch {epoch}/{num_epochs_per_monosemio}, Loss: {current_loss:.4f}')\n",
        "\n",
        "# Traccia il grafico della loss\n",
        "plt.plot(range(len(loss_values)), loss_values)\n",
        "plt.xlabel('Epoch')\n",
        "plt.ylabel('Loss')\n",
        "plt.title('Training Loss')\n",
        "plt.show()"
      ],
      "metadata": {
        "id": "aMDengn_z6kj",
        "colab": {
          "base_uri": "https://localhost:8080/",
          "height": 646
        },
        "outputId": "10dcc0d1-64e6-47e4-996d-ca905282875d"
      },
      "execution_count": 68,
      "outputs": [
        {
          "output_type": "stream",
          "name": "stdout",
          "text": [
            "Monosemio: 1, Epoch 100/1000, Loss: 2.6481\n",
            "Monosemio: 1, Epoch 200/1000, Loss: 2.0889\n",
            "Monosemio: 1, Epoch 300/1000, Loss: 2.0622\n",
            "Monosemio: 1, Epoch 400/1000, Loss: 2.0615\n",
            "Monosemio: 1, Epoch 500/1000, Loss: 2.0615\n",
            "Monosemio: 1, Epoch 600/1000, Loss: 2.0615\n",
            "Monosemio: 1, Epoch 700/1000, Loss: 2.0615\n",
            "Monosemio: 1, Epoch 800/1000, Loss: 2.0615\n",
            "Monosemio: 1, Epoch 900/1000, Loss: 2.0615\n",
            "Monosemio: 1, Epoch 1000/1000, Loss: 2.0615\n"
          ]
        },
        {
          "output_type": "display_data",
          "data": {
            "text/plain": [
              "<Figure size 640x480 with 1 Axes>"
            ],
            "image/png": "[encoded data removed]"
          },
          "metadata": {}
        }
      ]
    },
    {
      "cell_type": "code",
      "source": [
        "import matplotlib.pyplot as plt\n",
        "import numpy as np\n",
        "\n",
        "# Dopo l'addestramento\n",
        "weight1 = net.custom_layer.weight1.detach().numpy()\n",
        "bias = net.custom_layer.bias.detach().numpy()\n",
        "\n",
        "# Punti di input per la regressione\n",
        "x = data_na[:, 0]\n",
        "y = data_na[:, 1]\n",
        "\n",
        "# Genera dei punti x per il plot\n",
        "x_plot = np.linspace(min(x), max(x), 100)\n",
        "# Calcola i corrispondenti valori y predetti utilizzando la regressione lineare\n",
        "y_plot = weight1[0][0] * x_plot + bias[0]\n",
        "\n",
        "# Plotta i punti di input\n",
        "plt.scatter(x, y, label='Input Data')\n",
        "# Plotta la linea di regressione\n",
        "plt.plot(x_plot, y_plot, color='red', label='Regression Line')\n",
        "plt.xlabel('x')\n",
        "plt.ylabel('y')\n",
        "plt.legend()\n",
        "plt.show()\n"
      ],
      "metadata": {
        "colab": {
          "base_uri": "https://localhost:8080/",
          "height": 449
        },
        "id": "uE5_lJzHCfCj",
        "outputId": "aacf68e1-9df1-4260-ea1b-6f73ac92ba15"
      },
      "execution_count": 71,
      "outputs": [
        {
          "output_type": "display_data",
          "data": {
            "text/plain": [
              "<Figure size 640x480 with 1 Axes>"
            ],
            "image/png": "[encoded data removed]"
          },
          "metadata": {}
        }
      ]
    },
    {
      "cell_type": "markdown",
      "source": [
        "#TEST"
      ],
      "metadata": {
        "id": "nxCA5mQNrrcL"
      }
    },
    {
      "cell_type": "code",
      "source": [],
      "metadata": {
        "id": "RKUyFAPH8nbP"
      },
      "execution_count": null,
      "outputs": []
    }
  ]
}