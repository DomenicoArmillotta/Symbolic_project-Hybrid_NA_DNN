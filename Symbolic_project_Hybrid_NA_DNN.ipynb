{
  "nbformat": 4,
  "nbformat_minor": 0,
  "metadata": {
    "colab": {
      "provenance": [],
      "collapsed_sections": [
        "SPGWXkxIqETb"
      ],
      "include_colab_link": true
    },
    "kernelspec": {
      "name": "python3",
      "display_name": "Python 3"
    },
    "language_info": {
      "name": "python"
    }
  },
  "cells": [
    {
      "cell_type": "markdown",
      "metadata": {
        "id": "view-in-github",
        "colab_type": "text"
      },
      "source": [
        "<a href=\"https://colab.research.google.com/github/DomenicoArmillotta/Symbolic_project-Hybrid_NA_DNN/blob/main/Symbolic_project_Hybrid_NA_DNN.ipynb\" target=\"_parent\"><img src=\"https://colab.research.google.com/assets/colab-badge.svg\" alt=\"Open In Colab\"/></a>"
      ]
    },
    {
      "cell_type": "code",
      "source": [
        "#library\n",
        "import torch\n",
        "import torch.nn as nn\n",
        "import torch.optim as optim\n",
        "import matplotlib.pyplot as plt\n",
        "import numpy as np\n"
      ],
      "metadata": {
        "id": "7NFJwwbVqUEA"
      },
      "execution_count": null,
      "outputs": []
    },
    {
      "cell_type": "code",
      "source": [
        "#input\n",
        "# Dati di input standard\n",
        "data = np.array([[0, 2.5584],\n",
        "                 [0.5000, 2.6882],\n",
        "                 [1.0000, 2.9627],\n",
        "                 [1.5000, 3.2608],\n",
        "                 [2.0000, 3.6235],\n",
        "                 [2.5000, 3.9376],\n",
        "                 [3.0000, 4.0383],\n",
        "                 [3.5000, 4.1570],\n",
        "                 [4.0000, 4.8498],\n",
        "                 [4.5000, 4.6561],\n",
        "                 [5.0000, 4.5119],\n",
        "                 [5.5000, 4.8346],\n",
        "                 [6.0000, 5.6039],\n",
        "                 [6.5000, 5.5890],\n",
        "                 [7.0000, 6.1914],\n",
        "                 [7.5000, 5.8966],\n",
        "                 [8.0000, 6.3866],\n",
        "                 [8.5000, 6.6909],\n",
        "                 [9.0000, 6.5224],\n",
        "                 [9.5000, 7.1803],\n",
        "                 [10.0000, 7.2537]])\n",
        "\n",
        "# Dati di input per na  \n",
        "#terza colonna è il target del primo infinitesimo\n",
        "data_na = np.array([[0, 2.5584 , 0.2322],\n",
        "                 [0.5000, 2.6882 , 0.7121],\n",
        "                 [1.0000, 2.9627 , 0.9321],\n",
        "                 [1.5000, 3.2608 , 1.0534],\n",
        "                 [2.0000, 3.6235 , 1.3290],\n",
        "                 [2.5000, 3.9376 , 1.5928],\n",
        "                 [3.0000, 4.0383 , 1.8765],\n",
        "                 [3.5000, 4.1570 , 1.9888],\n",
        "                 [4.0000, 4.8498 , 2.4822],\n",
        "                 [4.5000, 4.6561 , 2.9987],\n",
        "                 [5.0000, 4.5119 , 3.4312],\n",
        "                 [5.5000, 4.8346 , 3.7816],\n",
        "                 [6.0000, 5.6039 , 3.9817],\n",
        "                 [6.5000, 5.5890 , 4.3171],\n",
        "                 [7.0000, 6.1914 , 4.6765],\n",
        "                 [7.5000, 5.8966 , 5.0811],\n",
        "                 [8.0000, 6.3866 , 5.4567],\n",
        "                 [8.5000, 6.6909 , 6.0122],\n",
        "                 [9.0000, 6.5224 , 6.4543],\n",
        "                 [9.5000, 7.1803 , 6.9876],\n",
        "                 [10.0000, 7.2537 , 7.3242]])\n",
        "\n",
        "x = data[:, 0]\n",
        "y = data[:, 1]\n",
        "y2 = data[:,2]\n",
        "l = len(x)\n"
      ],
      "metadata": {
        "id": "gJr4jAZ3qYOZ"
      },
      "execution_count": null,
      "outputs": []
    },
    {
      "cell_type": "markdown",
      "source": [
        "#Standard Linear Regression"
      ],
      "metadata": {
        "id": "SPGWXkxIqETb"
      }
    },
    {
      "cell_type": "code",
      "source": [
        "# Preparazione dei dati\n",
        "x_train = torch.tensor(data[:, 0], dtype=torch.float32).unsqueeze(1)\n",
        "y_train = torch.tensor(data[:, 1], dtype=torch.float32).unsqueeze(1)"
      ],
      "metadata": {
        "id": "QnTfRdhb6Yeg"
      },
      "execution_count": null,
      "outputs": []
    },
    {
      "cell_type": "code",
      "source": [
        "\n",
        "# Definizione della rete neurale\n",
        "class NeuralNet(nn.Module):\n",
        "    def __init__(self):\n",
        "        super(NeuralNet, self).__init__()\n",
        "        self.hidden = nn.Linear(1, 64)  # Hidden layer con 10 neuroni\n",
        "        self.relu = nn.ReLU()\n",
        "        self.output = nn.Linear(64, 1)  # Output layer con 1 neurone\n",
        "\n",
        "    def forward(self, x):\n",
        "        x = self.hidden(x)\n",
        "        x = self.relu(x)\n",
        "        x = self.output(x)\n",
        "        return x\n",
        "\n",
        "# Creazione della rete neurale\n",
        "net = NeuralNet()\n",
        "\n"
      ],
      "metadata": {
        "id": "mE7-nfcw6SoT"
      },
      "execution_count": null,
      "outputs": []
    },
    {
      "cell_type": "code",
      "source": [
        "# Definizione di funzione di perdita e ottimizzatore\n",
        "criterion = nn.MSELoss()\n",
        "optimizer = optim.SGD(net.parameters(), lr=0.01)\n",
        "\n",
        "# Addestramento della rete neurale\n",
        "num_epochs = 1000\n",
        "for epoch in range(num_epochs):\n",
        "    optimizer.zero_grad()  # Azzeramento dei gradienti\n",
        "    outputs = net(x_train)  # Calcolo delle predizioni\n",
        "    loss = criterion(outputs, y_train)  # Calcolo della perdita\n",
        "    loss.backward()  # Calcolo dei gradienti\n",
        "    optimizer.step()  # Aggiornamento dei pesi\n",
        "\n",
        "    if (epoch+1) % 100 == 0:\n",
        "        print(f'Epoch {epoch+1}/{num_epochs}, Loss: {loss.item():.4f}')"
      ],
      "metadata": {
        "colab": {
          "base_uri": "https://localhost:8080/"
        },
        "id": "DtAc8XBt6eoB",
        "outputId": "9f42a523-d2d3-42c1-9e72-09ea89c27cb9"
      },
      "execution_count": null,
      "outputs": [
        {
          "output_type": "stream",
          "name": "stdout",
          "text": [
            "Epoch 100/1000, Loss: 0.0437\n",
            "Epoch 200/1000, Loss: 0.0391\n",
            "Epoch 300/1000, Loss: 0.0379\n",
            "Epoch 400/1000, Loss: 0.0374\n",
            "Epoch 500/1000, Loss: 0.0372\n",
            "Epoch 600/1000, Loss: 0.0370\n",
            "Epoch 700/1000, Loss: 0.0370\n",
            "Epoch 800/1000, Loss: 0.0369\n",
            "Epoch 900/1000, Loss: 0.0369\n",
            "Epoch 1000/1000, Loss: 0.0368\n"
          ]
        }
      ]
    },
    {
      "cell_type": "code",
      "source": [
        "# Valutazione della rete neurale\n",
        "net.eval()\n",
        "with torch.no_grad():\n",
        "    predicted = net(x_train)\n",
        "\n",
        "# Stampa dei risultati\n",
        "print(f'Predicted:\\n{predicted.squeeze().numpy()}')\n",
        "print(f'Ground Truth:\\n{y_train.squeeze().numpy()}')"
      ],
      "metadata": {
        "colab": {
          "base_uri": "https://localhost:8080/"
        },
        "id": "DebBCcKh6m0e",
        "outputId": "5cd7909c-12fa-4b87-b719-283d064fc1c8"
      },
      "execution_count": null,
      "outputs": [
        {
          "output_type": "stream",
          "name": "stdout",
          "text": [
            "Predicted:\n",
            "[2.5482123 2.69288   2.9725928 3.2677574 3.596364  3.8194485 4.0318336\n",
            " 4.260776  4.489718  4.7186604 4.9476023 5.176544  5.405486  5.634428\n",
            " 5.86337   6.092312  6.3212543 6.550196  6.779138  7.0080805 7.2370224]\n",
            "Ground Truth:\n",
            "[2.5584 2.6882 2.9627 3.2608 3.6235 3.9376 4.0383 4.157  4.8498 4.6561\n",
            " 4.5119 4.8346 5.6039 5.589  6.1914 5.8966 6.3866 6.6909 6.5224 7.1803\n",
            " 7.2537]\n"
          ]
        }
      ]
    },
    {
      "cell_type": "code",
      "source": [
        "import matplotlib.pyplot as plt\n",
        "\n",
        "# Tracciamento del plot\n",
        "plt.scatter(data[:, 0], data[:, 1], color='red', label='Dati di input')\n",
        "plt.plot(x_train.numpy(), predicted.numpy(), color='blue', label='Retta calcolata')\n",
        "plt.xlabel('Input')\n",
        "plt.ylabel('Output')\n",
        "plt.title('Regressione')\n",
        "plt.legend()\n",
        "plt.show()\n"
      ],
      "metadata": {
        "colab": {
          "base_uri": "https://localhost:8080/",
          "height": 472
        },
        "id": "HmF62UkZ6nKI",
        "outputId": "68ce589c-55ce-48fd-f10e-b7e0669d390a"
      },
      "execution_count": null,
      "outputs": [
        {
          "output_type": "display_data",
          "data": {
            "text/plain": [
              "<Figure size 640x480 with 1 Axes>"
            ],
            "image/png": "[encoded data removed]"
          },
          "metadata": {}
        }
      ]
    },
    {
      "cell_type": "code",
      "source": [
        "# Salva l'immagine del grafico della rete neurale con i pesi\n",
        "dummy_input = torch.randn(1, 1)\n",
        "output = net(dummy_input)\n",
        "dot = make_dot(output, params=dict(net.named_parameters()))\n",
        "dot.format = 'png'\n",
        "dot.render('/content/drive/MyDrive/symbolic_custom_layer/network_graph')\n"
      ],
      "metadata": {
        "colab": {
          "base_uri": "https://localhost:8080/",
          "height": 36
        },
        "id": "rpcWoa-qHf2Y",
        "outputId": "71f24023-b067-4b03-a1f2-25902862290b"
      },
      "execution_count": null,
      "outputs": [
        {
          "output_type": "execute_result",
          "data": {
            "text/plain": [
              "'/content/drive/MyDrive/symbolic_custom_layer/network_graph.png'"
            ],
            "application/vnd.google.colaboratory.intrinsic+json": {
              "type": "string"
            }
          },
          "metadata": {},
          "execution_count": 17
        }
      ]
    },
    {
      "cell_type": "code",
      "source": [],
      "metadata": {
        "colab": {
          "base_uri": "https://localhost:8080/",
          "height": 380
        },
        "id": "xetgk__SHd6I",
        "outputId": "fd6597e6-8ea0-4ee3-9d2c-7c1a5f8b2966"
      },
      "execution_count": null,
      "outputs": [
        {
          "output_type": "error",
          "ename": "TypeError",
          "evalue": "ignored",
          "traceback": [
            "\u001b[0;31m---------------------------------------------------------------------------\u001b[0m",
            "\u001b[0;31mTypeError\u001b[0m                                 Traceback (most recent call last)",
            "\u001b[0;32m<ipython-input-14-e939f47ab00a>\u001b[0m in \u001b[0;36m<cell line: 1>\u001b[0;34m()\u001b[0m\n\u001b[0;32m----> 1\u001b[0;31m \u001b[0moutput\u001b[0m \u001b[0;34m=\u001b[0m \u001b[0mnet\u001b[0m\u001b[0;34m(\u001b[0m\u001b[0mdata\u001b[0m\u001b[0;34m)\u001b[0m\u001b[0;34m\u001b[0m\u001b[0;34m\u001b[0m\u001b[0m\n\u001b[0m\u001b[1;32m      2\u001b[0m \u001b[0;34m\u001b[0m\u001b[0m\n\u001b[1;32m      3\u001b[0m \u001b[0mdot\u001b[0m \u001b[0;34m=\u001b[0m \u001b[0mmake_dot\u001b[0m\u001b[0;34m(\u001b[0m\u001b[0moutput\u001b[0m\u001b[0;34m,\u001b[0m \u001b[0mparams\u001b[0m\u001b[0;34m=\u001b[0m\u001b[0mdict\u001b[0m\u001b[0;34m(\u001b[0m\u001b[0mnet\u001b[0m\u001b[0;34m.\u001b[0m\u001b[0mnamed_parameters\u001b[0m\u001b[0;34m(\u001b[0m\u001b[0;34m)\u001b[0m\u001b[0;34m)\u001b[0m\u001b[0;34m)\u001b[0m\u001b[0;34m\u001b[0m\u001b[0;34m\u001b[0m\u001b[0m\n\u001b[1;32m      4\u001b[0m \u001b[0mdot\u001b[0m\u001b[0;34m.\u001b[0m\u001b[0mrender\u001b[0m\u001b[0;34m(\u001b[0m\u001b[0;34m'/content/drive/MyDrive/symbolic_custom_layer/rete.png'\u001b[0m\u001b[0;34m)\u001b[0m  \u001b[0;31m# Salva il grafo come immagine\u001b[0m\u001b[0;34m\u001b[0m\u001b[0;34m\u001b[0m\u001b[0m\n\u001b[1;32m      5\u001b[0m \u001b[0;34m\u001b[0m\u001b[0m\n",
            "\u001b[0;32m/usr/local/lib/python3.10/dist-packages/torch/nn/modules/module.py\u001b[0m in \u001b[0;36m_call_impl\u001b[0;34m(self, *args, **kwargs)\u001b[0m\n\u001b[1;32m   1499\u001b[0m                 \u001b[0;32mor\u001b[0m \u001b[0m_global_backward_pre_hooks\u001b[0m \u001b[0;32mor\u001b[0m \u001b[0m_global_backward_hooks\u001b[0m\u001b[0;34m\u001b[0m\u001b[0;34m\u001b[0m\u001b[0m\n\u001b[1;32m   1500\u001b[0m                 or _global_forward_hooks or _global_forward_pre_hooks):\n\u001b[0;32m-> 1501\u001b[0;31m             \u001b[0;32mreturn\u001b[0m \u001b[0mforward_call\u001b[0m\u001b[0;34m(\u001b[0m\u001b[0;34m*\u001b[0m\u001b[0margs\u001b[0m\u001b[0;34m,\u001b[0m \u001b[0;34m**\u001b[0m\u001b[0mkwargs\u001b[0m\u001b[0;34m)\u001b[0m\u001b[0;34m\u001b[0m\u001b[0;34m\u001b[0m\u001b[0m\n\u001b[0m\u001b[1;32m   1502\u001b[0m         \u001b[0;31m# Do not call functions when jit is used\u001b[0m\u001b[0;34m\u001b[0m\u001b[0;34m\u001b[0m\u001b[0m\n\u001b[1;32m   1503\u001b[0m         \u001b[0mfull_backward_hooks\u001b[0m\u001b[0;34m,\u001b[0m \u001b[0mnon_full_backward_hooks\u001b[0m \u001b[0;34m=\u001b[0m \u001b[0;34m[\u001b[0m\u001b[0;34m]\u001b[0m\u001b[0;34m,\u001b[0m \u001b[0;34m[\u001b[0m\u001b[0;34m]\u001b[0m\u001b[0;34m\u001b[0m\u001b[0;34m\u001b[0m\u001b[0m\n",
            "\u001b[0;32m<ipython-input-10-5d9ad2ffd244>\u001b[0m in \u001b[0;36mforward\u001b[0;34m(self, x)\u001b[0m\n\u001b[1;32m      8\u001b[0m \u001b[0;34m\u001b[0m\u001b[0m\n\u001b[1;32m      9\u001b[0m     \u001b[0;32mdef\u001b[0m \u001b[0mforward\u001b[0m\u001b[0;34m(\u001b[0m\u001b[0mself\u001b[0m\u001b[0;34m,\u001b[0m \u001b[0mx\u001b[0m\u001b[0;34m)\u001b[0m\u001b[0;34m:\u001b[0m\u001b[0;34m\u001b[0m\u001b[0;34m\u001b[0m\u001b[0m\n\u001b[0;32m---> 10\u001b[0;31m         \u001b[0mx\u001b[0m \u001b[0;34m=\u001b[0m \u001b[0mself\u001b[0m\u001b[0;34m.\u001b[0m\u001b[0mhidden\u001b[0m\u001b[0;34m(\u001b[0m\u001b[0mx\u001b[0m\u001b[0;34m)\u001b[0m\u001b[0;34m\u001b[0m\u001b[0;34m\u001b[0m\u001b[0m\n\u001b[0m\u001b[1;32m     11\u001b[0m         \u001b[0mx\u001b[0m \u001b[0;34m=\u001b[0m \u001b[0mself\u001b[0m\u001b[0;34m.\u001b[0m\u001b[0mrelu\u001b[0m\u001b[0;34m(\u001b[0m\u001b[0mx\u001b[0m\u001b[0;34m)\u001b[0m\u001b[0;34m\u001b[0m\u001b[0;34m\u001b[0m\u001b[0m\n\u001b[1;32m     12\u001b[0m         \u001b[0mx\u001b[0m \u001b[0;34m=\u001b[0m \u001b[0mself\u001b[0m\u001b[0;34m.\u001b[0m\u001b[0moutput\u001b[0m\u001b[0;34m(\u001b[0m\u001b[0mx\u001b[0m\u001b[0;34m)\u001b[0m\u001b[0;34m\u001b[0m\u001b[0;34m\u001b[0m\u001b[0m\n",
            "\u001b[0;32m/usr/local/lib/python3.10/dist-packages/torch/nn/modules/module.py\u001b[0m in \u001b[0;36m_call_impl\u001b[0;34m(self, *args, **kwargs)\u001b[0m\n\u001b[1;32m   1499\u001b[0m                 \u001b[0;32mor\u001b[0m \u001b[0m_global_backward_pre_hooks\u001b[0m \u001b[0;32mor\u001b[0m \u001b[0m_global_backward_hooks\u001b[0m\u001b[0;34m\u001b[0m\u001b[0;34m\u001b[0m\u001b[0m\n\u001b[1;32m   1500\u001b[0m                 or _global_forward_hooks or _global_forward_pre_hooks):\n\u001b[0;32m-> 1501\u001b[0;31m             \u001b[0;32mreturn\u001b[0m \u001b[0mforward_call\u001b[0m\u001b[0;34m(\u001b[0m\u001b[0;34m*\u001b[0m\u001b[0margs\u001b[0m\u001b[0;34m,\u001b[0m \u001b[0;34m**\u001b[0m\u001b[0mkwargs\u001b[0m\u001b[0;34m)\u001b[0m\u001b[0;34m\u001b[0m\u001b[0;34m\u001b[0m\u001b[0m\n\u001b[0m\u001b[1;32m   1502\u001b[0m         \u001b[0;31m# Do not call functions when jit is used\u001b[0m\u001b[0;34m\u001b[0m\u001b[0;34m\u001b[0m\u001b[0m\n\u001b[1;32m   1503\u001b[0m         \u001b[0mfull_backward_hooks\u001b[0m\u001b[0;34m,\u001b[0m \u001b[0mnon_full_backward_hooks\u001b[0m \u001b[0;34m=\u001b[0m \u001b[0;34m[\u001b[0m\u001b[0;34m]\u001b[0m\u001b[0;34m,\u001b[0m \u001b[0;34m[\u001b[0m\u001b[0;34m]\u001b[0m\u001b[0;34m\u001b[0m\u001b[0;34m\u001b[0m\u001b[0m\n",
            "\u001b[0;32m/usr/local/lib/python3.10/dist-packages/torch/nn/modules/linear.py\u001b[0m in \u001b[0;36mforward\u001b[0;34m(self, input)\u001b[0m\n\u001b[1;32m    112\u001b[0m \u001b[0;34m\u001b[0m\u001b[0m\n\u001b[1;32m    113\u001b[0m     \u001b[0;32mdef\u001b[0m \u001b[0mforward\u001b[0m\u001b[0;34m(\u001b[0m\u001b[0mself\u001b[0m\u001b[0;34m,\u001b[0m \u001b[0minput\u001b[0m\u001b[0;34m:\u001b[0m \u001b[0mTensor\u001b[0m\u001b[0;34m)\u001b[0m \u001b[0;34m->\u001b[0m \u001b[0mTensor\u001b[0m\u001b[0;34m:\u001b[0m\u001b[0;34m\u001b[0m\u001b[0;34m\u001b[0m\u001b[0m\n\u001b[0;32m--> 114\u001b[0;31m         \u001b[0;32mreturn\u001b[0m \u001b[0mF\u001b[0m\u001b[0;34m.\u001b[0m\u001b[0mlinear\u001b[0m\u001b[0;34m(\u001b[0m\u001b[0minput\u001b[0m\u001b[0;34m,\u001b[0m \u001b[0mself\u001b[0m\u001b[0;34m.\u001b[0m\u001b[0mweight\u001b[0m\u001b[0;34m,\u001b[0m \u001b[0mself\u001b[0m\u001b[0;34m.\u001b[0m\u001b[0mbias\u001b[0m\u001b[0;34m)\u001b[0m\u001b[0;34m\u001b[0m\u001b[0;34m\u001b[0m\u001b[0m\n\u001b[0m\u001b[1;32m    115\u001b[0m \u001b[0;34m\u001b[0m\u001b[0m\n\u001b[1;32m    116\u001b[0m     \u001b[0;32mdef\u001b[0m \u001b[0mextra_repr\u001b[0m\u001b[0;34m(\u001b[0m\u001b[0mself\u001b[0m\u001b[0;34m)\u001b[0m \u001b[0;34m->\u001b[0m \u001b[0mstr\u001b[0m\u001b[0;34m:\u001b[0m\u001b[0;34m\u001b[0m\u001b[0;34m\u001b[0m\u001b[0m\n",
            "\u001b[0;31mTypeError\u001b[0m: linear(): argument 'input' (position 1) must be Tensor, not numpy.ndarray"
          ]
        }
      ]
    },
    {
      "cell_type": "markdown",
      "source": [
        "#NA LINEAR REGRESSION"
      ],
      "metadata": {
        "id": "284fae55qPiO"
      }
    },
    {
      "cell_type": "markdown",
      "source": [
        "Note :\n",
        "\n",
        "Cosa serve **unsqueeze** :\n",
        "\n",
        "Questa operazione è necessaria nel contesto del custom layer per garantire che le dimensioni dei tensori siano compatibili durante la moltiplicazione tra i pesi e i valori di input. I pesi hanno una forma di (1, input_size), mentre il tensore x[:, 0] ha una forma di (batch_size, 1). Pertanto, la forma dei due tensori sarà compatibile per la moltiplicazione elemento per elemento."
      ],
      "metadata": {
        "id": "m0PSrvd7zOxY"
      }
    },
    {
      "cell_type": "code",
      "source": [
        "# Preparazione dei dati\n",
        "x_train = torch.tensor(data_na[:, 0], dtype=torch.float32).unsqueeze(1)\n",
        "y_train = torch.tensor(data_na[:, 1], dtype=torch.float32).unsqueeze(1) #parte standard (1 problema)\n",
        "y2_train = torch.tensor(data_na[:, 2], dtype=torch.float32).unsqueeze(1) #parte infinitesima (2 problema)"
      ],
      "metadata": {
        "id": "b-jbuGiyaUxn"
      },
      "execution_count": null,
      "outputs": []
    },
    {
      "cell_type": "code",
      "source": [
        "#custom layer\n",
        "#batch size = 1\n",
        "#input size = 10 se il mio hidden layer ha 10 neuroni\n",
        "class CustomNASingleNeuronLayer(nn.Module):\n",
        "    def __init__(self, input_size):\n",
        "        super(CustomNASingleNeuronLayer, self).__init__()\n",
        "        self.weight1 = nn.Parameter(torch.randn(1, input_size))\n",
        "        self.weight2 = nn.Parameter(torch.randn(1, input_size))\n",
        "        self.bias = nn.Parameter(torch.randn(1))\n",
        "\n",
        "    def forward(self, x):\n",
        "        output = x[:, 0].unsqueeze(1) * self.weight1 + x[:, 1].unsqueeze(1) * self.weight2 + self.bias\n",
        "        return output"
      ],
      "metadata": {
        "id": "TgZUPUTSqTEm"
      },
      "execution_count": null,
      "outputs": []
    },
    {
      "cell_type": "markdown",
      "source": [
        "Ultimo layer NA"
      ],
      "metadata": {
        "id": "2Y97g2ZvD6H0"
      }
    },
    {
      "cell_type": "code",
      "source": [
        "#definizione della dnn con il layer custom\n",
        "class NeuralNet(nn.Module):\n",
        "    def __init__(self):\n",
        "        super(NeuralNet, self).__init__()\n",
        "        self.hidden = nn.Linear(1, 10)  # Hidden layer con 10 neuroni\n",
        "        self.relu = nn.ReLU()\n",
        "        self.custom_layer = CustomNASingleNeuronLayer(10)  # Custom layer come output layer\n",
        "\n",
        "    def forward(self, x):\n",
        "        x = self.hidden(x)\n",
        "        x = self.relu(x)\n",
        "        x = self.custom_layer(x)  # Passaggio attraverso il custom layer\n",
        "        return x\n",
        "\n",
        "# Creazione della rete neurale\n",
        "net = NeuralNet()\n"
      ],
      "metadata": {
        "id": "lTvfPV8U_xL8"
      },
      "execution_count": null,
      "outputs": []
    },
    {
      "cell_type": "code",
      "source": [
        "#mse calcolata in base al monosemia\n",
        "#custom mse\n",
        "import torch\n",
        "import torch.nn as nn\n",
        "\n",
        "class CustomMSELoss(nn.Module):\n",
        "    def __init__(self, monosemio):\n",
        "        super(CustomMSELoss, self).__init__()\n",
        "        self.monosemio = monosemio\n",
        "\n",
        "    def forward(self, input, target , target1):\n",
        "        if self.monosemio == 1:\n",
        "            #target parte intera\n",
        "            loss = torch.mean(torch.pow((input[:, 0] - target), 2))  # Considera solo il valore associato al weight1\n",
        "        elif self.monosemio == 2:\n",
        "            loss = torch.mean(torch.pow((input[:, 1] - target1), 2))  # Considera solo il valore associato al weight2\n",
        "            raise ValueError(\"Il valore di monosemio deve essere 1, 2 o 3.\")\n",
        "        return loss\n",
        "\n",
        "\n",
        "#criterio\n",
        "monosemio = 2  # Sostituisci con il valore desiderato (1, 2 o 3) in base a che monosemio voglio applicare la loss\n",
        "criterion = CustomMSELoss(monosemio)\n",
        "\n",
        "#fare la loss\n",
        "loss = criterion(outputs, y_train)  # Calcolo della perdita con la custom loss"
      ],
      "metadata": {
        "id": "8rzM8EVTb7-u"
      },
      "execution_count": null,
      "outputs": []
    },
    {
      "cell_type": "code",
      "source": [
        "# Addestramento della rete neurale\n",
        "num_epochs_per_monosemio = 1000\n",
        "threshold = 1e-2\n",
        "\n",
        "for monosemio in range(1, 3):\n",
        "    optimizer = optim.SGD(net.parameters(), lr=0.01)  # Reinizializzazione dell'ottimizzatore per ogni monosemio\n",
        "    epoch = 0\n",
        "    current_loss = float('inf')\n",
        "    #se sto elaborando il monosemio = 1 --> loss sulla parte standard\n",
        "    #se sto elaborando il monosemio = 2 --> loss sul primo infinitesimo\n",
        "    criterion = CustomMSELoss(monosemio)\n",
        "\n",
        "    # Elimina il grafo di autograd dai tensori coinvolti prima di partire con il monosemio 2\n",
        "    if monosemio == 2 and epoch==0 :\n",
        "      old_gradient = net.input.weight.grad\n",
        "      net.hidden.weight1.detach_()\n",
        "      net.hidden.bias.detach_()\n",
        "      net.input.weight.detach_()\n",
        "      net.input.bias.detach_()\n",
        "\n",
        "    while epoch < num_epochs_per_monosemio and current_loss > threshold:\n",
        "        \n",
        "        if monosemio == 1:\n",
        "            optimizer.zero_grad()  # Azzeramento dei gradienti\n",
        "            outputs = net(x_train)  # Calcolo delle predizioni\n",
        "            loss = criterion(outputs, y_train, y2_train)  # Calcolo della perdita con la custom loss\n",
        "            loss.backward()  # Calcolo dei gradienti utilizzando la backward pass\n",
        "\n",
        "            optimizer.step(params=[net.hidden.weight1, net.hidden.bias])  # Aggiornamento dei pesi del custom layer\n",
        "            optimizer.step(params=[net.input.weight, net.input.bias])  # Aggiornamento dei pesi dell'input layer\n",
        "\n",
        "        elif monosemio == 2:\n",
        "            optimizer.zero_grad()  # Azzeramento dei gradienti\n",
        "            outputs = net(x_train)  # Calcolo delle predizioni\n",
        "            loss = criterion(outputs, y_train, y2_train)  # Calcolo della perdita con la custom loss\n",
        "            loss.backward()  # Calcolo dei gradienti utilizzando la backward pass\n",
        "            \n",
        "            # Proiezione ortogonale del nuovo gradiente sul vecchio gradiente\n",
        "            new_grad = net.input.weight.grad\n",
        "            # Proiezione ortogonale\n",
        "            projection = new_grad - torch.dot(new_grad, old_grad) * old_grad / torch.dot(old_grad, old_grad)  \n",
        "           \n",
        "            # Aggiornamento dei pesi dell'input layer utilizzando il gradiente proiettato\n",
        "            net.input.weight.grad = projection  # Assegna il gradiente proiettato al gradiente dell'input layer\n",
        "\n",
        "            # Aggiornamento solo di weight2\n",
        "            optimizer.step(params=[net.hidden.weight2, net.hidden.bias])  # Aggiornamento solo di weight2\n",
        "            optimizer.step(params=[net.input.weight, net.input.bias])\n",
        "\n",
        "        else:\n",
        "            raise ValueError(\"Il valore di monosemio deve essere compreso tra 1 e 2.\")\n",
        "\n",
        "        current_loss = loss.item()\n",
        "        epoch += 1\n",
        "\n",
        "        if epoch % 100 == 0:\n",
        "            print(f'Monosemio: {monosemio}, Epoch {epoch}/{num_epochs_per_monosemio}, Loss: {current_loss:.4f}')\n",
        "\n"
      ],
      "metadata": {
        "id": "aMDengn_z6kj"
      },
      "execution_count": null,
      "outputs": []
    },
    {
      "cell_type": "markdown",
      "source": [
        "#TEST"
      ],
      "metadata": {
        "id": "nxCA5mQNrrcL"
      }
    },
    {
      "cell_type": "code",
      "source": [],
      "metadata": {
        "id": "RKUyFAPH8nbP"
      },
      "execution_count": null,
      "outputs": []
    }
  ]
}